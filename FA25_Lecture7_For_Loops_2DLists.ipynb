{
  "nbformat": 4,
  "nbformat_minor": 0,
  "metadata": {
    "colab": {
      "provenance": [],
      "collapsed_sections": [
        "S8KBd8LWSDUY"
      ]
    },
    "kernelspec": {
      "name": "python3",
      "display_name": "Python 3"
    },
    "language_info": {
      "name": "python"
    }
  },
  "cells": [
    {
      "cell_type": "markdown",
      "source": [
        "# **Previous Lecture**"
      ],
      "metadata": {
        "id": "ZDpKWEzWNQPU"
      }
    },
    {
      "cell_type": "markdown",
      "source": [
        "# For Loop"
      ],
      "metadata": {
        "id": "HE3l_TOh9MC8"
      }
    },
    {
      "cell_type": "code",
      "source": [
        "# Create two lists\n",
        "list_of_colors = [\"red\", \"orange\", \"green\", \"red\", \"yellow\", \"blue\"]\n",
        "list_of_soup_flavors = [\"chicken noodle soup\", \"onion soup\", \"green pea soup\", \"chili beef soup\", \"vegetable soup\"]"
      ],
      "metadata": {
        "id": "k-UBKQSBiKkz"
      },
      "execution_count": null,
      "outputs": []
    },
    {
      "cell_type": "code",
      "source": [
        "# Loop through the list items with item index\n",
        "print(len(list_of_colors))\n",
        "for i in range(len(list_of_colors)): # Alternatively, you can use range(len(list_of_colors))\n",
        "  print(list_of_colors[i])"
      ],
      "metadata": {
        "id": "dDn39ZKCe3Yw",
        "colab": {
          "base_uri": "https://localhost:8080/"
        },
        "outputId": "2552f96b-555b-4f09-ac16-b5c3d5d413c3"
      },
      "execution_count": null,
      "outputs": [
        {
          "output_type": "stream",
          "name": "stdout",
          "text": [
            "6\n",
            "red\n",
            "orange\n",
            "green\n",
            "red\n",
            "yellow\n",
            "blue\n"
          ]
        }
      ]
    },
    {
      "cell_type": "code",
      "source": [
        "# Alternatively, you can directly loop through list items\n",
        "for color in list_of_colors:\n",
        "  print(color.upper())"
      ],
      "metadata": {
        "id": "zrrpVXORfnrJ",
        "colab": {
          "base_uri": "https://localhost:8080/"
        },
        "outputId": "c5b06587-ad84-45fd-be21-ab323608db78"
      },
      "execution_count": null,
      "outputs": [
        {
          "output_type": "stream",
          "name": "stdout",
          "text": [
            "RED\n",
            "ORANGE\n",
            "GREEN\n",
            "RED\n",
            "YELLOW\n",
            "BLUE\n"
          ]
        }
      ]
    },
    {
      "cell_type": "markdown",
      "source": [
        "**Practice 1: Modify the following code snippet to remove all the \"red\" items in list_of_colors**\n",
        "\n",
        "\n",
        "```\n",
        "list_of_colors = [\"red\", \"orange\", \"green\", \"red\", \"yellow\", \"red\"]\n",
        "new_list = []\n",
        "\n",
        "for item in list_of_colors:\n",
        "  # put code here\n",
        "\n",
        "print(new_list)\n",
        "```\n",
        "\n"
      ],
      "metadata": {
        "id": "TvDiVtMkd2mU"
      }
    },
    {
      "cell_type": "code",
      "source": [
        "list_of_colors = [\"red\", \"orange\", \"green\", \"red\", \"yellow\", \"red\"]\n",
        "new_list = []\n",
        "\n",
        "for item in list_of_colors:\n",
        "  if \"red\" in list_of_colors:\n",
        "    list_of_colors.remove(\"red\")\n",
        "\n",
        "print(new_list)"
      ],
      "metadata": {
        "colab": {
          "base_uri": "https://localhost:8080/"
        },
        "id": "6R8i_IR_rlgN",
        "outputId": "6ac6f6c7-27ca-4f7b-9735-7dfcc732673f"
      },
      "execution_count": null,
      "outputs": [
        {
          "output_type": "stream",
          "name": "stdout",
          "text": [
            "[]\n"
          ]
        }
      ]
    },
    {
      "cell_type": "code",
      "source": [
        "list_of_colors = [\"red\", \"orange\", \"green\", \"red\", \"yellow\", \"red\"]\n",
        "list_of_colors.remove(\"red\")\n",
        "print(list_of_colors)"
      ],
      "metadata": {
        "colab": {
          "base_uri": "https://localhost:8080/"
        },
        "id": "uslHkiYwqukz",
        "outputId": "5f510414-1daf-4c40-8054-dda8fc477013"
      },
      "execution_count": null,
      "outputs": [
        {
          "output_type": "stream",
          "name": "stdout",
          "text": [
            "['orange', 'green', 'red', 'yellow', 'red']\n"
          ]
        }
      ]
    },
    {
      "cell_type": "code",
      "source": [
        "# Run this code cell to prepare for the next code cell\n",
        "# Define lists\n",
        "list_of_colors = [\"red\", \"orange\", \"green\", \"red\", \"yellow\"]\n",
        "list_of_soup_flavors = [\"chicken noodle soup\", \"onion soup\", \"green pea soup\", \"chili beef soup\", \"vegetable soup\"]\n",
        "# Recall we wrote a function to draw cans and write soup names\n",
        "def draw_colored_can_and_write_name(can_color, soup_name):\n",
        "  print(\"I drew a \" + can_color + \" soup can\")\n",
        "  print(\"I wrote \\\"\" + soup_name + \"\\\" on the can\")"
      ],
      "metadata": {
        "id": "FfLpKalHOFPt"
      },
      "execution_count": null,
      "outputs": []
    },
    {
      "cell_type": "code",
      "source": [
        "# We can do nested for loops to draw a can and write names for every pair of color and soup flavor\n",
        "for color in list_of_colors: # outer loop header\n",
        "  for flavor in list_of_soup_flavors: # inner loop header\n",
        "    draw_colored_can_and_write_name(color, flavor)\n",
        "  print()"
      ],
      "metadata": {
        "id": "nCJlQmHOi2jP",
        "colab": {
          "base_uri": "https://localhost:8080/"
        },
        "outputId": "131ceaf5-ae6e-46fe-e390-b7655fb00ec1"
      },
      "execution_count": null,
      "outputs": [
        {
          "output_type": "stream",
          "name": "stdout",
          "text": [
            "I drew a red soup can\n",
            "I wrote \"chicken noodle soup\" on the can\n",
            "I drew a red soup can\n",
            "I wrote \"onion soup\" on the can\n",
            "I drew a red soup can\n",
            "I wrote \"green pea soup\" on the can\n",
            "I drew a red soup can\n",
            "I wrote \"chili beef soup\" on the can\n",
            "I drew a red soup can\n",
            "I wrote \"vegetable soup\" on the can\n",
            "\n",
            "I drew a orange soup can\n",
            "I wrote \"chicken noodle soup\" on the can\n",
            "I drew a orange soup can\n",
            "I wrote \"onion soup\" on the can\n",
            "I drew a orange soup can\n",
            "I wrote \"green pea soup\" on the can\n",
            "I drew a orange soup can\n",
            "I wrote \"chili beef soup\" on the can\n",
            "I drew a orange soup can\n",
            "I wrote \"vegetable soup\" on the can\n",
            "\n",
            "I drew a green soup can\n",
            "I wrote \"chicken noodle soup\" on the can\n",
            "I drew a green soup can\n",
            "I wrote \"onion soup\" on the can\n",
            "I drew a green soup can\n",
            "I wrote \"green pea soup\" on the can\n",
            "I drew a green soup can\n",
            "I wrote \"chili beef soup\" on the can\n",
            "I drew a green soup can\n",
            "I wrote \"vegetable soup\" on the can\n",
            "\n",
            "I drew a red soup can\n",
            "I wrote \"chicken noodle soup\" on the can\n",
            "I drew a red soup can\n",
            "I wrote \"onion soup\" on the can\n",
            "I drew a red soup can\n",
            "I wrote \"green pea soup\" on the can\n",
            "I drew a red soup can\n",
            "I wrote \"chili beef soup\" on the can\n",
            "I drew a red soup can\n",
            "I wrote \"vegetable soup\" on the can\n",
            "\n",
            "I drew a yellow soup can\n",
            "I wrote \"chicken noodle soup\" on the can\n",
            "I drew a yellow soup can\n",
            "I wrote \"onion soup\" on the can\n",
            "I drew a yellow soup can\n",
            "I wrote \"green pea soup\" on the can\n",
            "I drew a yellow soup can\n",
            "I wrote \"chili beef soup\" on the can\n",
            "I drew a yellow soup can\n",
            "I wrote \"vegetable soup\" on the can\n",
            "\n"
          ]
        }
      ]
    },
    {
      "cell_type": "markdown",
      "source": [
        "**Practice 2: Modify the code snippet above to loop through the first three items in list_of_colors and the first two items in list_of_soup_flavors**\n",
        "\n",
        "**Hint: use index or item to loop through lists**"
      ],
      "metadata": {
        "id": "g2hDDp_9jw3r"
      }
    },
    {
      "cell_type": "code",
      "source": [
        "# We can do nested for loops to draw a can and write names for every pair of color and soup flavor\n",
        "for color in list_of_colors[:3]: # outer loop header\n",
        "  for flavor in list_of_soup_flavors[:2]: # inner loop header\n",
        "    draw_colored_can_and_write_name(color, flavor)\n",
        "  print()"
      ],
      "metadata": {
        "id": "stpVfX7AwcDW"
      },
      "execution_count": null,
      "outputs": []
    },
    {
      "cell_type": "code",
      "source": [
        "for color_idx in range(3):\n",
        "  for flavor_idx in range(2):\n",
        "    draw_colored_can_and_write_name(list_of_colors[color_idx], list_of_soup_flavors[flavor_idx])\n",
        "  print()"
      ],
      "metadata": {
        "id": "9Mgz7dWdxFhX"
      },
      "execution_count": null,
      "outputs": []
    },
    {
      "cell_type": "code",
      "source": [
        "from google.colab import ai\n",
        "# Iteratively updating AI prompts using lists and for loops\n",
        "national_parks_colorado = [\n",
        "    \"Black Canyon of the Gunnison National Park\",\n",
        "    \"Great Sand Dunes National Park and Preserve\",\n",
        "    \"Mesa Verde National Park\",\n",
        "    \"Rocky Mountain National Park\"\n",
        "]\n",
        "national_park_introductions = [] # Initialize an empty list to store AI responses\n",
        "for park in national_parks_colorado:\n",
        "  response = ai.generate_text(f\"Please give me a one-sentence introduction for the national park {park}\")\n",
        "  national_park_introductions.append(response) # append the AI response to the list\n",
        "print(national_park_introductions)"
      ],
      "metadata": {
        "id": "TKzaGo6sfDcC",
        "colab": {
          "base_uri": "https://localhost:8080/"
        },
        "outputId": "4beff67a-d9fc-474c-c09b-44b122378f0a"
      },
      "execution_count": null,
      "outputs": [
        {
          "output_type": "stream",
          "name": "stdout",
          "text": [
            "['Black Canyon of the Gunnison National Park protects some of the steepest cliffs, oldest rock, and darkest night skies in North America.\\n', 'Great Sand Dunes National Park and Preserve protects the tallest sand dunes in North America, set against the backdrop of the Sangre de Cristo Mountains, offering a unique landscape for hiking, sandboarding, and stargazing.\\n', 'Mesa Verde National Park protects the remarkably preserved ancestral Puebloan cliff dwellings, offering a captivating glimpse into a rich and complex culture over 700 years ago.\\n', 'Rocky Mountain National Park is a stunning natural wonderland boasting dramatic mountain scenery, diverse wildlife, and pristine alpine lakes.\\n']\n"
          ]
        }
      ]
    },
    {
      "cell_type": "markdown",
      "source": [
        "# List Comprehension（Optional）"
      ],
      "metadata": {
        "id": "N6GewXRzHt-P"
      }
    },
    {
      "cell_type": "code",
      "source": [
        "# List comprehension is simpler way to create a new list based on the values of an existing list\n",
        "list_of_colors = [\"red\", \"orange\", \"green\", \"red\", \"yellow\", \"red\"]\n",
        "# We want a list of colors that only has the colors with the letter \"r\" in the color\n",
        "list_with_letter_r = [color for color in list_of_colors if \"r\" in color]\n",
        "print(list_with_letter_r)"
      ],
      "metadata": {
        "id": "oNCoVC3tgXwj",
        "colab": {
          "base_uri": "https://localhost:8080/"
        },
        "outputId": "1965ac95-7c8e-40c0-d92d-8c25b1b2cb52"
      },
      "execution_count": null,
      "outputs": [
        {
          "output_type": "stream",
          "name": "stdout",
          "text": [
            "['red', 'orange', 'green', 'red', 'red']\n"
          ]
        }
      ]
    },
    {
      "cell_type": "code",
      "source": [
        "# We want list_with_letter_r in upper case\n",
        "list_with_letter_r_upper = [item.upper() for item in list_of_colors if \"r\" in item]\n",
        "print(list_with_letter_r_upper)"
      ],
      "metadata": {
        "id": "TPRVOx2ROqiP",
        "colab": {
          "base_uri": "https://localhost:8080/"
        },
        "outputId": "bb533da5-8d00-46ae-c7c6-222bc9f1e998"
      },
      "execution_count": null,
      "outputs": [
        {
          "output_type": "stream",
          "name": "stdout",
          "text": [
            "['RED', 'ORANGE', 'GREEN', 'RED', 'RED']\n"
          ]
        }
      ]
    },
    {
      "cell_type": "markdown",
      "source": [
        "# Multi-Dimensional (2D) List"
      ],
      "metadata": {
        "id": "IAbo3AdxRutZ"
      }
    },
    {
      "cell_type": "code",
      "execution_count": null,
      "metadata": {
        "id": "Oh9wSlnFEDuy",
        "colab": {
          "base_uri": "https://localhost:8080/"
        },
        "outputId": "22890de1-9552-4c23-ff76-aa14d146b022"
      },
      "outputs": [
        {
          "output_type": "stream",
          "name": "stdout",
          "text": [
            "[[2, 4, 6, 8, 10], [3, 6, 9, 12, 15], [4, 8, 12, 16, 20]]\n"
          ]
        }
      ],
      "source": [
        "# Create a 3 * 5 matrix\n",
        "matrix_a = [[2, 4, 6, 8, 10], [3, 6, 9, 12, 15], [4, 8, 12, 16, 20]]\n",
        "print(matrix_a)"
      ]
    },
    {
      "cell_type": "code",
      "source": [
        "print(len(matrix_a))\n",
        "print(matrix_a[0])"
      ],
      "metadata": {
        "id": "D-kmuQtKkt1k",
        "colab": {
          "base_uri": "https://localhost:8080/"
        },
        "outputId": "45c87a77-91e9-4eac-a5bb-7c2ee2577c3b"
      },
      "execution_count": null,
      "outputs": [
        {
          "output_type": "stream",
          "name": "stdout",
          "text": [
            "3\n",
            "[2, 4, 6, 8, 10]\n"
          ]
        }
      ]
    },
    {
      "cell_type": "code",
      "source": [
        "# A 2D list is a simple way to represent a matrix\n",
        "# Each inner list = a row of the matrix\n",
        "# Each item inside an inner list = a cell\n",
        "# Access \"rows\" (inner lists) with loop\n",
        "for row in matrix_a:\n",
        "    print(row)"
      ],
      "metadata": {
        "id": "Oci6OTDjK1vr",
        "colab": {
          "base_uri": "https://localhost:8080/"
        },
        "outputId": "7361dbec-919a-45ca-ec76-f15f88198b8b"
      },
      "execution_count": null,
      "outputs": [
        {
          "output_type": "stream",
          "name": "stdout",
          "text": [
            "[2, 4, 6, 8, 10]\n",
            "[3, 6, 9, 12, 15]\n",
            "[4, 8, 12, 16, 20]\n"
          ]
        }
      ]
    },
    {
      "cell_type": "code",
      "source": [
        "# Alternatively we can use index to loop\n",
        "for i in range(len(matrix_a)):\n",
        "    print(matrix_a[i])"
      ],
      "metadata": {
        "id": "b74yaeHiIvIv",
        "colab": {
          "base_uri": "https://localhost:8080/"
        },
        "outputId": "fe3e2e29-6524-413f-dc8f-933b345d5e5a"
      },
      "execution_count": null,
      "outputs": [
        {
          "output_type": "stream",
          "name": "stdout",
          "text": [
            "[2, 4, 6, 8, 10]\n",
            "[3, 6, 9, 12, 15]\n",
            "[4, 8, 12, 16, 20]\n"
          ]
        }
      ]
    },
    {
      "cell_type": "code",
      "source": [
        "# Access each cell value with index in two square brackets\n",
        "# a[i][j] accesses the (i+1)-th row, (j+1)-th column\n",
        "i = 2\n",
        "j = 3\n",
        "print(matrix_a[i])\n",
        "print(matrix_a[i][j])"
      ],
      "metadata": {
        "id": "YCtyUDGfM0zb"
      },
      "execution_count": null,
      "outputs": []
    },
    {
      "cell_type": "markdown",
      "source": [
        "**Practice 3: How do we access columns of matrix_a? Write code to put its first column into a list and print the first column.**"
      ],
      "metadata": {
        "id": "sR6LLqMBLQem"
      }
    },
    {
      "cell_type": "markdown",
      "source": [
        "# **New Content**"
      ],
      "metadata": {
        "id": "PNGGiuqTNGaG"
      }
    },
    {
      "cell_type": "markdown",
      "source": [
        "# Dictionary"
      ],
      "metadata": {
        "id": "S8KBd8LWSDUY"
      }
    },
    {
      "cell_type": "code",
      "source": [
        "# Dictionaries store key: value pairs in curly brackets\n",
        "# The values in dictionary items can be of any data type\n",
        "# A key: value pair is also called an item in a dictionary\n",
        "dict_painting = {\n",
        "  \"painter\": \"Andy Warhol\", # string\n",
        "  \"title\": \"Campbell's Soup Cans\",\n",
        "  \"year\": 1962, # int\n",
        "  \"museum\": \"MoMA\",\n",
        "  \"location\": [\"Floor 4\", 412], # list\n",
        "  \"on tour\": False # boolean\n",
        "}\n",
        "print(dict_painting)\n",
        "# Use len() to get the number of items in a dictionary (items in a dictionary refer to a key:value pair)\n",
        "print(len(dict_painting))\n",
        "# The data type is 'dict'\n",
        "print(type(dict_painting))"
      ],
      "metadata": {
        "id": "NlDwV_8JWhoV"
      },
      "execution_count": null,
      "outputs": []
    },
    {
      "cell_type": "code",
      "source": [
        "# Dictionaries can't have two items with the same key\n",
        "# Duplicate keys will overwrite the existing value:\n",
        "dict_painting_dup = {\n",
        "  \"painter\": \"Andy Warhol\",\n",
        "  \"title\": \"Campbell's Soup Cans\",\n",
        "  \"year\": 1962,\n",
        "  \"museum\": \"MoMA\",\n",
        "  \"museum\": \"MET\" # the pair \"museum\": \"MoMA\" will be overwritten\n",
        "}\n",
        "print(dict_painting_dup)"
      ],
      "metadata": {
        "id": "Kq49Fo-dX8tO"
      },
      "execution_count": null,
      "outputs": []
    },
    {
      "cell_type": "code",
      "source": [
        "# Access value by putting key inside the square brackets\n",
        "dict_painting[\"painter\"]"
      ],
      "metadata": {
        "id": "0A9jjVbDYbs3"
      },
      "execution_count": null,
      "outputs": []
    },
    {
      "cell_type": "code",
      "source": [
        "# Access all the keys using keys()\n",
        "dict_painting.keys()\n",
        "# The type of dictionary keys is 'dict_keys'\n",
        "print(type(dict_painting.keys()))"
      ],
      "metadata": {
        "id": "uXpgQUt-ajhB"
      },
      "execution_count": null,
      "outputs": []
    },
    {
      "cell_type": "code",
      "source": [
        "# Access all the values using values()\n",
        "dict_painting.values()\n",
        "# The type of dictionary values is 'dict_values'\n",
        "print(type(dict_painting.values()))"
      ],
      "metadata": {
        "id": "w8s3FVaeaxTg"
      },
      "execution_count": null,
      "outputs": []
    },
    {
      "cell_type": "code",
      "source": [
        "# Access all the items using items()\n",
        "# Return each item as tuples in a list\n",
        "# Tuple: ordered, unchangeable, allow duplicates\n",
        "# View https://www.w3schools.com/python/python_tuples.asp for more information\n",
        "dict_painting.items()"
      ],
      "metadata": {
        "id": "36ntbAFsbR89"
      },
      "execution_count": null,
      "outputs": []
    },
    {
      "cell_type": "markdown",
      "source": [
        "**Practice: Check if \"painter\" is one of the keys in dict_painting. If yes, print \"yes, 'painter' is one of the keys\" and continue to check if the painter is \"Andy Warhol\". If yes, print \"the painter is correct\"; if no, print \"the painter is incorrect\".**"
      ],
      "metadata": {
        "id": "IyqtAFezcUZV"
      }
    },
    {
      "cell_type": "markdown",
      "source": [
        "**Practice: Loop through the keys of dict_painting and print every key**"
      ],
      "metadata": {
        "id": "OcrtGJDnfFW5"
      }
    },
    {
      "cell_type": "code",
      "source": [
        "# Change the value of a specific item by referring to its key\n",
        "dict_painting[\"painter\"] = \"Claude Monet\"\n",
        "dict_painting.items()"
      ],
      "metadata": {
        "id": "UN5FHAwhdhVR"
      },
      "execution_count": null,
      "outputs": []
    },
    {
      "cell_type": "code",
      "source": [
        "# Add a new key:value pair by using a new key and assigning a value to it\n",
        "# Notice \"dimension\" is a new key\n",
        "dict_painting[\"dimension\"] = [97, 163]\n",
        "dict_painting.items()"
      ],
      "metadata": {
        "id": "g6f9_9Cfd2Pa"
      },
      "execution_count": null,
      "outputs": []
    },
    {
      "cell_type": "code",
      "source": [
        "# Remove an item with a specified key \"year\"\n",
        "dict_painting.pop(\"year\")\n",
        "dict_painting.items()"
      ],
      "metadata": {
        "id": "h4Ue1JZkeduv"
      },
      "execution_count": null,
      "outputs": []
    },
    {
      "cell_type": "code",
      "source": [
        "# Loop through both keys and values using the items():\n",
        "for key, value in dict_painting.items():\n",
        "  # print key, a blank space, and value\n",
        "  print(key, value)"
      ],
      "metadata": {
        "id": "6QzFDyglfcq0"
      },
      "execution_count": null,
      "outputs": []
    }
  ]
}