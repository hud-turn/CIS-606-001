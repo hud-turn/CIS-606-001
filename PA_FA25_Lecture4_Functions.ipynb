{
  "cells": [
    {
      "cell_type": "markdown",
      "metadata": {
        "id": "gH5vVpUDww8p"
      },
      "source": [
        "**Practice 1: debug the following function sign_name**\n",
        "```\n",
        "sign_name(my_name):\n",
        "print(I signed my name: my_name)\n",
        "```\n",
        "\n"
      ]
    },
    {
      "cell_type": "code",
      "execution_count": 1,
      "metadata": {
        "colab": {
          "base_uri": "https://localhost:8080/"
        },
        "id": "bOl7uAJwE5Kx",
        "outputId": "30974092-e893-42b9-f1f8-fe39b226c73f"
      },
      "outputs": [
        {
          "name": "stdout",
          "output_type": "stream",
          "text": [
            "I signed my name:Hudson\n"
          ]
        }
      ],
      "source": [
        "def sign_name(my_name):\n",
        "    return print(\"I signed my name:\" + my_name)\n",
        "\n",
        "sign_name(\"Hudson\")"
      ]
    },
    {
      "cell_type": "markdown",
      "metadata": {
        "id": "Q5W4q1OmxjIs"
      },
      "source": [
        "**Practice 2: modify the previous function such that the default name to sign is Andy Warhol**"
      ]
    },
    {
      "cell_type": "code",
      "execution_count": 2,
      "metadata": {
        "colab": {
          "base_uri": "https://localhost:8080/"
        },
        "id": "dr0Yg-aiFeSB",
        "outputId": "749db770-eb25-4ef5-c02b-b5156b60d7ae"
      },
      "outputs": [
        {
          "name": "stdout",
          "output_type": "stream",
          "text": [
            "I signed my name: Andy Warhol\n"
          ]
        }
      ],
      "source": [
        "def sign_name(my_name = \"Andy Warhol\"):\n",
        "    return print(\"I signed my name: \" + my_name)\n",
        "\n",
        "sign_name()"
      ]
    }
  ],
  "metadata": {
    "colab": {
      "provenance": []
    },
    "kernelspec": {
      "display_name": "cis-606-001",
      "language": "python",
      "name": "python3"
    },
    "language_info": {
      "codemirror_mode": {
        "name": "ipython",
        "version": 3
      },
      "file_extension": ".py",
      "mimetype": "text/x-python",
      "name": "python",
      "nbconvert_exporter": "python",
      "pygments_lexer": "ipython3",
      "version": "3.12.3"
    }
  },
  "nbformat": 4,
  "nbformat_minor": 0
}
