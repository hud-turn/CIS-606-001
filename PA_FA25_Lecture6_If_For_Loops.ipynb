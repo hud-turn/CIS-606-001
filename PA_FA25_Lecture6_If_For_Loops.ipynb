{
  "nbformat": 4,
  "nbformat_minor": 0,
  "metadata": {
    "colab": {
      "provenance": []
    },
    "kernelspec": {
      "name": "python3",
      "display_name": "Python 3"
    },
    "language_info": {
      "name": "python"
    }
  },
  "cells": [
    {
      "cell_type": "code",
      "source": [
        "# Run this code cell to prepare for the next code cell\n",
        "# Define lists\n",
        "list_of_colors = [\"red\", \"orange\", \"green\", \"red\", \"yellow\"]\n",
        "list_of_soup_flavors = [\"chicken noodle soup\", \"onion soup\", \"green pea soup\", \"chili beef soup\", \"vegetable soup\"]\n",
        "# Recall we wrote a function to draw cans and write soup names\n",
        "def draw_colored_can_and_write_name(can_color, soup_name):\n",
        "  print(\"I drew a \" + can_color + \" soup can\")\n",
        "  print(\"I wrote \\\"\" + soup_name + \"\\\" on the can\")"
      ],
      "metadata": {
        "id": "FfLpKalHOFPt"
      },
      "execution_count": 1,
      "outputs": []
    },
    {
      "cell_type": "markdown",
      "source": [
        "**Discussion: Is the code snippet below efficient or not? Why?**\n",
        "\n",
        "**Practice 1: How would you change the code above?**\n",
        "\n",
        "**Hint: Think about functions.**"
      ],
      "metadata": {
        "id": "Y1XHxq9SGwDM"
      }
    },
    {
      "cell_type": "code",
      "source": [
        "# Use if inside if statements (nested if)\n",
        "# Notice the identations\n",
        "if len(list_of_soup_flavors) >= 5:\n",
        "  print(\"I have many soup options\")\n",
        "  if \"chicken noodle soup\" in list_of_soup_flavors:\n",
        "    print(\"And my favorite soup is here\")\n",
        "  else:\n",
        "    print(\"But my favorite soup isn't here\")\n",
        "else:\n",
        "  print(\"I don't have many soup choices\")\n",
        "  if \"chicken noodle soup\" in list_of_soup_flavors:\n",
        "    print(\"And my favorite soup is here\")\n",
        "  else:\n",
        "    print(\"But my favorite soup isn't here\")"
      ],
      "metadata": {
        "id": "aVye328iFEA-"
      },
      "execution_count": null,
      "outputs": []
    },
    {
      "cell_type": "markdown",
      "source": [
        "Awnser: The code is not efficient because it has several *`if`* elements that could be reduced down so that you are not evaluating multiple statements."
      ],
      "metadata": {
        "id": "z0Qg1eI8GAfg"
      }
    },
    {
      "cell_type": "markdown",
      "source": [
        "If I were to reduce it down I would do the following and just use two different *``if``* statements\n",
        "\n",
        "\n",
        "```\n",
        "if len(list_of_soup_flavors) >= 5:\n",
        "  print(\"I have many soup options\")\n",
        "else:\n",
        "  print(\"I don't have many soup choices\")\n",
        "\n",
        "if \"chicken noodle soup\" in list_of_soup_flavors:\n",
        "  print(\"And my favorite soup is here\")\n",
        "else:\n",
        "  print(\"But my favorite soup isn't here\")\n",
        "```\n",
        "Alternatively you could do the following using functions:\n",
        "```\n",
        "def lenOfList(listOfSoupFlavors):\n",
        "  if len(listofsoupflavors) >= 5:\n",
        "    return print(\"I have many soup options\")\n",
        "  else:\n",
        "    return print(\"I don't have many soup options\")\n",
        "  \n",
        "def favSoup(favoriteSoup):\n",
        "  if \"Chicken Noodle Soup\" in favoriteSoup:\n",
        "    return print(\"My favorite soup is here\"\n",
        "  else:\n",
        "    return print(\"My favorite soup is not here\")\n",
        "\n",
        "lenOfList(list_of_soup_flavors)\n",
        "favSoup(list_of_soup_flavors)\n",
        "```"
      ],
      "metadata": {
        "id": "pPCAn4-jGk9e"
      }
    }
  ]
}