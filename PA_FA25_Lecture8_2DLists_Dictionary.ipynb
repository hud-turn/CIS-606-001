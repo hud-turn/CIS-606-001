{
  "cells": [
    {
      "cell_type": "code",
      "execution_count": 1,
      "metadata": {
        "id": "1xJKUnYpNqNc"
      },
      "outputs": [],
      "source": [
        "matrix_a = [[2, 4, 6, 8, 10], [3, 6, 9, 12, 15], [4, 8, 12, 16, 20]]"
      ]
    },
    {
      "cell_type": "markdown",
      "metadata": {
        "id": "sR6LLqMBLQem"
      },
      "source": [
        "**Practice 1: How do we access columns of matrix_a? Write code to put its first column into a list and print the first column.**"
      ]
    },
    {
      "cell_type": "code",
      "execution_count": 3,
      "metadata": {
        "id": "s62V7gjD85zy"
      },
      "outputs": [
        {
          "name": "stdout",
          "output_type": "stream",
          "text": [
            "These are the columns in matrix a \n",
            "[2, 3, 4]\n"
          ]
        }
      ],
      "source": [
        "matrix_a = [[2, 4, 6, 8, 10], [3, 6, 9, 12, 15], [4, 8, 12, 16, 20]]\n",
        "matrix_b = []\n",
        "for i in matrix_a:\n",
        "  matrix_b.append(i[0])\n",
        "\n",
        "print(\"These are the columns in matrix a \")\n",
        "print(matrix_b)\n"
      ]
    }
  ],
  "metadata": {
    "colab": {
      "provenance": []
    },
    "kernelspec": {
      "display_name": "cis-606-001-5Hsersw2-py3.12",
      "language": "python",
      "name": "python3"
    },
    "language_info": {
      "codemirror_mode": {
        "name": "ipython",
        "version": 3
      },
      "file_extension": ".py",
      "mimetype": "text/x-python",
      "name": "python",
      "nbconvert_exporter": "python",
      "pygments_lexer": "ipython3",
      "version": "3.12.3"
    }
  },
  "nbformat": 4,
  "nbformat_minor": 0
}
