{
  "cells": [
    {
      "cell_type": "code",
      "execution_count": null,
      "metadata": {
        "id": "1xJKUnYpNqNc"
      },
      "outputs": [],
      "source": [
        "matrix_a = [[2, 4, 6, 8, 10], [3, 6, 9, 12, 15], [4, 8, 12, 16, 20]]"
      ]
    },
    {
      "cell_type": "markdown",
      "metadata": {
        "id": "sR6LLqMBLQem"
      },
      "source": [
        "**Practice 1: How do we access columns of matrix_a? Write code to put its first column into a list and print the first column.**"
      ]
    },
    {
      "cell_type": "code",
      "execution_count": null,
      "metadata": {
        "id": "s62V7gjD85zy"
      },
      "outputs": [],
      "source": [
        "matrix_a = [[2, 4, 6, 8, 10], [3, 6, 9, 12, 15], [4, 8, 12, 16, 20]]\n",
        "matrix_b = []\n",
        "for i in matrix_a:\n",
        "  matrix_b.append(i[0])\n",
        "\n",
        "print(\"These are the columns in matrix a \" + matrix_b)\n"
      ]
    }
  ],
  "metadata": {
    "colab": {
      "provenance": []
    },
    "kernelspec": {
      "display_name": "Python 3",
      "name": "python3"
    },
    "language_info": {
      "name": "python"
    }
  },
  "nbformat": 4,
  "nbformat_minor": 0
}
