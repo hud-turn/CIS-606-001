{
  "cells": [
    {
      "cell_type": "code",
      "execution_count": null,
      "metadata": {
        "colab": {
          "base_uri": "https://localhost:8080/"
        },
        "id": "k3pRUgD7MUix",
        "outputId": "2328ab9e-5814-40ab-fdb4-bd74d7385e6c"
      },
      "outputs": [
        {
          "name": "stdout",
          "output_type": "stream",
          "text": [
            "Hello World, this is a python snippet\n"
          ]
        }
      ],
      "source": [
        "print(\"Hello World, this is a python snippet\")"
      ]
    },
    {
      "cell_type": "markdown",
      "metadata": {
        "id": "ZH4D6McxMaiN"
      },
      "source": [
        "Hello World, this is a text box"
      ]
    },
    {
      "cell_type": "markdown",
      "metadata": {},
      "source": [
        "This is a test"
      ]
    }
  ],
  "metadata": {
    "colab": {
      "provenance": []
    },
    "kernelspec": {
      "display_name": "Python 3",
      "name": "python3"
    },
    "language_info": {
      "name": "python"
    }
  },
  "nbformat": 4,
  "nbformat_minor": 0
}
