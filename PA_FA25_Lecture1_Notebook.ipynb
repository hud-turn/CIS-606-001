{
  "cells": [
    {
      "cell_type": "code",
      "execution_count": 1,
      "metadata": {
        "colab": {
          "base_uri": "https://localhost:8080/"
        },
        "id": "k3pRUgD7MUix",
        "outputId": "2328ab9e-5814-40ab-fdb4-bd74d7385e6c"
      },
      "outputs": [
        {
          "name": "stdout",
          "output_type": "stream",
          "text": [
            "Hello World, this is a python snippet\n"
          ]
        }
      ],
      "source": [
        "print(\"Hello World, this is a python snippet\")"
      ]
    },
    {
      "cell_type": "markdown",
      "metadata": {
        "id": "ZH4D6McxMaiN"
      },
      "source": [
        "Hello World, this is a text box"
      ]
    },
    {
      "cell_type": "markdown",
      "metadata": {},
      "source": [
        "Haha! It works! Testing Again"
      ]
    }
  ],
  "metadata": {
    "colab": {
      "provenance": []
    },
    "kernelspec": {
      "display_name": "cis-606-001",
      "language": "python",
      "name": "python3"
    },
    "language_info": {
      "codemirror_mode": {
        "name": "ipython",
        "version": 3
      },
      "file_extension": ".py",
      "mimetype": "text/x-python",
      "name": "python",
      "nbconvert_exporter": "python",
      "pygments_lexer": "ipython3",
      "version": "3.12.3"
    }
  },
  "nbformat": 4,
  "nbformat_minor": 0
}
