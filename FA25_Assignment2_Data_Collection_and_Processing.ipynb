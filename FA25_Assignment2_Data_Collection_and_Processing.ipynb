{
  "cells": [
    {
      "cell_type": "code",
      "execution_count": 30,
      "metadata": {
        "id": "28Le_aTup7sd"
      },
      "outputs": [],
      "source": [
        "#!pip install python-dotenv"
      ]
    },
    {
      "cell_type": "code",
      "execution_count": 29,
      "metadata": {
        "id": "DnaPHjjAnfC2"
      },
      "outputs": [],
      "source": [
        "from dotenv import load_dotenv\n",
        "import os\n",
        "import requests\n",
        "import csv\n",
        "import time"
      ]
    },
    {
      "cell_type": "code",
      "execution_count": null,
      "metadata": {
        "id": "KapoXWchmuWE"
      },
      "outputs": [
        {
          "name": "stderr",
          "output_type": "stream",
          "text": [
            "UsageError: Line magic function `%%writefile` not found.\n"
          ]
        }
      ],
      "source": [
        "# You can create a .env file in any directory for your project on Windows or MacOS systems\n",
        "# %%writefile is a magic command in Google Colab (and Jupyter) that allows you to write the content of a cell directly to a file\n",
        "# You'll need to replace XXX below with your Finnhub API key\n",
        "# Please delete this cell after you create your .env file\n",
        "%%writefile \"./.env\"\n",
        "API_KEY=\"xxx\""
      ]
    },
    {
      "cell_type": "code",
      "execution_count": 31,
      "metadata": {
        "id": "_7lTwBhymNFC"
      },
      "outputs": [],
      "source": [
        "# Load the .env file\n",
        "dotenv_path = \"./.env\"\n",
        "load_dotenv(dotenv_path)\n",
        "# Access the variables\n",
        "API_KEY = os.getenv('API_KEY')"
      ]
    },
    {
      "cell_type": "code",
      "execution_count": 189,
      "metadata": {},
      "outputs": [
        {
          "name": "stdout",
          "output_type": "stream",
          "text": [
            "{'concept': 'us-gaap_Assets', 'unit': 'u_usd', 'label': 'Assets', 'value': 9679000000}\n",
            "{'concept': 'us-gaap_Assets', 'unit': 'u_usd', 'label': 'Total assets', 'value': 9311000000}\n"
          ]
        }
      ],
      "source": [
        "company = \"ntap\"\n",
        "year = 2025\n",
        "quarter = 1\n",
        "dataRequest = requests.get(\"https://finnhub.io/api/v1/stock/financials-reported\", params= {'symbol': company,'freq': 'quarterly','token':API_KEY}).json()\n",
        "if 'data' in dataRequest:\n",
        "    for report in dataRequest['data']:\n",
        "        if report[\"year\"] == year and report[\"quarter\"] == quarter:\n",
        "            for item in report['report']['bs']:\n",
        "                if item['concept'] == \"us-gaap_Assets\":\n",
        "                    print(item)\n",
        "else:\n",
        "    print(dataRequest)\n"
      ]
    },
    {
      "cell_type": "code",
      "execution_count": 194,
      "metadata": {
        "id": "KFiYBAKnos_F"
      },
      "outputs": [
        {
          "name": "stdout",
          "output_type": "stream",
          "text": [
            "15481000000.0\n"
          ]
        }
      ],
      "source": [
        "def get_quarterly_total_assets(api_key, company, year, quarter):\n",
        "    dataRequest = requests.get(\"https://finnhub.io/api/v1/stock/financials-reported\", params= {'symbol': company,'freq': 'quarterly','token':API_KEY}).json()\n",
        "\n",
        "    if 'data' in dataRequest:\n",
        "        for report in dataRequest['data']:\n",
        "            if report[\"year\"] == year and report[\"quarter\"] == quarter:\n",
        "                for item in report['report']['bs']:\n",
        "                    itemUpper = item['label'].upper()\n",
        "                    if item['concept'] == \"us-gaap_Assets\" and (item['label'].upper() == \"TOTAL ASSETS\"):\n",
        "                        return item['value']\n",
        "                    elif item['concept'] == \"us-gaap_Assets\" and item['label'].upper() == \"ASSETS\" and len(item['unit']) > 5:\n",
        "                        return item['value']\n",
        "            else:\n",
        "                continue\n",
        "    else:\n",
        "        return None\n",
        "  # Step 1: use the finnhub API to obtain \"Financials As Reported\"\n",
        "  # Please pay attention to the API rate limit. I recommend you to let the program sleep for one second after you make an API call\n",
        "  \n",
        "  # Step 2: parse the financials returned from the finnhub API to get the total assets in a specific year-quarter\n",
        "  # Total assets is reported in the balance sheets ('bs'). Total assets of a company is the value of the balance sheet item with its concept == \"us-gaap_Assets\"\n",
        "  # Also, a few exceptions may occur in this process: \n",
        "  # (1) 'data' is not a key in the returned dictionary;\n",
        "  # (2) the API does not return data for the specific year-quarter being queried;\n",
        "  # (3) the financial data in the specific year-quarter does not have total assets (i.e., no balance sheet items have its concept == \"us-gaap_Assets\")\n",
        "  \n",
        "  # You can use if statements to handle these exceptions\n",
        "  # Please listen to the lecture to get more details\n",
        "\n",
        "print(get_quarterly_total_assets(API_KEY, \"iep\", 2025, 1))"
      ]
    },
    {
      "cell_type": "code",
      "execution_count": 181,
      "metadata": {
        "id": "D812x-61n0JR"
      },
      "outputs": [
        {
          "data": {
            "text/plain": [
              "[['BBUC.TO', None, 2025, 1],\n",
              " ['DFCO', None, 2025, 1],\n",
              " ['EFSH', None, 2025, 1],\n",
              " ['ELGL', None, 2025, 1],\n",
              " ['GEGR', None, 2025, 1],\n",
              " ['GPUS', 218549000, 2025, 1],\n",
              " ['HON', 75218000000.0, 2025, 1],\n",
              " ['IEP', None, 2025, 1],\n",
              " ['IEXA', None, 2025, 1],\n",
              " ['MMM', 39951000000.0, 2025, 1],\n",
              " ['SPLP', None, 2025, 1]]"
            ]
          },
          "execution_count": 181,
          "metadata": {},
          "output_type": "execute_result"
        }
      ],
      "source": [
        "def get_peers_quarterly_total_assets(api_key, company, year, quarter):\n",
        "  empty_list = []\n",
        "  # Step 1: use the finnhub API to obtain the subIndustry peers of a focal company\n",
        "  peers = requests.get(\"https://finnhub.io/api/v1/stock/peers\", params= {'symbol':company,'grouping':'industry','token':api_key}).json()\n",
        "  for peer in peers:\n",
        "      #print(peer)\n",
        "      total_assets_data = get_quarterly_total_assets(api_key, peer, year, quarter)\n",
        "      empty_list.append([peer, total_assets_data, year, quarter])\n",
        "  sorted_list = sorted(empty_list, key=lambda x: x[0])\n",
        "  return sorted_list\n",
        "  # Step 2: for every peer company (including the focal company in the peers returned by the finnhub API)\n",
        "  # we obtain its total assets in a specific year-quarter by calling the get_quarterly_total_assets function\n",
        "\n",
        "  # Step 3: write the peer, its total assets in a specific year-quarter, year and quarter to a csv file. The csv file is named with {focal company name}.csv\n",
        "  # For Step 3: learn how to write rows to a csv file from https://www.freecodecamp.org/news/how-to-create-a-csv-file-in-python/\n",
        "  # For Step 3: you do not need to write a header in the csv file. Please see Canvas for example output files\n",
        "get_peers_quarterly_total_assets(API_KEY, \"MMM\", 2025, 1)"
      ]
    },
    {
      "cell_type": "code",
      "execution_count": 129,
      "metadata": {
        "id": "WlH7-8U6xzZN"
      },
      "outputs": [
        {
          "ename": "KeyError",
          "evalue": "'data'",
          "output_type": "error",
          "traceback": [
            "\u001b[31m---------------------------------------------------------------------------\u001b[39m",
            "\u001b[31mKeyError\u001b[39m                                  Traceback (most recent call last)",
            "\u001b[36mCell\u001b[39m\u001b[36m \u001b[39m\u001b[32mIn[129]\u001b[39m\u001b[32m, line 10\u001b[39m\n\u001b[32m      6\u001b[39m focal_company = line.strip() \u001b[38;5;66;03m# each line read from the csv file includes a newline character \"\\n\" at the end, so we use .strip() to strip the newline character from the end of the line\u001b[39;00m\n\u001b[32m      8\u001b[39m \u001b[38;5;66;03m# call the function get_peers_quarterly_total_assets to obtain the total assets of the focal company and its peers in a specific year-quarter (2025-Q1 for this assignment)\u001b[39;00m\n\u001b[32m---> \u001b[39m\u001b[32m10\u001b[39m \u001b[43mget_peers_quarterly_total_assets\u001b[49m\u001b[43m(\u001b[49m\u001b[43mapi_key\u001b[49m\u001b[43m \u001b[49m\u001b[43m=\u001b[49m\u001b[43m \u001b[49m\u001b[43mAPI_KEY\u001b[49m\u001b[43m,\u001b[49m\n\u001b[32m     11\u001b[39m \u001b[43m                            \u001b[49m\u001b[43mcompany\u001b[49m\u001b[43m \u001b[49m\u001b[43m=\u001b[49m\u001b[43m \u001b[49m\u001b[43mfocal_company\u001b[49m\u001b[43m,\u001b[49m\n\u001b[32m     12\u001b[39m \u001b[43m                            \u001b[49m\u001b[43myear\u001b[49m\u001b[43m \u001b[49m\u001b[43m=\u001b[49m\u001b[43m \u001b[49m\u001b[32;43m2025\u001b[39;49m\u001b[43m,\u001b[49m\n\u001b[32m     13\u001b[39m \u001b[43m                            \u001b[49m\u001b[43mquarter\u001b[49m\u001b[43m \u001b[49m\u001b[43m=\u001b[49m\u001b[43m \u001b[49m\u001b[32;43m1\u001b[39;49m\u001b[43m)\u001b[49m\n",
            "\u001b[36mCell\u001b[39m\u001b[36m \u001b[39m\u001b[32mIn[128]\u001b[39m\u001b[32m, line 6\u001b[39m, in \u001b[36mget_peers_quarterly_total_assets\u001b[39m\u001b[34m(api_key, company, year, quarter)\u001b[39m\n\u001b[32m      4\u001b[39m peers = requests.get(\u001b[33m\"\u001b[39m\u001b[33mhttps://finnhub.io/api/v1/stock/peers\u001b[39m\u001b[33m\"\u001b[39m, params= {\u001b[33m'\u001b[39m\u001b[33msymbol\u001b[39m\u001b[33m'\u001b[39m:\u001b[33m'\u001b[39m\u001b[33mAAPL\u001b[39m\u001b[33m'\u001b[39m,\u001b[33m'\u001b[39m\u001b[33mgrouping\u001b[39m\u001b[33m'\u001b[39m:\u001b[33m'\u001b[39m\u001b[33mindustry\u001b[39m\u001b[33m'\u001b[39m,\u001b[33m'\u001b[39m\u001b[33mtoken\u001b[39m\u001b[33m'\u001b[39m:API_KEY}).json()\n\u001b[32m      5\u001b[39m \u001b[38;5;28;01mfor\u001b[39;00m peer \u001b[38;5;129;01min\u001b[39;00m peers:\n\u001b[32m----> \u001b[39m\u001b[32m6\u001b[39m     total_assets_data = \u001b[43mget_quarterly_total_assets\u001b[49m\u001b[43m(\u001b[49m\u001b[43mapi_key\u001b[49m\u001b[43m,\u001b[49m\u001b[43m \u001b[49m\u001b[43mpeer\u001b[49m\u001b[43m,\u001b[49m\u001b[43m \u001b[49m\u001b[43myear\u001b[49m\u001b[43m,\u001b[49m\u001b[43m \u001b[49m\u001b[43mquarter\u001b[49m\u001b[43m)\u001b[49m\n\u001b[32m      7\u001b[39m     empty_list.append([peer, total_assets_data, year, quarter])\n\u001b[32m      8\u001b[39m sorted_list = \u001b[38;5;28msorted\u001b[39m(empty_list, key=\u001b[38;5;28;01mlambda\u001b[39;00m x: x[\u001b[32m0\u001b[39m])\n",
            "\u001b[36mCell\u001b[39m\u001b[36m \u001b[39m\u001b[32mIn[127]\u001b[39m\u001b[32m, line 4\u001b[39m, in \u001b[36mget_quarterly_total_assets\u001b[39m\u001b[34m(api_key, company, year, quarter)\u001b[39m\n\u001b[32m      2\u001b[39m dataRequest = requests.get(\u001b[33m\"\u001b[39m\u001b[33mhttps://finnhub.io/api/v1/stock/financials-reported\u001b[39m\u001b[33m\"\u001b[39m, params= {\u001b[33m'\u001b[39m\u001b[33msymbol\u001b[39m\u001b[33m'\u001b[39m: company,\u001b[33m'\u001b[39m\u001b[33mfreq\u001b[39m\u001b[33m'\u001b[39m: \u001b[33m'\u001b[39m\u001b[33mquarterly\u001b[39m\u001b[33m'\u001b[39m,\u001b[33m'\u001b[39m\u001b[33mtoken\u001b[39m\u001b[33m'\u001b[39m:API_KEY}).json()\n\u001b[32m      3\u001b[39m preferenceVal= \u001b[32m0\u001b[39m \n\u001b[32m----> \u001b[39m\u001b[32m4\u001b[39m \u001b[38;5;28;01mfor\u001b[39;00m report \u001b[38;5;129;01min\u001b[39;00m \u001b[43mdataRequest\u001b[49m\u001b[43m[\u001b[49m\u001b[33;43m'\u001b[39;49m\u001b[33;43mdata\u001b[39;49m\u001b[33;43m'\u001b[39;49m\u001b[43m]\u001b[49m:\n\u001b[32m      5\u001b[39m     \u001b[38;5;28;01mif\u001b[39;00m report[\u001b[33m\"\u001b[39m\u001b[33myear\u001b[39m\u001b[33m\"\u001b[39m] == year \u001b[38;5;129;01mand\u001b[39;00m report[\u001b[33m\"\u001b[39m\u001b[33mquarter\u001b[39m\u001b[33m\"\u001b[39m] == quarter:\n\u001b[32m      6\u001b[39m         \u001b[38;5;28;01mfor\u001b[39;00m item \u001b[38;5;129;01min\u001b[39;00m report[\u001b[33m'\u001b[39m\u001b[33mreport\u001b[39m\u001b[33m'\u001b[39m][\u001b[33m'\u001b[39m\u001b[33mbs\u001b[39m\u001b[33m'\u001b[39m]:\n",
            "\u001b[31mKeyError\u001b[39m: 'data'"
          ]
        }
      ],
      "source": [
        "# combine results from all requests\n",
        "with open('./Assignment2/company_symbols.csv', 'r') as f:\n",
        "    # loop through each row\n",
        "    # the delimiter is comma\n",
        "    for line in f:\n",
        "      focal_company = line.strip() # each line read from the csv file includes a newline character \"\\n\" at the end, so we use .strip() to strip the newline character from the end of the line\n",
        "\n",
        "      # call the function get_peers_quarterly_total_assets to obtain the total assets of the focal company and its peers in a specific year-quarter (2025-Q1 for this assignment)\n",
        "      \n",
        "      get_peers_quarterly_total_assets(api_key = API_KEY,\n",
        "                                  company = focal_company,\n",
        "                                  year = 2025,\n",
        "                                  quarter = 1)\n"
      ]
    }
  ],
  "metadata": {
    "colab": {
      "provenance": []
    },
    "kernelspec": {
      "display_name": "cis-606-001",
      "language": "python",
      "name": "python3"
    },
    "language_info": {
      "codemirror_mode": {
        "name": "ipython",
        "version": 3
      },
      "file_extension": ".py",
      "mimetype": "text/x-python",
      "name": "python",
      "nbconvert_exporter": "python",
      "pygments_lexer": "ipython3",
      "version": "3.12.3"
    }
  },
  "nbformat": 4,
  "nbformat_minor": 0
}
