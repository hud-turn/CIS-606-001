{
  "cells": [
    {
      "cell_type": "code",
      "execution_count": null,
      "metadata": {
        "id": "28Le_aTup7sd"
      },
      "outputs": [],
      "source": [
        "#!pip install python-dotenv"
      ]
    },
    {
      "cell_type": "code",
      "execution_count": null,
      "metadata": {
        "id": "DnaPHjjAnfC2"
      },
      "outputs": [],
      "source": [
        "from dotenv import load_dotenv\n",
        "import os\n",
        "import requests\n",
        "import csv\n",
        "import time"
      ]
    },
    {
      "cell_type": "code",
      "execution_count": null,
      "metadata": {
        "id": "KapoXWchmuWE"
      },
      "outputs": [],
      "source": [
        "# You can create a .env file in any directory for your project on Windows or MacOS systems\n",
        "# %%writefile is a magic command in Google Colab (and Jupyter) that allows you to write the content of a cell directly to a file\n",
        "# You'll need to replace XXX below with your Finnhub API key\n",
        "# Please delete this cell after you create your .env file\n",
        "%%writefile \"./.env\"\n",
        "API_KEY=\"XXX\""
      ]
    },
    {
      "cell_type": "code",
      "execution_count": null,
      "metadata": {
        "id": "_7lTwBhymNFC"
      },
      "outputs": [],
      "source": [
        "# Load the .env file\n",
        "load_dotenv(dotenv_path = \"./.env\")\n",
        "# Access the variables\n",
        "API_KEY = os.getenv('API_KEY')"
      ]
    },
    {
      "cell_type": "code",
      "execution_count": null,
      "metadata": {
        "id": "KFiYBAKnos_F"
      },
      "outputs": [],
      "source": [
        "def get_quarterly_total_assets(api_key, company, year, quarter):\n",
        "  # Step 1: use the finnhub API to obtain \"Financials As Reported\"\n",
        "  # For Step 1: Please pay attention to the API rate limit. I recommend you to let the program sleep for one second after you make an API call\n",
        "  # Step 2: parse the financials returned from the finnhub API to get the total assets in a specific year-quarter\n",
        "  # For Step 2: total assets is reported in the balance sheets ('bs'). Total assets of a company is the value of the balance sheet item with its concept == \"us-gaap_Assets\"\n",
        "\n",
        "  # For Step 2: a few exceptions may occur in this process: (1) 'data' is not a key in the returned dictionary;\n",
        "  # (2) the API does not return data for the specific year-quarter being queried;\n",
        "  # (3) the financial data in the specific year-quarter does not have total assets (i.e., no balance sheet items have its concept == \"us-gaap_Assets\")\n",
        "  # You can use if statements to handle these exceptions\n",
        "  # Please listen to the lecture to get more details"
      ]
    },
    {
      "cell_type": "code",
      "execution_count": null,
      "metadata": {
        "id": "D812x-61n0JR"
      },
      "outputs": [],
      "source": [
        "def get_peers_quarterly_total_assets(api_key, company, year, quarter):\n",
        "  # Step 1: use the finnhub API to obtain the subIndustry peers of a focal company\n",
        "\n",
        "  # Step 2: for every peer company (including the focal company in the peers returned by the finnhub API)\n",
        "  # we obtain its total assets in a specific year-quarter by calling the get_quarterly_total_assets function\n",
        "\n",
        "  # Step 3: write the peer, its total assets in a specific year-quarter, year and quarter to a csv file. The csv file is named with {focal company name}.csv\n",
        "  # For Step 3: learn how to write rows to a csv file from https://www.freecodecamp.org/news/how-to-create-a-csv-file-in-python/\n",
        "  # For Step 3: you do not need to write a header in the csv file. Please see Canvas for example output files"
      ]
    },
    {
      "cell_type": "code",
      "execution_count": null,
      "metadata": {
        "id": "WlH7-8U6xzZN"
      },
      "outputs": [],
      "source": [
        "# combine results from all requests\n",
        "with open('/content/drive/MyDrive/Colab Notebooks/company_symbols.csv', 'r') as f:\n",
        "    # loop through each row\n",
        "    # the delimiter is comma\n",
        "    for line in f:\n",
        "      focal_company = line.strip() # each line read from the csv file includes a newline character \"\\n\" at the end, so we use .strip() to strip the newline character from the end of the line\n",
        "\n",
        "      # call the function get_peers_quarterly_total_assets to obtain the total assets of the focal company and its peers in a specific year-quarter (2025-Q1 for this assignment)\n",
        "      \"\"\"\n",
        "      get_peers_quarterly_total_assets(api_key = API_KEY,\n",
        "                                  company = focal_company,\n",
        "                                  year = 2025,\n",
        "                                  quarter = 1)\n",
        "      \"\"\""
      ]
    }
  ],
  "metadata": {
    "colab": {
      "provenance": []
    },
    "kernelspec": {
      "display_name": "Python 3",
      "name": "python3"
    },
    "language_info": {
      "name": "python"
    }
  },
  "nbformat": 4,
  "nbformat_minor": 0
}
