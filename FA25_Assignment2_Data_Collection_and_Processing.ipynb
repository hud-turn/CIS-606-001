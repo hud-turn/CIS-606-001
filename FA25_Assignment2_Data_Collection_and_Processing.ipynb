{
  "cells": [
    {
      "cell_type": "code",
      "execution_count": 23,
      "metadata": {
        "colab": {
          "base_uri": "https://localhost:8080/"
        },
        "id": "28Le_aTup7sd",
        "outputId": "1c2982c9-536a-4748-a9cc-7c6611080655"
      },
      "outputs": [
        {
          "name": "stdout",
          "output_type": "stream",
          "text": [
            "\u001b[1;31merror\u001b[0m: \u001b[1mexternally-managed-environment\u001b[0m\n",
            "\n",
            "\u001b[31m×\u001b[0m This environment is externally managed\n",
            "\u001b[31m╰─>\u001b[0m To install Python packages system-wide, try apt install\n",
            "\u001b[31m   \u001b[0m python3-xyz, where xyz is the package you are trying to\n",
            "\u001b[31m   \u001b[0m install.\n",
            "\u001b[31m   \u001b[0m \n",
            "\u001b[31m   \u001b[0m If you wish to install a non-Debian-packaged Python package,\n",
            "\u001b[31m   \u001b[0m create a virtual environment using python3 -m venv path/to/venv.\n",
            "\u001b[31m   \u001b[0m Then use path/to/venv/bin/python and path/to/venv/bin/pip. Make\n",
            "\u001b[31m   \u001b[0m sure you have python3-full installed.\n",
            "\u001b[31m   \u001b[0m \n",
            "\u001b[31m   \u001b[0m If you wish to install a non-Debian packaged Python application,\n",
            "\u001b[31m   \u001b[0m it may be easiest to use pipx install xyz, which will manage a\n",
            "\u001b[31m   \u001b[0m virtual environment for you. Make sure you have pipx installed.\n",
            "\u001b[31m   \u001b[0m \n",
            "\u001b[31m   \u001b[0m See /usr/share/doc/python3.12/README.venv for more information.\n",
            "\n",
            "\u001b[1;35mnote\u001b[0m: If you believe this is a mistake, please contact your Python installation or OS distribution provider. You can override this, at the risk of breaking your Python installation or OS, by passing --break-system-packages.\n",
            "\u001b[1;36mhint\u001b[0m: See PEP 668 for the detailed specification.\n"
          ]
        }
      ],
      "source": [
        "!pip install python-dotenv"
      ]
    },
    {
      "cell_type": "code",
      "execution_count": 24,
      "metadata": {
        "id": "DnaPHjjAnfC2"
      },
      "outputs": [],
      "source": [
        "from dotenv import load_dotenv\n",
        "import os\n",
        "import requests\n",
        "import csv\n",
        "import time"
      ]
    },
    {
      "cell_type": "code",
      "execution_count": null,
      "metadata": {
        "id": "_7lTwBhymNFC"
      },
      "outputs": [],
      "source": [
        "# Load the .env file\n",
        "load_dotenv(dotenv_path = \".env\")\n",
        "# Access the variables\n",
        "API_KEY = os.getenv('API_KEY')"
      ]
    },
    {
      "cell_type": "code",
      "execution_count": 20,
      "metadata": {
        "id": "KFiYBAKnos_F"
      },
      "outputs": [],
      "source": [
        "def get_quarterly_total_assets(api_key, company, year, quarter):\n",
        "    # Step 1: use the finnhub API to obtain \"Financials As Reported\"\n",
        "    # Please pay attention to the API rate limit. I recommend you to let the program sleep for one second after you make an API call\n",
        "    dataRequest = requests.get(\"https://finnhub.io/api/v1/stock/financials-reported\", params= {'symbol': company,'freq': 'quarterly','token':api_key}).json()\n",
        "    time.sleep(2)  # to respect the API rate limit\n",
        "\n",
        "    # Step 2: parse the financials returned from the finnhub API to get the total assets in a specific year-quarter\n",
        "    #Total assets is reported in the balance sheets ('bs'). Total assets of a company is the value of the balance sheet item with its concept == \"us-gaap_Assets\"\n",
        "    #Also, a few exceptions may occur in this process:\n",
        "    # (1) 'data' is not a key in the returned dictionary;\n",
        "    # (2) the API does not return data for the specific year-quarter being queried;\n",
        "    # (3) the financial data in the specific year-quarter does not have total assets (i.e., no balance sheet items have its concept == \"us-gaap_Assets\")\n",
        "    # You can use if statements to handle these exceptions\n",
        "    # Please listen to the lecture to get more details\n",
        "    if 'data' in dataRequest:\n",
        "        for report in dataRequest['data']:\n",
        "            if report[\"year\"] == year and report[\"quarter\"] == quarter:\n",
        "                for item in report['report']['bs']:\n",
        "                    itemUpper = item['label'].upper()\n",
        "                    if item['concept'] == \"us-gaap_Assets\" and ((item['label'] == \"TOTAL ASSETS\") or item['label'] == \"Total Assets\" or item['label'] == \"Total assets\" or item['label'] == \"total assets\"):\n",
        "                        return item['value']\n",
        "                    elif item['concept'] == \"us-gaap_Assets\" and item['label'].upper() == \"ASSETS\" and len(item['unit']) > 5: # This line was added because I noticed that a few entries in the AAPL output were using assets instead of total assets for some reason.\n",
        "                        return item['value']\n",
        "            else:\n",
        "                continue\n",
        "    else:\n",
        "        return None\n"
      ]
    },
    {
      "cell_type": "code",
      "execution_count": null,
      "metadata": {
        "id": "D812x-61n0JR"
      },
      "outputs": [],
      "source": [
        "def get_peers_quarterly_total_assets(api_key, company, year, quarter):\n",
        "  # Step 1: use the finnhub API to obtain the subIndustry peers of a focal company\n",
        "  peers = requests.get(\"https://finnhub.io/api/v1/stock/peers\", params= {'symbol':company,'grouping':'subIndustry','token':api_key}).json()\n",
        "  for peer in peers:\n",
        "      #print(peer)\n",
        "\n",
        "      # Step 2: for every peer company (including the focal company in the peers returned by the finnhub API)\n",
        "      # we obtain its total assets in a specific year-quarter by calling the get_quarterly_total_assets function\n",
        "      total_assets_data = get_quarterly_total_assets(api_key, peer, year, quarter)\n",
        "\n",
        "      # Step 3: write the peer, its total assets in a specific year-quarter, year and quarter to a csv file. The csv file is named with {focal company name}.csv\n",
        "      # For Step 3: learn how to write rows to a csv file from https://www.freecodecamp.org/news/how-to-create-a-csv-file-in-python/\n",
        "      # For Step 3: you do not need to write a header in the csv file. Please see Canvas for example output files\n",
        "      with open(f\"./Assignment2/output/{company}.csv\", mode='a', newline='') as file:\n",
        "          writer = csv.writer(file)\n",
        "          writer.writerow([peer, total_assets_data, year, quarter])\n",
        "          file.close()\n"
      ]
    },
    {
      "cell_type": "code",
      "execution_count": null,
      "metadata": {
        "id": "WlH7-8U6xzZN"
      },
      "outputs": [],
      "source": [
        "# combine results from all requests\n",
        "with open('./Assignment2/company_symbols.csv', 'r') as f:\n",
        "    # loop through each row\n",
        "    # the delimiter is comma\n",
        "    for line in f:\n",
        "      focal_company = line.strip() # each line read from the csv file includes a newline character \"\\n\" at the end, so we use .strip() to strip the newline character from the end of the line\n",
        "\n",
        "      # call the function get_peers_quarterly_total_assets to obtain the total assets of the focal company and its peers in a specific year-quarter (2025-Q1 for this assignment)\n",
        "      get_peers_quarterly_total_assets(api_key = API_KEY,\n",
        "                                  company = focal_company,\n",
        "                                  year = 2025,\n",
        "                                  quarter = 1)\n"
      ]
    }
  ],
  "metadata": {
    "colab": {
      "provenance": []
    },
    "kernelspec": {
      "display_name": "Python 3",
      "name": "python3"
    },
    "language_info": {
      "name": "python"
    }
  },
  "nbformat": 4,
  "nbformat_minor": 0
}
