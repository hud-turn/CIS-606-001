{
  "cells": [
    {
      "cell_type": "code",
      "execution_count": 30,
      "metadata": {
        "id": "28Le_aTup7sd"
      },
      "outputs": [],
      "source": [
        "#!pip install python-dotenv"
      ]
    },
    {
      "cell_type": "code",
      "execution_count": 29,
      "metadata": {
        "id": "DnaPHjjAnfC2"
      },
      "outputs": [],
      "source": [
        "from dotenv import load_dotenv\n",
        "import os\n",
        "import requests\n",
        "import csv\n",
        "import time"
      ]
    },
    {
      "cell_type": "code",
      "execution_count": null,
      "metadata": {
        "id": "KapoXWchmuWE"
      },
      "outputs": [
        {
          "name": "stderr",
          "output_type": "stream",
          "text": [
            "UsageError: Line magic function `%%writefile` not found.\n"
          ]
        }
      ],
      "source": [
        "# You can create a .env file in any directory for your project on Windows or MacOS systems\n",
        "# %%writefile is a magic command in Google Colab (and Jupyter) that allows you to write the content of a cell directly to a file\n",
        "# You'll need to replace XXX below with your Finnhub API key\n",
        "# Please delete this cell after you create your .env file\n",
        "%%writefile \"./.env\"\n",
        "API_KEY=\"xxx\""
      ]
    },
    {
      "cell_type": "code",
      "execution_count": 31,
      "metadata": {
        "id": "_7lTwBhymNFC"
      },
      "outputs": [],
      "source": [
        "# Load the .env file\n",
        "dotenv_path = \"./.env\"\n",
        "load_dotenv(dotenv_path)\n",
        "# Access the variables\n",
        "API_KEY = os.getenv('API_KEY')"
      ]
    },
    {
      "cell_type": "code",
      "execution_count": null,
      "metadata": {
        "id": "KFiYBAKnos_F"
      },
      "outputs": [
        {
          "name": "stdout",
          "output_type": "stream",
          "text": [
            "59868070000\n"
          ]
        }
      ],
      "source": [
        "def get_quarterly_total_assets(api_key, company, year, quarter):\n",
        "    # Step 1: use the finnhub API to obtain \"Financials As Reported\"\n",
        "    # Please pay attention to the API rate limit. I recommend you to let the program sleep for one second after you make an API call\n",
        "    dataRequest = requests.get(\"https://finnhub.io/api/v1/stock/financials-reported\", params= {'symbol': company,'freq': 'quarterly','token':API_KEY}).json()\n",
        "    time.sleep(2)  # to respect the API rate limit\n",
        "\n",
        "    # Step 2: parse the financials returned from the finnhub API to get the total assets in a specific year-quarter\n",
        "    #Total assets is reported in the balance sheets ('bs'). Total assets of a company is the value of the balance sheet item with its concept == \"us-gaap_Assets\"\n",
        "    #Also, a few exceptions may occur in this process:\n",
        "    # (1) 'data' is not a key in the returned dictionary; \n",
        "    # (2) the API does not return data for the specific year-quarter being queried;\n",
        "    # (3) the financial data in the specific year-quarter does not have total assets (i.e., no balance sheet items have its concept == \"us-gaap_Assets\")\n",
        "    # You can use if statements to handle these exceptions\n",
        "    # Please listen to the lecture to get more details\n",
        "    if 'data' in dataRequest:\n",
        "        for report in dataRequest['data']:\n",
        "            if report[\"year\"] == year and report[\"quarter\"] == quarter:\n",
        "                for item in report['report']['bs']:\n",
        "                    itemUpper = item['label'].upper()\n",
        "                    if item['concept'] == \"us-gaap_Assets\" and ((item['label'] == \"TOTAL ASSETS\") or item['label'] == \"Total Assets\" or item['label'] == \"Total assets\" or item['label'] == \"total assets\"):\n",
        "                        return item['value']\n",
        "                    elif item['concept'] == \"us-gaap_Assets\" and item['label'].upper() == \"ASSETS\" and len(item['unit']) > 5:\n",
        "                        return item['value']\n",
        "            else:\n",
        "                continue\n",
        "    else:\n",
        "        return None\n",
        "  \n",
        "  \n",
        "  \n",
        "\n",
        "print(get_quarterly_total_assets(API_KEY, \"ACN\", 2025, 1))"
      ]
    },
    {
      "cell_type": "code",
      "execution_count": 246,
      "metadata": {
        "id": "D812x-61n0JR"
      },
      "outputs": [
        {
          "name": "stdout",
          "output_type": "stream",
          "text": [
            "[['AAPL', 344085000000, 2025, 1], ['DELL', 80190000000, 2025, 1], ['WDC', 24771000000, 2025, 1], ['PSTG', 3623610000, 2025, 1], ['HPE', 70327000000, 2025, 1], ['SMCI', 10851383000, 2025, 1], ['SNDK', None, 2025, 1], ['HPQ', 38930000000, 2025, 1], ['NTAP', 9311000000, 2025, 1], ['IONQ', 850074000, 2025, 1], ['QUBT', None, 2025, 1], ['CMPO', 292323000.0, 2025, 1]]\n"
          ]
        }
      ],
      "source": [
        "def get_peers_quarterly_total_assets(api_key, company, year, quarter):\n",
        "  empty_list = []\n",
        "  # Step 1: use the finnhub API to obtain the subIndustry peers of a focal company\n",
        "  peers = requests.get(\"https://finnhub.io/api/v1/stock/peers\", params= {'symbol':company,'grouping':'subIndustry','token':API_KEY}).json() \n",
        "  for peer in peers:\n",
        "      #print(peer)\n",
        "      total_assets_data = get_quarterly_total_assets(api_key, peer, year, quarter)\n",
        "      empty_list.append([peer, total_assets_data, year, quarter])\n",
        "  return print(empty_list)\n",
        "  # Step 2: for every peer company (including the focal company in the peers returned by the finnhub API)\n",
        "  # we obtain its total assets in a specific year-quarter by calling the get_quarterly_total_assets function\n",
        "\n",
        "  # Step 3: write the peer, its total assets in a specific year-quarter, year and quarter to a csv file. The csv file is named with {focal company name}.csv\n",
        "  # For Step 3: learn how to write rows to a csv file from https://www.freecodecamp.org/news/how-to-create-a-csv-file-in-python/\n",
        "  # For Step 3: you do not need to write a header in the csv file. Please see Canvas for example output files\n",
        "get_peers_quarterly_total_assets(API_KEY, \"AAPL\", 2025, 1)"
      ]
    },
    {
      "cell_type": "code",
      "execution_count": null,
      "metadata": {
        "id": "WlH7-8U6xzZN"
      },
      "outputs": [
        {
          "name": "stdout",
          "output_type": "stream",
          "text": [
            "[['AAPL', 344085000000, 2025, 1], ['DELL', 80190000000, 2025, 1], ['WDC', 24771000000, 2025, 1], ['PSTG', 3623610000, 2025, 1], ['HPE', 70327000000, 2025, 1], ['SMCI', 10851383000, 2025, 1], ['SNDK', None, 2025, 1], ['HPQ', 38930000000, 2025, 1], ['NTAP', 9311000000, 2025, 1], ['IONQ', 850074000, 2025, 1], ['QUBT', None, 2025, 1], ['CMPO', 292323000.0, 2025, 1]]\n",
            "[['HON', 75218000000.0, 2025, 1], ['MMM', 39951000000.0, 2025, 1], ['BBUC.TO', None, 2025, 1], ['IEP', 15481000000.0, 2025, 1], ['SPLP', None, 2025, 1], ['GPUS', 218549000, 2025, 1], ['DFCO', None, 2025, 1], ['EFSH', None, 2025, 1], ['GEGR', None, 2025, 1], ['ELGL', None, 2025, 1], ['IEXA', None, 2025, 1]]\n"
          ]
        }
      ],
      "source": [
        "# combine results from all requests\n",
        "with open('./Assignment2/company_symbols.csv', 'r') as f:\n",
        "    # loop through each row\n",
        "    # the delimiter is comma\n",
        "    for line in f:\n",
        "      focal_company = line.strip() # each line read from the csv file includes a newline character \"\\n\" at the end, so we use .strip() to strip the newline character from the end of the line\n",
        "\n",
        "      # call the function get_peers_quarterly_total_assets to obtain the total assets of the focal company and its peers in a specific year-quarter (2025-Q1 for this assignment)\n",
        "      get_peers_quarterly_total_assets(api_key = API_KEY,\n",
        "                                  company = focal_company,\n",
        "                                  year = 2025,\n",
        "                                  quarter = 1)\n"
      ]
    }
  ],
  "metadata": {
    "colab": {
      "provenance": []
    },
    "kernelspec": {
      "display_name": "cis-606-001",
      "language": "python",
      "name": "python3"
    },
    "language_info": {
      "codemirror_mode": {
        "name": "ipython",
        "version": 3
      },
      "file_extension": ".py",
      "mimetype": "text/x-python",
      "name": "python",
      "nbconvert_exporter": "python",
      "pygments_lexer": "ipython3",
      "version": "3.12.3"
    }
  },
  "nbformat": 4,
  "nbformat_minor": 0
}
