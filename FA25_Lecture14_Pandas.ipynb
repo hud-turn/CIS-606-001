{
  "nbformat": 4,
  "nbformat_minor": 0,
  "metadata": {
    "colab": {
      "provenance": [],
      "collapsed_sections": [
        "M-bcGH7IX4FT",
        "7AnbG-EIZ0Hq",
        "909IFyzofp7G",
        "c9PNFjIOpOAH"
      ]
    },
    "kernelspec": {
      "name": "python3",
      "display_name": "Python 3"
    },
    "language_info": {
      "name": "python"
    }
  },
  "cells": [
    {
      "cell_type": "markdown",
      "source": [
        "# Pandas Series"
      ],
      "metadata": {
        "id": "vMgudOQEIDAi"
      }
    },
    {
      "cell_type": "code",
      "source": [
        "# Create an alias with the as keyword while importing\n",
        "# Now you can refer to the Pandas package as pd instead of pandas\n",
        "import pandas as pd"
      ],
      "metadata": {
        "id": "IBfys4iyIAWw"
      },
      "execution_count": null,
      "outputs": []
    },
    {
      "cell_type": "code",
      "source": [
        "# A Pandas Series is like a column in a table\n",
        "list_of_songs = [\"Flowers\", \"As it Was\", \"Anti-Hero\", \"Eyes Closed\", \"Just the Way You Are\"]\n",
        "myfav = pd.Series(list_of_songs)\n",
        "print(myfav) # Notice the values are labeled with their integer indices by default (i.e., first value has index 0, second value has index 1, etc.)\n",
        "print(type(myfav)) # Its type is pandas series"
      ],
      "metadata": {
        "id": "WPvUnXpQIFuI",
        "colab": {
          "base_uri": "https://localhost:8080/"
        },
        "outputId": "617f4624-675d-4c64-f211-9cf97a54711b"
      },
      "execution_count": null,
      "outputs": [
        {
          "output_type": "stream",
          "name": "stdout",
          "text": [
            "0                 Flowers\n",
            "1               As it Was\n",
            "2               Anti-Hero\n",
            "3             Eyes Closed\n",
            "4    Just the Way You Are\n",
            "dtype: object\n",
            "<class 'pandas.core.series.Series'>\n"
          ]
        }
      ]
    },
    {
      "cell_type": "code",
      "source": [
        "# This label can be used to access a specific value\n",
        "print(myfav[0])"
      ],
      "metadata": {
        "id": "vWW3fwj9KtlO",
        "colab": {
          "base_uri": "https://localhost:8080/"
        },
        "outputId": "55ab0c4d-01b3-4a36-d3e6-bae8aba0b0cd"
      },
      "execution_count": null,
      "outputs": [
        {
          "output_type": "stream",
          "name": "stdout",
          "text": [
            "Flowers\n"
          ]
        }
      ]
    },
    {
      "cell_type": "code",
      "source": [
        "# You can name your own labels With the index argument\n",
        "myfav = pd.Series(list_of_songs, index = [\"a\", \"b\", \"c\", \"d\", \"e\"])\n",
        "print(myfav)"
      ],
      "metadata": {
        "id": "V1UqbA_WK5Mu",
        "colab": {
          "base_uri": "https://localhost:8080/"
        },
        "outputId": "8b6462b0-9250-4bc0-9d8d-f47ad87d1fee"
      },
      "execution_count": null,
      "outputs": [
        {
          "output_type": "stream",
          "name": "stdout",
          "text": [
            "a                 Flowers\n",
            "b               As it Was\n",
            "c               Anti-Hero\n",
            "d             Eyes Closed\n",
            "e    Just the Way You Are\n",
            "dtype: object\n"
          ]
        }
      ]
    },
    {
      "cell_type": "code",
      "source": [
        "# Access an item by referring to the label if you have created labels\n",
        "print(myfav[\"b\"])"
      ],
      "metadata": {
        "id": "Z7pqyurHLcF5",
        "colab": {
          "base_uri": "https://localhost:8080/"
        },
        "outputId": "caaa644e-2d16-4d85-a0a3-d24e109e6a19"
      },
      "execution_count": null,
      "outputs": [
        {
          "output_type": "stream",
          "name": "stdout",
          "text": [
            "As it Was\n"
          ]
        }
      ]
    },
    {
      "cell_type": "code",
      "source": [
        "# Create a Pandas series from a dictionary (i.e., key/value objects)\n",
        "song_length_in_seconds = {\"Flowers\": 201, \"As it Was\": 163, \"Anti-Hero\": 201, \"Eyes Closed\": 194, \"Just the Way You Are\": 221}\n",
        "song_info = pd.Series(song_length_in_seconds)\n",
        "print(song_info) # Note: The keys of the dictionary become the labels"
      ],
      "metadata": {
        "id": "kGli3kJpMPlV",
        "colab": {
          "base_uri": "https://localhost:8080/"
        },
        "outputId": "bb541965-2b2d-4b0d-e69c-0862c7e3318f"
      },
      "execution_count": null,
      "outputs": [
        {
          "output_type": "stream",
          "name": "stdout",
          "text": [
            "Flowers                 201\n",
            "As it Was               163\n",
            "Anti-Hero               201\n",
            "Eyes Closed             194\n",
            "Just the Way You Are    221\n",
            "dtype: int64\n"
          ]
        }
      ]
    },
    {
      "cell_type": "code",
      "source": [
        "song_info = pd.Series(song_length_in_seconds, index = [\"a\", \"b\", \"c\", \"d\", \"e\"])\n",
        "print(song_info)"
      ],
      "metadata": {
        "colab": {
          "base_uri": "https://localhost:8080/"
        },
        "id": "1Nu7qvEvpU5h",
        "outputId": "ed623c99-c3a3-46da-e902-98d408d6ce08"
      },
      "execution_count": null,
      "outputs": [
        {
          "output_type": "stream",
          "name": "stdout",
          "text": [
            "Flowers    201.0\n",
            "b            NaN\n",
            "c            NaN\n",
            "d            NaN\n",
            "e            NaN\n",
            "dtype: float64\n"
          ]
        }
      ]
    },
    {
      "cell_type": "markdown",
      "source": [
        "**Discussion: Explain why park_info has four elements instead of five**"
      ],
      "metadata": {
        "id": "2oGI9CaWOqga"
      }
    },
    {
      "cell_type": "code",
      "source": [
        "fav_parks = {\"AZ\": \"Grand Canyon\", \"Utah\": \"Canyonlands\", \"CO\": \"Rocky Mountain\", \"HI\": \"Hawaii Volcanoes\", \"Utah\": \"Arches\"}\n",
        "park_info = pd.Series(fav_parks)\n",
        "# Get the number of elements in a Pandas series\n",
        "print(park_info.size)"
      ],
      "metadata": {
        "id": "xBl4oE6UOr1k",
        "colab": {
          "base_uri": "https://localhost:8080/"
        },
        "outputId": "da11abec-1ca9-4057-87ce-f38c91c9718b"
      },
      "execution_count": null,
      "outputs": [
        {
          "output_type": "stream",
          "name": "stdout",
          "text": [
            "4\n"
          ]
        }
      ]
    },
    {
      "cell_type": "markdown",
      "source": [
        "# Pandas Dataframes"
      ],
      "metadata": {
        "id": "pTp_O1KQQ3sF"
      }
    },
    {
      "cell_type": "code",
      "source": [
        "# A Pandas DataFrame is a 2 dimensional data structure, like a table with rows and columns\n",
        "songs_data = {\n",
        "  \"name\": [\"Flowers\", \"As it Was\", \"Anti-Hero\", \"Eyes Closed\", \"Just the Way You Are\"],\n",
        "  \"length_in_seconds\": [201, 163, 201, 194, 221],\n",
        "  \"release_year\": [2023, 2022, 2022, 2023, 2010]\n",
        "}\n",
        "# Load songs_data into a DataFrame object\n",
        "songs_df = pd.DataFrame(songs_data)\n",
        "print(songs_df) # Notice the values are labeled with their integer indices by default (i.e., first value has index 0, second value has index 1, etc.)"
      ],
      "metadata": {
        "id": "hIe-kMEdQ77i",
        "colab": {
          "base_uri": "https://localhost:8080/"
        },
        "outputId": "2eefa651-ea40-4103-8fd7-9723eea70360"
      },
      "execution_count": null,
      "outputs": [
        {
          "output_type": "stream",
          "name": "stdout",
          "text": [
            "                   name  length_in_seconds  release_year\n",
            "0               Flowers                201          2023\n",
            "1             As it Was                163          2022\n",
            "2             Anti-Hero                201          2022\n",
            "3           Eyes Closed                194          2023\n",
            "4  Just the Way You Are                221          2010\n"
          ]
        }
      ]
    },
    {
      "cell_type": "code",
      "source": [
        "# Add a list of labels to give each row a label with the index argument\n",
        "songs_df_letter_label = pd.DataFrame(songs_data, index = [\"a\", \"b\", \"c\", \"d\", \"e\"])\n",
        "print(songs_df_letter_label)"
      ],
      "metadata": {
        "id": "GnMu-zaPSAIq",
        "colab": {
          "base_uri": "https://localhost:8080/"
        },
        "outputId": "e589ae9e-ad31-42e5-c4c5-2a1548df9b78"
      },
      "execution_count": null,
      "outputs": [
        {
          "output_type": "stream",
          "name": "stdout",
          "text": [
            "                   name  length_in_seconds  release_year\n",
            "a               Flowers                201          2023\n",
            "b             As it Was                163          2022\n",
            "c             Anti-Hero                201          2022\n",
            "d           Eyes Closed                194          2023\n",
            "e  Just the Way You Are                221          2010\n"
          ]
        }
      ]
    },
    {
      "cell_type": "markdown",
      "source": [
        "# Locate Rows and Columns Using loc to Specify **Labels**"
      ],
      "metadata": {
        "id": "eTn-LkZJTOGR"
      }
    },
    {
      "cell_type": "code",
      "source": [
        "# Use loc to return one or more row(s) by labels\n",
        "print(songs_df.loc[0])"
      ],
      "metadata": {
        "id": "6OU4nltWTTu1",
        "colab": {
          "base_uri": "https://localhost:8080/"
        },
        "outputId": "9a003382-3910-4da9-f33a-bc94895602df"
      },
      "execution_count": null,
      "outputs": [
        {
          "output_type": "stream",
          "name": "stdout",
          "text": [
            "name                 Flowers\n",
            "length_in_seconds        201\n",
            "release_year            2023\n",
            "Name: 0, dtype: object\n"
          ]
        }
      ]
    },
    {
      "cell_type": "code",
      "source": [
        "# Use a list of labels to return Row 0, 1 and 2\n",
        "print(songs_df.loc[[0, 1, 2]])"
      ],
      "metadata": {
        "id": "kXe1sl7FUz3x",
        "colab": {
          "base_uri": "https://localhost:8080/"
        },
        "outputId": "61723d1f-e0ab-4c87-ec4c-bfab1c68daf1"
      },
      "execution_count": null,
      "outputs": [
        {
          "output_type": "stream",
          "name": "stdout",
          "text": [
            "        name  length_in_seconds  release_year\n",
            "0    Flowers                201          2023\n",
            "1  As it Was                163          2022\n",
            "2  Anti-Hero                201          2022\n"
          ]
        }
      ]
    },
    {
      "cell_type": "code",
      "source": [
        "# Specify multiple rows of the DataFrame with from and to labels separated by a colon\n",
        "print(songs_df.loc[0: 2]) # Notice: both from and to lables are included in the result when using loc (i.e. to specify labels)"
      ],
      "metadata": {
        "id": "tpADlMIBXMkV",
        "colab": {
          "base_uri": "https://localhost:8080/"
        },
        "outputId": "3057b314-e87b-4400-ec2f-1ae191486494"
      },
      "execution_count": null,
      "outputs": [
        {
          "output_type": "stream",
          "name": "stdout",
          "text": [
            "        name  length_in_seconds  release_year\n",
            "0    Flowers                201          2023\n",
            "1  As it Was                163          2022\n",
            "2  Anti-Hero                201          2022\n"
          ]
        }
      ]
    },
    {
      "cell_type": "code",
      "source": [
        "# Use loc to specify columns by including their labels in another list\n",
        "print(songs_df.loc[[0, 1],['name', 'release_year'] ])"
      ],
      "metadata": {
        "id": "gnng3aoFWaNG",
        "colab": {
          "base_uri": "https://localhost:8080/"
        },
        "outputId": "b8df10e0-359d-44a6-f6ef-c183f8f73d6f"
      },
      "execution_count": null,
      "outputs": [
        {
          "output_type": "stream",
          "name": "stdout",
          "text": [
            "        name  release_year\n",
            "0    Flowers          2023\n",
            "1  As it Was          2022\n"
          ]
        }
      ]
    },
    {
      "cell_type": "code",
      "source": [
        "# Use : to represent all the row labels\n",
        "print(songs_df.loc[:, ['name', 'release_year']])"
      ],
      "metadata": {
        "id": "nEq6c92Ezj4g"
      },
      "execution_count": null,
      "outputs": []
    },
    {
      "cell_type": "code",
      "source": [
        "# Alternatively, Use [] to access one column by labels\n",
        "print(songs_df['name'])"
      ],
      "metadata": {
        "id": "Ub1tYB8cOhOB"
      },
      "execution_count": null,
      "outputs": []
    },
    {
      "cell_type": "code",
      "source": [
        "print(songs_df[['name', 'release_year']])"
      ],
      "metadata": {
        "colab": {
          "base_uri": "https://localhost:8080/"
        },
        "id": "6-epTxGuuQT-",
        "outputId": "8c2dd81b-e3ef-48b6-87a0-4ac0e61898bb"
      },
      "execution_count": null,
      "outputs": [
        {
          "output_type": "stream",
          "name": "stdout",
          "text": [
            "                   name  release_year\n",
            "0               Flowers          2023\n",
            "1             As it Was          2022\n",
            "2             Anti-Hero          2022\n",
            "3           Eyes Closed          2023\n",
            "4  Just the Way You Are          2010\n"
          ]
        }
      ]
    },
    {
      "cell_type": "markdown",
      "source": [
        "**Practice 1: Explain why the following code returns an error and debug it with loc**"
      ],
      "metadata": {
        "id": "2-e-SE3aVQcT"
      }
    },
    {
      "cell_type": "code",
      "source": [
        "print(songs_df_letter_label.loc[[0, 1]])"
      ],
      "metadata": {
        "id": "d3hnttJfVCGl"
      },
      "execution_count": null,
      "outputs": []
    },
    {
      "cell_type": "code",
      "source": [
        "print(songs_df_letter_label.loc[[\"a\", \"b\"]])"
      ],
      "metadata": {
        "colab": {
          "base_uri": "https://localhost:8080/"
        },
        "id": "1Rh6OZnrvS2K",
        "outputId": "2b4b20ff-8f96-43ec-bdf5-022fa9a762f0"
      },
      "execution_count": null,
      "outputs": [
        {
          "output_type": "stream",
          "name": "stdout",
          "text": [
            "        name  length_in_seconds  release_year\n",
            "a    Flowers                201          2023\n",
            "b  As it Was                163          2022\n"
          ]
        }
      ]
    },
    {
      "cell_type": "markdown",
      "source": [
        "**Practice 2: Explain why the following code returns an error and fix it**"
      ],
      "metadata": {
        "id": "LQhsetfeNaX0"
      }
    },
    {
      "cell_type": "code",
      "source": [
        "print(songs_df['name', 'release_year'])"
      ],
      "metadata": {
        "id": "EYEiLx0NNfo8"
      },
      "execution_count": null,
      "outputs": []
    },
    {
      "cell_type": "code",
      "source": [
        "print(songs_df[['name', 'release_year']])"
      ],
      "metadata": {
        "colab": {
          "base_uri": "https://localhost:8080/"
        },
        "id": "IDu0NJkqviin",
        "outputId": "b808c472-54c1-4be4-c286-90021c5a32e5"
      },
      "execution_count": null,
      "outputs": [
        {
          "output_type": "stream",
          "name": "stdout",
          "text": [
            "                   name  release_year\n",
            "0               Flowers          2023\n",
            "1             As it Was          2022\n",
            "2             Anti-Hero          2022\n",
            "3           Eyes Closed          2023\n",
            "4  Just the Way You Are          2010\n"
          ]
        }
      ]
    },
    {
      "cell_type": "code",
      "source": [
        "# The following will also give an error\n",
        "print(songs_df.loc['name', 'release_year'])"
      ],
      "metadata": {
        "id": "YfH4_yapasFB",
        "colab": {
          "base_uri": "https://localhost:8080/",
          "height": 304
        },
        "outputId": "4477d80b-e77d-439b-ac07-58f35216c96c"
      },
      "execution_count": null,
      "outputs": [
        {
          "output_type": "error",
          "ename": "KeyError",
          "evalue": "'name'",
          "traceback": [
            "\u001b[0;31m---------------------------------------------------------------------------\u001b[0m",
            "\u001b[0;31mKeyError\u001b[0m                                  Traceback (most recent call last)",
            "\u001b[0;32m/tmp/ipython-input-2593260298.py\u001b[0m in \u001b[0;36m<cell line: 0>\u001b[0;34m()\u001b[0m\n\u001b[1;32m      1\u001b[0m \u001b[0;31m# The following will also give an error\u001b[0m\u001b[0;34m\u001b[0m\u001b[0;34m\u001b[0m\u001b[0m\n\u001b[0;32m----> 2\u001b[0;31m \u001b[0mprint\u001b[0m\u001b[0;34m(\u001b[0m\u001b[0msongs_df\u001b[0m\u001b[0;34m.\u001b[0m\u001b[0mloc\u001b[0m\u001b[0;34m[\u001b[0m\u001b[0;34m'name'\u001b[0m\u001b[0;34m,\u001b[0m \u001b[0;34m'release_year'\u001b[0m\u001b[0;34m]\u001b[0m\u001b[0;34m)\u001b[0m\u001b[0;34m\u001b[0m\u001b[0;34m\u001b[0m\u001b[0m\n\u001b[0m",
            "\u001b[0;32m/usr/local/lib/python3.12/dist-packages/pandas/core/indexing.py\u001b[0m in \u001b[0;36m__getitem__\u001b[0;34m(self, key)\u001b[0m\n\u001b[1;32m   1181\u001b[0m             \u001b[0mkey\u001b[0m \u001b[0;34m=\u001b[0m \u001b[0mtuple\u001b[0m\u001b[0;34m(\u001b[0m\u001b[0mcom\u001b[0m\u001b[0;34m.\u001b[0m\u001b[0mapply_if_callable\u001b[0m\u001b[0;34m(\u001b[0m\u001b[0mx\u001b[0m\u001b[0;34m,\u001b[0m \u001b[0mself\u001b[0m\u001b[0;34m.\u001b[0m\u001b[0mobj\u001b[0m\u001b[0;34m)\u001b[0m \u001b[0;32mfor\u001b[0m \u001b[0mx\u001b[0m \u001b[0;32min\u001b[0m \u001b[0mkey\u001b[0m\u001b[0;34m)\u001b[0m\u001b[0;34m\u001b[0m\u001b[0;34m\u001b[0m\u001b[0m\n\u001b[1;32m   1182\u001b[0m             \u001b[0;32mif\u001b[0m \u001b[0mself\u001b[0m\u001b[0;34m.\u001b[0m\u001b[0m_is_scalar_access\u001b[0m\u001b[0;34m(\u001b[0m\u001b[0mkey\u001b[0m\u001b[0;34m)\u001b[0m\u001b[0;34m:\u001b[0m\u001b[0;34m\u001b[0m\u001b[0;34m\u001b[0m\u001b[0m\n\u001b[0;32m-> 1183\u001b[0;31m                 \u001b[0;32mreturn\u001b[0m \u001b[0mself\u001b[0m\u001b[0;34m.\u001b[0m\u001b[0mobj\u001b[0m\u001b[0;34m.\u001b[0m\u001b[0m_get_value\u001b[0m\u001b[0;34m(\u001b[0m\u001b[0;34m*\u001b[0m\u001b[0mkey\u001b[0m\u001b[0;34m,\u001b[0m \u001b[0mtakeable\u001b[0m\u001b[0;34m=\u001b[0m\u001b[0mself\u001b[0m\u001b[0;34m.\u001b[0m\u001b[0m_takeable\u001b[0m\u001b[0;34m)\u001b[0m\u001b[0;34m\u001b[0m\u001b[0;34m\u001b[0m\u001b[0m\n\u001b[0m\u001b[1;32m   1184\u001b[0m             \u001b[0;32mreturn\u001b[0m \u001b[0mself\u001b[0m\u001b[0;34m.\u001b[0m\u001b[0m_getitem_tuple\u001b[0m\u001b[0;34m(\u001b[0m\u001b[0mkey\u001b[0m\u001b[0;34m)\u001b[0m\u001b[0;34m\u001b[0m\u001b[0;34m\u001b[0m\u001b[0m\n\u001b[1;32m   1185\u001b[0m         \u001b[0;32melse\u001b[0m\u001b[0;34m:\u001b[0m\u001b[0;34m\u001b[0m\u001b[0;34m\u001b[0m\u001b[0m\n",
            "\u001b[0;32m/usr/local/lib/python3.12/dist-packages/pandas/core/frame.py\u001b[0m in \u001b[0;36m_get_value\u001b[0;34m(self, index, col, takeable)\u001b[0m\n\u001b[1;32m   4219\u001b[0m             \u001b[0;31m#  results if our categories are integers that dont match our codes\u001b[0m\u001b[0;34m\u001b[0m\u001b[0;34m\u001b[0m\u001b[0m\n\u001b[1;32m   4220\u001b[0m             \u001b[0;31m# IntervalIndex: IntervalTree has no get_loc\u001b[0m\u001b[0;34m\u001b[0m\u001b[0;34m\u001b[0m\u001b[0m\n\u001b[0;32m-> 4221\u001b[0;31m             \u001b[0mrow\u001b[0m \u001b[0;34m=\u001b[0m \u001b[0mself\u001b[0m\u001b[0;34m.\u001b[0m\u001b[0mindex\u001b[0m\u001b[0;34m.\u001b[0m\u001b[0mget_loc\u001b[0m\u001b[0;34m(\u001b[0m\u001b[0mindex\u001b[0m\u001b[0;34m)\u001b[0m\u001b[0;34m\u001b[0m\u001b[0;34m\u001b[0m\u001b[0m\n\u001b[0m\u001b[1;32m   4222\u001b[0m             \u001b[0;32mreturn\u001b[0m \u001b[0mseries\u001b[0m\u001b[0;34m.\u001b[0m\u001b[0m_values\u001b[0m\u001b[0;34m[\u001b[0m\u001b[0mrow\u001b[0m\u001b[0;34m]\u001b[0m\u001b[0;34m\u001b[0m\u001b[0;34m\u001b[0m\u001b[0m\n\u001b[1;32m   4223\u001b[0m \u001b[0;34m\u001b[0m\u001b[0m\n",
            "\u001b[0;32m/usr/local/lib/python3.12/dist-packages/pandas/core/indexes/range.py\u001b[0m in \u001b[0;36mget_loc\u001b[0;34m(self, key)\u001b[0m\n\u001b[1;32m    415\u001b[0m                 \u001b[0;32mraise\u001b[0m \u001b[0mKeyError\u001b[0m\u001b[0;34m(\u001b[0m\u001b[0mkey\u001b[0m\u001b[0;34m)\u001b[0m \u001b[0;32mfrom\u001b[0m \u001b[0merr\u001b[0m\u001b[0;34m\u001b[0m\u001b[0;34m\u001b[0m\u001b[0m\n\u001b[1;32m    416\u001b[0m         \u001b[0;32mif\u001b[0m \u001b[0misinstance\u001b[0m\u001b[0;34m(\u001b[0m\u001b[0mkey\u001b[0m\u001b[0;34m,\u001b[0m \u001b[0mHashable\u001b[0m\u001b[0;34m)\u001b[0m\u001b[0;34m:\u001b[0m\u001b[0;34m\u001b[0m\u001b[0;34m\u001b[0m\u001b[0m\n\u001b[0;32m--> 417\u001b[0;31m             \u001b[0;32mraise\u001b[0m \u001b[0mKeyError\u001b[0m\u001b[0;34m(\u001b[0m\u001b[0mkey\u001b[0m\u001b[0;34m)\u001b[0m\u001b[0;34m\u001b[0m\u001b[0;34m\u001b[0m\u001b[0m\n\u001b[0m\u001b[1;32m    418\u001b[0m         \u001b[0mself\u001b[0m\u001b[0;34m.\u001b[0m\u001b[0m_check_indexing_error\u001b[0m\u001b[0;34m(\u001b[0m\u001b[0mkey\u001b[0m\u001b[0;34m)\u001b[0m\u001b[0;34m\u001b[0m\u001b[0;34m\u001b[0m\u001b[0m\n\u001b[1;32m    419\u001b[0m         \u001b[0;32mraise\u001b[0m \u001b[0mKeyError\u001b[0m\u001b[0;34m(\u001b[0m\u001b[0mkey\u001b[0m\u001b[0;34m)\u001b[0m\u001b[0;34m\u001b[0m\u001b[0;34m\u001b[0m\u001b[0m\n",
            "\u001b[0;31mKeyError\u001b[0m: 'name'"
          ]
        }
      ]
    },
    {
      "cell_type": "markdown",
      "source": [
        "**Discussion: Explain the difference between df['name'], df[['name']], df.loc[:, 'name'] and df.loc[:, ['name']]**\n",
        "\n",
        "**Hint: Check their data types**"
      ],
      "metadata": {
        "id": "M6P9atJhQVno"
      }
    },
    {
      "cell_type": "code",
      "source": [
        "print(type(songs_df['name']))\n",
        "print(songs_df['name'].shape) # a Series has the shape (n,), where n is the number of elements\n",
        "songs_df['name'][0] # this is the same as songs_df.loc[0, 'name']"
      ],
      "metadata": {
        "id": "4lP2anXbaYZJ",
        "collapsed": true
      },
      "execution_count": null,
      "outputs": []
    },
    {
      "cell_type": "code",
      "source": [
        "print(type(songs_df[['name']]))\n",
        "print(songs_df[['name']].shape) # this one-dimensional dataframe has the shape (n, 1), where n is the number of rows, and 1 indicates a single column\n",
        "# songs_df[['name']][0] # This line will return an error because songs_df[['name']] is not a pandas series\n",
        "songs_df[['name']].loc[0, 'name']"
      ],
      "metadata": {
        "id": "HqAZ1pr_adZW",
        "collapsed": true
      },
      "execution_count": null,
      "outputs": []
    },
    {
      "cell_type": "code",
      "source": [
        "print(type(songs_df.loc[:, 'name']))"
      ],
      "metadata": {
        "id": "BWBh28DzajqI",
        "collapsed": true
      },
      "execution_count": null,
      "outputs": []
    },
    {
      "cell_type": "code",
      "source": [
        "print(type(songs_df.loc[:, ['name']]))"
      ],
      "metadata": {
        "id": "59Q_pZn4aop5"
      },
      "execution_count": null,
      "outputs": []
    },
    {
      "cell_type": "markdown",
      "source": [
        "# Locate Rows and Columns Using iloc to Specify **Integer Indices**"
      ],
      "metadata": {
        "id": "M-bcGH7IX4FT"
      }
    },
    {
      "cell_type": "code",
      "source": [
        "# Use iloc to return one row by integer index\n",
        "print(songs_df_letter_label.iloc[0])"
      ],
      "metadata": {
        "id": "EQzTlNZFYNJH"
      },
      "execution_count": null,
      "outputs": []
    },
    {
      "cell_type": "code",
      "source": [
        "# Use a list of integer indices to return Row 0 and 1 of the songs_df_letter_label dataframe\n",
        "print(songs_df_letter_label.iloc[[0, 1]])"
      ],
      "metadata": {
        "id": "KKRq91vnYXDw"
      },
      "execution_count": null,
      "outputs": []
    },
    {
      "cell_type": "code",
      "source": [
        "# Specify multiple rows of the DataFrame with from and to labels separated by a colon\n",
        "print(songs_df_letter_label.iloc[0: 2]) # Notice: the to index is excluded from the result (ATTENTION: this is DIFFERENT from loc!!!)"
      ],
      "metadata": {
        "id": "Gyj25FUEY3Jx"
      },
      "execution_count": null,
      "outputs": []
    },
    {
      "cell_type": "markdown",
      "source": [
        "**Practice 3: Explain why the following code returns an error and debug it using iloc and loc**"
      ],
      "metadata": {
        "id": "xQQ9TJd7Zar8"
      }
    },
    {
      "cell_type": "code",
      "source": [
        "print(songs_df_letter_label.iloc[[0, 1], ['name', 'release_year']])"
      ],
      "metadata": {
        "id": "nZMRx94kZJsN"
      },
      "execution_count": null,
      "outputs": []
    },
    {
      "cell_type": "markdown",
      "source": [
        "# Read CSV"
      ],
      "metadata": {
        "id": "7AnbG-EIZ0Hq"
      }
    },
    {
      "cell_type": "code",
      "source": [
        "# Load the CSV into a dataframe\n",
        "sales = pd.read_csv('/content/drive/MyDrive/Colab Notebooks/sales_data.csv')\n",
        "print(sales) # If the dataframe has many rows, Pandas will only return the first 5 rows and the last 5 rows"
      ],
      "metadata": {
        "id": "ED8PEKKDZzj7"
      },
      "execution_count": null,
      "outputs": []
    },
    {
      "cell_type": "code",
      "source": [
        "# Use to_string() to print the entire dataframe\n",
        "# This is helpful for viewing a large dataset in its entirety\n",
        "print(sales.to_string())"
      ],
      "metadata": {
        "id": "b8PD1nqyWGes"
      },
      "execution_count": null,
      "outputs": []
    },
    {
      "cell_type": "code",
      "source": [
        "# Colab Notebook gives a nice grid view of the dataframe\n",
        "sales"
      ],
      "metadata": {
        "id": "6G77iu3_yMT0"
      },
      "execution_count": null,
      "outputs": []
    },
    {
      "cell_type": "code",
      "source": [
        "# The head() method returns the headers and a specified number of rows, starting from the top\n",
        "print(sales.head(5))"
      ],
      "metadata": {
        "id": "v6XwTokSbo4B"
      },
      "execution_count": null,
      "outputs": []
    },
    {
      "cell_type": "code",
      "source": [
        "# Use info() to get more information about the dataframe\n",
        "print(sales.info())"
      ],
      "metadata": {
        "id": "vcY_F5vBbyAB"
      },
      "execution_count": null,
      "outputs": []
    },
    {
      "cell_type": "code",
      "source": [
        "sales['Price'].describe() # use the describe() to get a statistical description of a column\n",
        "sales.describe() # get a statistical description of the entire dataframe"
      ],
      "metadata": {
        "id": "6Q10CuVWe4kv"
      },
      "execution_count": null,
      "outputs": []
    },
    {
      "cell_type": "markdown",
      "source": [
        "# Correct Wrong Values"
      ],
      "metadata": {
        "id": "909IFyzofp7G"
      }
    },
    {
      "cell_type": "code",
      "source": [
        "# Suppose after double checking, we conclude the price in Row 0 should not be 2099.00\n",
        "# One way to fix wrong values is to replace them with correct values\n",
        "sales.loc[0, 'Price'] = 20.99 # loc locates values by labels"
      ],
      "metadata": {
        "id": "XmASstk0fs61"
      },
      "execution_count": null,
      "outputs": []
    },
    {
      "cell_type": "markdown",
      "source": [
        "You may not be able to replace the wrong data one by one for big datasets. To replace wrong data for larger data sets you can create some rules. For example, you can set some boundaries for legal values, and replace any values that are outside of the boundaries."
      ],
      "metadata": {
        "id": "Aa4od5RtifzM"
      }
    },
    {
      "cell_type": "code",
      "source": [
        "sales.loc[sales['Price'] > 15, 'Price'] = 15\n",
        "print(sales)"
      ],
      "metadata": {
        "id": "bWiHS1CXjHdC"
      },
      "execution_count": null,
      "outputs": []
    },
    {
      "cell_type": "code",
      "source": [
        "sales['Price'] > 15  # returns a pandas series of boolean values that indicate which rows satisfy the condition"
      ],
      "metadata": {
        "id": "1bCJu3UukDoP"
      },
      "execution_count": null,
      "outputs": []
    },
    {
      "cell_type": "code",
      "source": [
        "sales.loc[sales['Price'] > 15] # returns a pandas dataframe with rows corresponding to the True values in the previous pandas series"
      ],
      "metadata": {
        "id": "y8JKj9-3jsWC"
      },
      "execution_count": null,
      "outputs": []
    },
    {
      "cell_type": "code",
      "source": [
        "sales.loc[sales['Price'] > 15, 'Price']"
      ],
      "metadata": {
        "id": "_5gy5ZQOEkVk"
      },
      "execution_count": null,
      "outputs": []
    },
    {
      "cell_type": "markdown",
      "source": [
        "**Practice 4: Change the price of Product P001\n",
        "to 12 if the quantity of a transaction is greater than 1**\n",
        "\n",
        "**Hint: View how to filter with multiple conditions at https://www.geeksforgeeks.org/filter-pandas-dataframe-with-multiple-conditions/**"
      ],
      "metadata": {
        "id": "ljGuFre-lTD6"
      }
    },
    {
      "cell_type": "markdown",
      "source": [
        "# Clean Empty Cells"
      ],
      "metadata": {
        "id": "c9PNFjIOpOAH"
      }
    },
    {
      "cell_type": "code",
      "source": [
        "# One way to deal with empty cells is to remove rows that contain empty cells\n",
        "# This is usually OK if the dataset is big and removing a few rows will not have a big impact on the analysis results\n",
        "sales_drop_na = sales.dropna()\n",
        "print(sales_drop_na) # sales_drop_na does not have the row with index 6"
      ],
      "metadata": {
        "id": "6uHS-qoJpb8F"
      },
      "execution_count": null,
      "outputs": []
    },
    {
      "cell_type": "code",
      "source": [
        "print(sales) # By default, dropna() returns a new dataframe and will not change the original dataframe\n",
        "# So the row with index 6 still exists in df"
      ],
      "metadata": {
        "id": "CUlap9HNqB7b"
      },
      "execution_count": null,
      "outputs": []
    },
    {
      "cell_type": "code",
      "source": [
        "sales.dropna(inplace = True)\n",
        "print(sales) # dropna(inplace = True) will NOT return a new DataFrame. Instead, it will remove all rows containing NULL values from the original dataframe\n",
        "# The row with index 6 is now removed from the sales dataframe"
      ],
      "metadata": {
        "id": "oVAmJZ18qdpz"
      },
      "execution_count": null,
      "outputs": []
    },
    {
      "cell_type": "code",
      "source": [
        "# Reload the CSV into a dataframe\n",
        "sales = pd.read_csv('/content/drive/MyDrive/Colab Notebooks/sales_data.csv')\n",
        "print(sales) # sales now has a null value in the Price column"
      ],
      "metadata": {
        "id": "BqXrB4B7rVIo"
      },
      "execution_count": null,
      "outputs": []
    },
    {
      "cell_type": "code",
      "source": [
        "sales.dropna(subset=['Price'], inplace = True) # Remove rows with a NULL value in the Price column\n",
        "print(sales)"
      ],
      "metadata": {
        "id": "QEwjp6IEu6fC"
      },
      "execution_count": null,
      "outputs": []
    },
    {
      "cell_type": "code",
      "source": [
        "# Reload the CSV into a dataframe\n",
        "sales = pd.read_csv('/content/drive/MyDrive/Colab Notebooks/sales_data.csv')\n",
        "print(sales) # sales has a null value in the Price column"
      ],
      "metadata": {
        "id": "al9L4lAFvICM"
      },
      "execution_count": null,
      "outputs": []
    },
    {
      "cell_type": "code",
      "source": [
        "# The following code looks correct but it only returns a pandas series with the sixth position replaced by 20\n",
        "sales[\"Price\"].fillna(20)"
      ],
      "metadata": {
        "id": "0xzBNn-3sGjs"
      },
      "execution_count": null,
      "outputs": []
    },
    {
      "cell_type": "code",
      "source": [
        "print(sales) # sales still has the null value in the Price column"
      ],
      "metadata": {
        "id": "8gMev3OCsUMN"
      },
      "execution_count": null,
      "outputs": []
    },
    {
      "cell_type": "code",
      "source": [
        "# Replace NULL values in the Price column with the number 20\n",
        "sales[\"Price\"].fillna(20, inplace = True) # We need to set inplace = True so we are modifying df\n",
        "print(sales)"
      ],
      "metadata": {
        "id": "oLf2VdvNrHXe"
      },
      "execution_count": null,
      "outputs": []
    },
    {
      "cell_type": "code",
      "source": [
        "# Reload the dataframe and follow the suggestion in the warning message\n",
        "sales = pd.read_csv('/content/drive/MyDrive/Colab Notebooks/sales_data.csv')\n",
        "sales.fillna({\"Price\": 20}, inplace=True)"
      ],
      "metadata": {
        "id": "ik9OyZvkuJgK"
      },
      "execution_count": null,
      "outputs": []
    },
    {
      "cell_type": "code",
      "source": [
        "# Reload the dataframe and follow the suggestion in the warning message\n",
        "sales = pd.read_csv('/content/drive/MyDrive/Colab Notebooks/sales_data.csv')\n",
        "sales[\"Price\"] = sales[\"Price\"].fillna(20)"
      ],
      "metadata": {
        "id": "qonqL-AZuQOf"
      },
      "execution_count": null,
      "outputs": []
    }
  ]
}