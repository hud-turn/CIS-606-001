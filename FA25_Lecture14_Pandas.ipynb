{
  "cells": [
    {
      "cell_type": "markdown",
      "metadata": {
        "id": "vMgudOQEIDAi"
      },
      "source": [
        "# Pandas Series"
      ]
    },
    {
      "cell_type": "code",
      "execution_count": null,
      "metadata": {
        "id": "IBfys4iyIAWw"
      },
      "outputs": [],
      "source": [
        "# Create an alias with the as keyword while importing\n",
        "# Now you can refer to the Pandas package as pd instead of pandas\n",
        "import pandas as pd"
      ]
    },
    {
      "cell_type": "code",
      "execution_count": null,
      "metadata": {
        "colab": {
          "base_uri": "https://localhost:8080/"
        },
        "id": "WPvUnXpQIFuI",
        "outputId": "617f4624-675d-4c64-f211-9cf97a54711b"
      },
      "outputs": [
        {
          "name": "stdout",
          "output_type": "stream",
          "text": [
            "0                 Flowers\n",
            "1               As it Was\n",
            "2               Anti-Hero\n",
            "3             Eyes Closed\n",
            "4    Just the Way You Are\n",
            "dtype: object\n",
            "<class 'pandas.core.series.Series'>\n"
          ]
        }
      ],
      "source": [
        "# A Pandas Series is like a column in a table\n",
        "list_of_songs = [\"Flowers\", \"As it Was\", \"Anti-Hero\", \"Eyes Closed\", \"Just the Way You Are\"]\n",
        "myfav = pd.Series(list_of_songs)\n",
        "print(myfav) # Notice the values are labeled with their integer indices by default (i.e., first value has index 0, second value has index 1, etc.)\n",
        "print(type(myfav)) # Its type is pandas series"
      ]
    },
    {
      "cell_type": "code",
      "execution_count": null,
      "metadata": {
        "colab": {
          "base_uri": "https://localhost:8080/"
        },
        "id": "vWW3fwj9KtlO",
        "outputId": "55ab0c4d-01b3-4a36-d3e6-bae8aba0b0cd"
      },
      "outputs": [
        {
          "name": "stdout",
          "output_type": "stream",
          "text": [
            "Flowers\n"
          ]
        }
      ],
      "source": [
        "# This label can be used to access a specific value\n",
        "print(myfav[0])"
      ]
    },
    {
      "cell_type": "code",
      "execution_count": null,
      "metadata": {
        "colab": {
          "base_uri": "https://localhost:8080/"
        },
        "id": "V1UqbA_WK5Mu",
        "outputId": "8b6462b0-9250-4bc0-9d8d-f47ad87d1fee"
      },
      "outputs": [
        {
          "name": "stdout",
          "output_type": "stream",
          "text": [
            "a                 Flowers\n",
            "b               As it Was\n",
            "c               Anti-Hero\n",
            "d             Eyes Closed\n",
            "e    Just the Way You Are\n",
            "dtype: object\n"
          ]
        }
      ],
      "source": [
        "# You can name your own labels With the index argument\n",
        "myfav = pd.Series(list_of_songs, index = [\"a\", \"b\", \"c\", \"d\", \"e\"])\n",
        "print(myfav)"
      ]
    },
    {
      "cell_type": "code",
      "execution_count": null,
      "metadata": {
        "colab": {
          "base_uri": "https://localhost:8080/"
        },
        "id": "Z7pqyurHLcF5",
        "outputId": "caaa644e-2d16-4d85-a0a3-d24e109e6a19"
      },
      "outputs": [
        {
          "name": "stdout",
          "output_type": "stream",
          "text": [
            "As it Was\n"
          ]
        }
      ],
      "source": [
        "# Access an item by referring to the label if you have created labels\n",
        "print(myfav[\"b\"])"
      ]
    },
    {
      "cell_type": "code",
      "execution_count": null,
      "metadata": {
        "colab": {
          "base_uri": "https://localhost:8080/"
        },
        "id": "kGli3kJpMPlV",
        "outputId": "bb541965-2b2d-4b0d-e69c-0862c7e3318f"
      },
      "outputs": [
        {
          "name": "stdout",
          "output_type": "stream",
          "text": [
            "Flowers                 201\n",
            "As it Was               163\n",
            "Anti-Hero               201\n",
            "Eyes Closed             194\n",
            "Just the Way You Are    221\n",
            "dtype: int64\n"
          ]
        }
      ],
      "source": [
        "# Create a Pandas series from a dictionary (i.e., key/value objects)\n",
        "song_length_in_seconds = {\"Flowers\": 201, \"As it Was\": 163, \"Anti-Hero\": 201, \"Eyes Closed\": 194, \"Just the Way You Are\": 221}\n",
        "song_info = pd.Series(song_length_in_seconds)\n",
        "print(song_info) # Note: The keys of the dictionary become the labels"
      ]
    },
    {
      "cell_type": "code",
      "execution_count": null,
      "metadata": {
        "colab": {
          "base_uri": "https://localhost:8080/"
        },
        "id": "1Nu7qvEvpU5h",
        "outputId": "ed623c99-c3a3-46da-e902-98d408d6ce08"
      },
      "outputs": [
        {
          "name": "stdout",
          "output_type": "stream",
          "text": [
            "Flowers    201.0\n",
            "b            NaN\n",
            "c            NaN\n",
            "d            NaN\n",
            "e            NaN\n",
            "dtype: float64\n"
          ]
        }
      ],
      "source": [
        "song_info = pd.Series(song_length_in_seconds, index = [\"a\", \"b\", \"c\", \"d\", \"e\"])\n",
        "print(song_info)"
      ]
    },
    {
      "cell_type": "markdown",
      "metadata": {
        "id": "2oGI9CaWOqga"
      },
      "source": [
        "**Discussion: Explain why park_info has four elements instead of five**"
      ]
    },
    {
      "cell_type": "code",
      "execution_count": null,
      "metadata": {
        "colab": {
          "base_uri": "https://localhost:8080/"
        },
        "id": "xBl4oE6UOr1k",
        "outputId": "da11abec-1ca9-4057-87ce-f38c91c9718b"
      },
      "outputs": [
        {
          "name": "stdout",
          "output_type": "stream",
          "text": [
            "4\n"
          ]
        }
      ],
      "source": [
        "fav_parks = {\"AZ\": \"Grand Canyon\", \"Utah\": \"Canyonlands\", \"CO\": \"Rocky Mountain\", \"HI\": \"Hawaii Volcanoes\", \"Utah\": \"Arches\"}\n",
        "park_info = pd.Series(fav_parks)\n",
        "# Get the number of elements in a Pandas series\n",
        "print(park_info.size)"
      ]
    },
    {
      "cell_type": "markdown",
      "metadata": {
        "id": "pTp_O1KQQ3sF"
      },
      "source": [
        "# Pandas Dataframes"
      ]
    },
    {
      "cell_type": "code",
      "execution_count": null,
      "metadata": {
        "colab": {
          "base_uri": "https://localhost:8080/"
        },
        "id": "hIe-kMEdQ77i",
        "outputId": "2eefa651-ea40-4103-8fd7-9723eea70360"
      },
      "outputs": [
        {
          "name": "stdout",
          "output_type": "stream",
          "text": [
            "                   name  length_in_seconds  release_year\n",
            "0               Flowers                201          2023\n",
            "1             As it Was                163          2022\n",
            "2             Anti-Hero                201          2022\n",
            "3           Eyes Closed                194          2023\n",
            "4  Just the Way You Are                221          2010\n"
          ]
        }
      ],
      "source": [
        "# A Pandas DataFrame is a 2 dimensional data structure, like a table with rows and columns\n",
        "songs_data = {\n",
        "  \"name\": [\"Flowers\", \"As it Was\", \"Anti-Hero\", \"Eyes Closed\", \"Just the Way You Are\"],\n",
        "  \"length_in_seconds\": [201, 163, 201, 194, 221],\n",
        "  \"release_year\": [2023, 2022, 2022, 2023, 2010]\n",
        "}\n",
        "# Load songs_data into a DataFrame object\n",
        "songs_df = pd.DataFrame(songs_data)\n",
        "print(songs_df) # Notice the values are labeled with their integer indices by default (i.e., first value has index 0, second value has index 1, etc.)"
      ]
    },
    {
      "cell_type": "code",
      "execution_count": null,
      "metadata": {
        "colab": {
          "base_uri": "https://localhost:8080/"
        },
        "id": "GnMu-zaPSAIq",
        "outputId": "e589ae9e-ad31-42e5-c4c5-2a1548df9b78"
      },
      "outputs": [
        {
          "name": "stdout",
          "output_type": "stream",
          "text": [
            "                   name  length_in_seconds  release_year\n",
            "a               Flowers                201          2023\n",
            "b             As it Was                163          2022\n",
            "c             Anti-Hero                201          2022\n",
            "d           Eyes Closed                194          2023\n",
            "e  Just the Way You Are                221          2010\n"
          ]
        }
      ],
      "source": [
        "# Add a list of labels to give each row a label with the index argument\n",
        "songs_df_letter_label = pd.DataFrame(songs_data, index = [\"a\", \"b\", \"c\", \"d\", \"e\"])\n",
        "print(songs_df_letter_label)"
      ]
    },
    {
      "cell_type": "markdown",
      "metadata": {
        "id": "eTn-LkZJTOGR"
      },
      "source": [
        "# Locate Rows and Columns Using loc to Specify **Labels**"
      ]
    },
    {
      "cell_type": "code",
      "execution_count": null,
      "metadata": {
        "colab": {
          "base_uri": "https://localhost:8080/"
        },
        "id": "6OU4nltWTTu1",
        "outputId": "9a003382-3910-4da9-f33a-bc94895602df"
      },
      "outputs": [
        {
          "name": "stdout",
          "output_type": "stream",
          "text": [
            "name                 Flowers\n",
            "length_in_seconds        201\n",
            "release_year            2023\n",
            "Name: 0, dtype: object\n"
          ]
        }
      ],
      "source": [
        "# Use loc to return one or more row(s) by labels\n",
        "print(songs_df.loc[0])"
      ]
    },
    {
      "cell_type": "code",
      "execution_count": null,
      "metadata": {
        "colab": {
          "base_uri": "https://localhost:8080/"
        },
        "id": "kXe1sl7FUz3x",
        "outputId": "61723d1f-e0ab-4c87-ec4c-bfab1c68daf1"
      },
      "outputs": [
        {
          "name": "stdout",
          "output_type": "stream",
          "text": [
            "        name  length_in_seconds  release_year\n",
            "0    Flowers                201          2023\n",
            "1  As it Was                163          2022\n",
            "2  Anti-Hero                201          2022\n"
          ]
        }
      ],
      "source": [
        "# Use a list of labels to return Row 0, 1 and 2\n",
        "print(songs_df.loc[[0, 1, 2]])"
      ]
    },
    {
      "cell_type": "code",
      "execution_count": null,
      "metadata": {
        "colab": {
          "base_uri": "https://localhost:8080/"
        },
        "id": "tpADlMIBXMkV",
        "outputId": "3057b314-e87b-4400-ec2f-1ae191486494"
      },
      "outputs": [
        {
          "name": "stdout",
          "output_type": "stream",
          "text": [
            "        name  length_in_seconds  release_year\n",
            "0    Flowers                201          2023\n",
            "1  As it Was                163          2022\n",
            "2  Anti-Hero                201          2022\n"
          ]
        }
      ],
      "source": [
        "# Specify multiple rows of the DataFrame with from and to labels separated by a colon\n",
        "print(songs_df.loc[0: 2]) # Notice: both from and to lables are included in the result when using loc (i.e. to specify labels)"
      ]
    },
    {
      "cell_type": "code",
      "execution_count": null,
      "metadata": {
        "colab": {
          "base_uri": "https://localhost:8080/"
        },
        "id": "gnng3aoFWaNG",
        "outputId": "b8df10e0-359d-44a6-f6ef-c183f8f73d6f"
      },
      "outputs": [
        {
          "name": "stdout",
          "output_type": "stream",
          "text": [
            "        name  release_year\n",
            "0    Flowers          2023\n",
            "1  As it Was          2022\n"
          ]
        }
      ],
      "source": [
        "# Use loc to specify columns by including their labels in another list\n",
        "print(songs_df.loc[[0, 1],['name', 'release_year'] ])"
      ]
    },
    {
      "cell_type": "code",
      "execution_count": null,
      "metadata": {
        "id": "nEq6c92Ezj4g"
      },
      "outputs": [],
      "source": [
        "# Use : to represent all the row labels\n",
        "print(songs_df.loc[:, ['name', 'release_year']])"
      ]
    },
    {
      "cell_type": "code",
      "execution_count": null,
      "metadata": {
        "id": "Ub1tYB8cOhOB"
      },
      "outputs": [],
      "source": [
        "# Alternatively, Use [] to access one column by labels\n",
        "print(songs_df['name'])"
      ]
    },
    {
      "cell_type": "code",
      "execution_count": null,
      "metadata": {
        "colab": {
          "base_uri": "https://localhost:8080/"
        },
        "id": "6-epTxGuuQT-",
        "outputId": "8c2dd81b-e3ef-48b6-87a0-4ac0e61898bb"
      },
      "outputs": [
        {
          "name": "stdout",
          "output_type": "stream",
          "text": [
            "                   name  release_year\n",
            "0               Flowers          2023\n",
            "1             As it Was          2022\n",
            "2             Anti-Hero          2022\n",
            "3           Eyes Closed          2023\n",
            "4  Just the Way You Are          2010\n"
          ]
        }
      ],
      "source": [
        "print(songs_df[['name', 'release_year']])"
      ]
    },
    {
      "cell_type": "markdown",
      "metadata": {
        "id": "2-e-SE3aVQcT"
      },
      "source": [
        "**Practice 1: Explain why the following code returns an error and debug it with loc**"
      ]
    },
    {
      "cell_type": "code",
      "execution_count": null,
      "metadata": {
        "id": "d3hnttJfVCGl"
      },
      "outputs": [],
      "source": [
        "print(songs_df_letter_label.loc[[0, 1]])"
      ]
    },
    {
      "cell_type": "code",
      "execution_count": null,
      "metadata": {
        "colab": {
          "base_uri": "https://localhost:8080/"
        },
        "id": "1Rh6OZnrvS2K",
        "outputId": "2b4b20ff-8f96-43ec-bdf5-022fa9a762f0"
      },
      "outputs": [
        {
          "name": "stdout",
          "output_type": "stream",
          "text": [
            "        name  length_in_seconds  release_year\n",
            "a    Flowers                201          2023\n",
            "b  As it Was                163          2022\n"
          ]
        }
      ],
      "source": [
        "print(songs_df_letter_label.loc[[\"a\", \"b\"]])"
      ]
    },
    {
      "cell_type": "markdown",
      "metadata": {
        "id": "LQhsetfeNaX0"
      },
      "source": [
        "**Practice 2: Explain why the following code returns an error and fix it**"
      ]
    },
    {
      "cell_type": "code",
      "execution_count": null,
      "metadata": {
        "id": "EYEiLx0NNfo8"
      },
      "outputs": [],
      "source": [
        "print(songs_df['name', 'release_year'])"
      ]
    },
    {
      "cell_type": "code",
      "execution_count": null,
      "metadata": {
        "colab": {
          "base_uri": "https://localhost:8080/"
        },
        "id": "IDu0NJkqviin",
        "outputId": "b808c472-54c1-4be4-c286-90021c5a32e5"
      },
      "outputs": [
        {
          "name": "stdout",
          "output_type": "stream",
          "text": [
            "                   name  release_year\n",
            "0               Flowers          2023\n",
            "1             As it Was          2022\n",
            "2             Anti-Hero          2022\n",
            "3           Eyes Closed          2023\n",
            "4  Just the Way You Are          2010\n"
          ]
        }
      ],
      "source": [
        "print(songs_df[['name', 'release_year']])"
      ]
    },
    {
      "cell_type": "code",
      "execution_count": null,
      "metadata": {
        "colab": {
          "base_uri": "https://localhost:8080/",
          "height": 304
        },
        "id": "YfH4_yapasFB",
        "outputId": "4477d80b-e77d-439b-ac07-58f35216c96c"
      },
      "outputs": [
        {
          "ename": "KeyError",
          "evalue": "'name'",
          "output_type": "error",
          "traceback": [
            "\u001b[0;31m---------------------------------------------------------------------------\u001b[0m",
            "\u001b[0;31mKeyError\u001b[0m                                  Traceback (most recent call last)",
            "\u001b[0;32m/tmp/ipython-input-2593260298.py\u001b[0m in \u001b[0;36m<cell line: 0>\u001b[0;34m()\u001b[0m\n\u001b[1;32m      1\u001b[0m \u001b[0;31m# The following will also give an error\u001b[0m\u001b[0;34m\u001b[0m\u001b[0;34m\u001b[0m\u001b[0m\n\u001b[0;32m----> 2\u001b[0;31m \u001b[0mprint\u001b[0m\u001b[0;34m(\u001b[0m\u001b[0msongs_df\u001b[0m\u001b[0;34m.\u001b[0m\u001b[0mloc\u001b[0m\u001b[0;34m[\u001b[0m\u001b[0;34m'name'\u001b[0m\u001b[0;34m,\u001b[0m \u001b[0;34m'release_year'\u001b[0m\u001b[0;34m]\u001b[0m\u001b[0;34m)\u001b[0m\u001b[0;34m\u001b[0m\u001b[0;34m\u001b[0m\u001b[0m\n\u001b[0m",
            "\u001b[0;32m/usr/local/lib/python3.12/dist-packages/pandas/core/indexing.py\u001b[0m in \u001b[0;36m__getitem__\u001b[0;34m(self, key)\u001b[0m\n\u001b[1;32m   1181\u001b[0m             \u001b[0mkey\u001b[0m \u001b[0;34m=\u001b[0m \u001b[0mtuple\u001b[0m\u001b[0;34m(\u001b[0m\u001b[0mcom\u001b[0m\u001b[0;34m.\u001b[0m\u001b[0mapply_if_callable\u001b[0m\u001b[0;34m(\u001b[0m\u001b[0mx\u001b[0m\u001b[0;34m,\u001b[0m \u001b[0mself\u001b[0m\u001b[0;34m.\u001b[0m\u001b[0mobj\u001b[0m\u001b[0;34m)\u001b[0m \u001b[0;32mfor\u001b[0m \u001b[0mx\u001b[0m \u001b[0;32min\u001b[0m \u001b[0mkey\u001b[0m\u001b[0;34m)\u001b[0m\u001b[0;34m\u001b[0m\u001b[0;34m\u001b[0m\u001b[0m\n\u001b[1;32m   1182\u001b[0m             \u001b[0;32mif\u001b[0m \u001b[0mself\u001b[0m\u001b[0;34m.\u001b[0m\u001b[0m_is_scalar_access\u001b[0m\u001b[0;34m(\u001b[0m\u001b[0mkey\u001b[0m\u001b[0;34m)\u001b[0m\u001b[0;34m:\u001b[0m\u001b[0;34m\u001b[0m\u001b[0;34m\u001b[0m\u001b[0m\n\u001b[0;32m-> 1183\u001b[0;31m                 \u001b[0;32mreturn\u001b[0m \u001b[0mself\u001b[0m\u001b[0;34m.\u001b[0m\u001b[0mobj\u001b[0m\u001b[0;34m.\u001b[0m\u001b[0m_get_value\u001b[0m\u001b[0;34m(\u001b[0m\u001b[0;34m*\u001b[0m\u001b[0mkey\u001b[0m\u001b[0;34m,\u001b[0m \u001b[0mtakeable\u001b[0m\u001b[0;34m=\u001b[0m\u001b[0mself\u001b[0m\u001b[0;34m.\u001b[0m\u001b[0m_takeable\u001b[0m\u001b[0;34m)\u001b[0m\u001b[0;34m\u001b[0m\u001b[0;34m\u001b[0m\u001b[0m\n\u001b[0m\u001b[1;32m   1184\u001b[0m             \u001b[0;32mreturn\u001b[0m \u001b[0mself\u001b[0m\u001b[0;34m.\u001b[0m\u001b[0m_getitem_tuple\u001b[0m\u001b[0;34m(\u001b[0m\u001b[0mkey\u001b[0m\u001b[0;34m)\u001b[0m\u001b[0;34m\u001b[0m\u001b[0;34m\u001b[0m\u001b[0m\n\u001b[1;32m   1185\u001b[0m         \u001b[0;32melse\u001b[0m\u001b[0;34m:\u001b[0m\u001b[0;34m\u001b[0m\u001b[0;34m\u001b[0m\u001b[0m\n",
            "\u001b[0;32m/usr/local/lib/python3.12/dist-packages/pandas/core/frame.py\u001b[0m in \u001b[0;36m_get_value\u001b[0;34m(self, index, col, takeable)\u001b[0m\n\u001b[1;32m   4219\u001b[0m             \u001b[0;31m#  results if our categories are integers that dont match our codes\u001b[0m\u001b[0;34m\u001b[0m\u001b[0;34m\u001b[0m\u001b[0m\n\u001b[1;32m   4220\u001b[0m             \u001b[0;31m# IntervalIndex: IntervalTree has no get_loc\u001b[0m\u001b[0;34m\u001b[0m\u001b[0;34m\u001b[0m\u001b[0m\n\u001b[0;32m-> 4221\u001b[0;31m             \u001b[0mrow\u001b[0m \u001b[0;34m=\u001b[0m \u001b[0mself\u001b[0m\u001b[0;34m.\u001b[0m\u001b[0mindex\u001b[0m\u001b[0;34m.\u001b[0m\u001b[0mget_loc\u001b[0m\u001b[0;34m(\u001b[0m\u001b[0mindex\u001b[0m\u001b[0;34m)\u001b[0m\u001b[0;34m\u001b[0m\u001b[0;34m\u001b[0m\u001b[0m\n\u001b[0m\u001b[1;32m   4222\u001b[0m             \u001b[0;32mreturn\u001b[0m \u001b[0mseries\u001b[0m\u001b[0;34m.\u001b[0m\u001b[0m_values\u001b[0m\u001b[0;34m[\u001b[0m\u001b[0mrow\u001b[0m\u001b[0;34m]\u001b[0m\u001b[0;34m\u001b[0m\u001b[0;34m\u001b[0m\u001b[0m\n\u001b[1;32m   4223\u001b[0m \u001b[0;34m\u001b[0m\u001b[0m\n",
            "\u001b[0;32m/usr/local/lib/python3.12/dist-packages/pandas/core/indexes/range.py\u001b[0m in \u001b[0;36mget_loc\u001b[0;34m(self, key)\u001b[0m\n\u001b[1;32m    415\u001b[0m                 \u001b[0;32mraise\u001b[0m \u001b[0mKeyError\u001b[0m\u001b[0;34m(\u001b[0m\u001b[0mkey\u001b[0m\u001b[0;34m)\u001b[0m \u001b[0;32mfrom\u001b[0m \u001b[0merr\u001b[0m\u001b[0;34m\u001b[0m\u001b[0;34m\u001b[0m\u001b[0m\n\u001b[1;32m    416\u001b[0m         \u001b[0;32mif\u001b[0m \u001b[0misinstance\u001b[0m\u001b[0;34m(\u001b[0m\u001b[0mkey\u001b[0m\u001b[0;34m,\u001b[0m \u001b[0mHashable\u001b[0m\u001b[0;34m)\u001b[0m\u001b[0;34m:\u001b[0m\u001b[0;34m\u001b[0m\u001b[0;34m\u001b[0m\u001b[0m\n\u001b[0;32m--> 417\u001b[0;31m             \u001b[0;32mraise\u001b[0m \u001b[0mKeyError\u001b[0m\u001b[0;34m(\u001b[0m\u001b[0mkey\u001b[0m\u001b[0;34m)\u001b[0m\u001b[0;34m\u001b[0m\u001b[0;34m\u001b[0m\u001b[0m\n\u001b[0m\u001b[1;32m    418\u001b[0m         \u001b[0mself\u001b[0m\u001b[0;34m.\u001b[0m\u001b[0m_check_indexing_error\u001b[0m\u001b[0;34m(\u001b[0m\u001b[0mkey\u001b[0m\u001b[0;34m)\u001b[0m\u001b[0;34m\u001b[0m\u001b[0;34m\u001b[0m\u001b[0m\n\u001b[1;32m    419\u001b[0m         \u001b[0;32mraise\u001b[0m \u001b[0mKeyError\u001b[0m\u001b[0;34m(\u001b[0m\u001b[0mkey\u001b[0m\u001b[0;34m)\u001b[0m\u001b[0;34m\u001b[0m\u001b[0;34m\u001b[0m\u001b[0m\n",
            "\u001b[0;31mKeyError\u001b[0m: 'name'"
          ]
        }
      ],
      "source": [
        "# The following will also give an error\n",
        "print(songs_df.loc['name', 'release_year'])"
      ]
    },
    {
      "cell_type": "markdown",
      "metadata": {
        "id": "M6P9atJhQVno"
      },
      "source": [
        "**Discussion: Explain the difference between df['name'], df[['name']], df.loc[:, 'name'] and df.loc[:, ['name']]**\n",
        "\n",
        "**Hint: Check their data types**"
      ]
    },
    {
      "cell_type": "code",
      "execution_count": null,
      "metadata": {
        "collapsed": true,
        "id": "4lP2anXbaYZJ"
      },
      "outputs": [],
      "source": [
        "print(type(songs_df['name']))\n",
        "print(songs_df['name'].shape) # a Series has the shape (n,), where n is the number of elements\n",
        "songs_df['name'][0] # this is the same as songs_df.loc[0, 'name']"
      ]
    },
    {
      "cell_type": "code",
      "execution_count": null,
      "metadata": {
        "collapsed": true,
        "id": "HqAZ1pr_adZW"
      },
      "outputs": [],
      "source": [
        "print(type(songs_df[['name']]))\n",
        "print(songs_df[['name']].shape) # this one-dimensional dataframe has the shape (n, 1), where n is the number of rows, and 1 indicates a single column\n",
        "# songs_df[['name']][0] # This line will return an error because songs_df[['name']] is not a pandas series\n",
        "songs_df[['name']].loc[0, 'name']"
      ]
    },
    {
      "cell_type": "code",
      "execution_count": null,
      "metadata": {
        "collapsed": true,
        "id": "BWBh28DzajqI"
      },
      "outputs": [],
      "source": [
        "print(type(songs_df.loc[:, 'name']))"
      ]
    },
    {
      "cell_type": "code",
      "execution_count": null,
      "metadata": {
        "id": "59Q_pZn4aop5"
      },
      "outputs": [],
      "source": [
        "print(type(songs_df.loc[:, ['name']]))"
      ]
    },
    {
      "cell_type": "markdown",
      "metadata": {
        "id": "M-bcGH7IX4FT"
      },
      "source": [
        "# Locate Rows and Columns Using iloc to Specify **Integer Indices**"
      ]
    },
    {
      "cell_type": "code",
      "execution_count": null,
      "metadata": {
        "id": "EQzTlNZFYNJH"
      },
      "outputs": [],
      "source": [
        "# Use iloc to return one row by integer index\n",
        "print(songs_df_letter_label.iloc[0])"
      ]
    },
    {
      "cell_type": "code",
      "execution_count": null,
      "metadata": {
        "id": "KKRq91vnYXDw"
      },
      "outputs": [],
      "source": [
        "# Use a list of integer indices to return Row 0 and 1 of the songs_df_letter_label dataframe\n",
        "print(songs_df_letter_label.iloc[[0, 1]])"
      ]
    },
    {
      "cell_type": "code",
      "execution_count": null,
      "metadata": {
        "id": "Gyj25FUEY3Jx"
      },
      "outputs": [],
      "source": [
        "# Specify multiple rows of the DataFrame with from and to labels separated by a colon\n",
        "print(songs_df_letter_label.iloc[0: 2]) # Notice: the to index is excluded from the result (ATTENTION: this is DIFFERENT from loc!!!)"
      ]
    },
    {
      "cell_type": "markdown",
      "metadata": {
        "id": "xQQ9TJd7Zar8"
      },
      "source": [
        "**Practice 3: Explain why the following code returns an error and debug it using iloc and loc**"
      ]
    },
    {
      "cell_type": "code",
      "execution_count": null,
      "metadata": {
        "id": "nZMRx94kZJsN"
      },
      "outputs": [],
      "source": [
        "print(songs_df_letter_label.iloc[[0, 1], ['name', 'release_year']])"
      ]
    },
    {
      "cell_type": "markdown",
      "metadata": {
        "id": "7AnbG-EIZ0Hq"
      },
      "source": [
        "# Read CSV"
      ]
    },
    {
      "cell_type": "code",
      "execution_count": null,
      "metadata": {
        "id": "ED8PEKKDZzj7"
      },
      "outputs": [],
      "source": [
        "# Load the CSV into a dataframe\n",
        "sales = pd.read_csv('/content/drive/MyDrive/Colab Notebooks/sales_data.csv')\n",
        "print(sales) # If the dataframe has many rows, Pandas will only return the first 5 rows and the last 5 rows"
      ]
    },
    {
      "cell_type": "code",
      "execution_count": null,
      "metadata": {
        "id": "b8PD1nqyWGes"
      },
      "outputs": [],
      "source": [
        "# Use to_string() to print the entire dataframe\n",
        "# This is helpful for viewing a large dataset in its entirety\n",
        "print(sales.to_string())"
      ]
    },
    {
      "cell_type": "code",
      "execution_count": null,
      "metadata": {
        "id": "6G77iu3_yMT0"
      },
      "outputs": [],
      "source": [
        "# Colab Notebook gives a nice grid view of the dataframe\n",
        "sales"
      ]
    },
    {
      "cell_type": "code",
      "execution_count": null,
      "metadata": {
        "id": "v6XwTokSbo4B"
      },
      "outputs": [],
      "source": [
        "# The head() method returns the headers and a specified number of rows, starting from the top\n",
        "print(sales.head(5))"
      ]
    },
    {
      "cell_type": "code",
      "execution_count": null,
      "metadata": {
        "id": "vcY_F5vBbyAB"
      },
      "outputs": [],
      "source": [
        "# Use info() to get more information about the dataframe\n",
        "print(sales.info())"
      ]
    },
    {
      "cell_type": "code",
      "execution_count": null,
      "metadata": {
        "id": "6Q10CuVWe4kv"
      },
      "outputs": [],
      "source": [
        "sales['Price'].describe() # use the describe() to get a statistical description of a column\n",
        "sales.describe() # get a statistical description of the entire dataframe"
      ]
    },
    {
      "cell_type": "markdown",
      "metadata": {
        "id": "909IFyzofp7G"
      },
      "source": [
        "# Correct Wrong Values"
      ]
    },
    {
      "cell_type": "code",
      "execution_count": null,
      "metadata": {
        "id": "XmASstk0fs61"
      },
      "outputs": [],
      "source": [
        "# Suppose after double checking, we conclude the price in Row 0 should not be 2099.00\n",
        "# One way to fix wrong values is to replace them with correct values\n",
        "sales.loc[0, 'Price'] = 20.99 # loc locates values by labels"
      ]
    },
    {
      "cell_type": "markdown",
      "metadata": {
        "id": "Aa4od5RtifzM"
      },
      "source": [
        "You may not be able to replace the wrong data one by one for big datasets. To replace wrong data for larger data sets you can create some rules. For example, you can set some boundaries for legal values, and replace any values that are outside of the boundaries."
      ]
    },
    {
      "cell_type": "code",
      "execution_count": null,
      "metadata": {
        "id": "bWiHS1CXjHdC"
      },
      "outputs": [],
      "source": [
        "sales.loc[sales['Price'] > 15, 'Price'] = 15\n",
        "print(sales)"
      ]
    },
    {
      "cell_type": "code",
      "execution_count": null,
      "metadata": {
        "id": "1bCJu3UukDoP"
      },
      "outputs": [],
      "source": [
        "sales['Price'] > 15  # returns a pandas series of boolean values that indicate which rows satisfy the condition"
      ]
    },
    {
      "cell_type": "code",
      "execution_count": null,
      "metadata": {
        "id": "y8JKj9-3jsWC"
      },
      "outputs": [],
      "source": [
        "sales.loc[sales['Price'] > 15] # returns a pandas dataframe with rows corresponding to the True values in the previous pandas series"
      ]
    },
    {
      "cell_type": "code",
      "execution_count": null,
      "metadata": {
        "id": "_5gy5ZQOEkVk"
      },
      "outputs": [],
      "source": [
        "sales.loc[sales['Price'] > 15, 'Price']"
      ]
    },
    {
      "cell_type": "markdown",
      "metadata": {
        "id": "ljGuFre-lTD6"
      },
      "source": [
        "**Practice 4: Change the price of Product P001\n",
        "to 12 if the quantity of a transaction is greater than 1**\n",
        "\n",
        "**Hint: View how to filter with multiple conditions at https://www.geeksforgeeks.org/filter-pandas-dataframe-with-multiple-conditions/**"
      ]
    },
    {
      "cell_type": "markdown",
      "metadata": {
        "id": "c9PNFjIOpOAH"
      },
      "source": [
        "# Clean Empty Cells"
      ]
    },
    {
      "cell_type": "code",
      "execution_count": null,
      "metadata": {
        "id": "6uHS-qoJpb8F"
      },
      "outputs": [],
      "source": [
        "# One way to deal with empty cells is to remove rows that contain empty cells\n",
        "# This is usually OK if the dataset is big and removing a few rows will not have a big impact on the analysis results\n",
        "sales_drop_na = sales.dropna()\n",
        "print(sales_drop_na) # sales_drop_na does not have the row with index 6"
      ]
    },
    {
      "cell_type": "code",
      "execution_count": null,
      "metadata": {
        "id": "CUlap9HNqB7b"
      },
      "outputs": [],
      "source": [
        "print(sales) # By default, dropna() returns a new dataframe and will not change the original dataframe\n",
        "# So the row with index 6 still exists in df"
      ]
    },
    {
      "cell_type": "code",
      "execution_count": null,
      "metadata": {
        "id": "oVAmJZ18qdpz"
      },
      "outputs": [],
      "source": [
        "sales.dropna(inplace = True)\n",
        "print(sales) # dropna(inplace = True) will NOT return a new DataFrame. Instead, it will remove all rows containing NULL values from the original dataframe\n",
        "# The row with index 6 is now removed from the sales dataframe"
      ]
    },
    {
      "cell_type": "code",
      "execution_count": null,
      "metadata": {
        "id": "BqXrB4B7rVIo"
      },
      "outputs": [],
      "source": [
        "# Reload the CSV into a dataframe\n",
        "sales = pd.read_csv('/content/drive/MyDrive/Colab Notebooks/sales_data.csv')\n",
        "print(sales) # sales now has a null value in the Price column"
      ]
    },
    {
      "cell_type": "code",
      "execution_count": null,
      "metadata": {
        "id": "QEwjp6IEu6fC"
      },
      "outputs": [],
      "source": [
        "sales.dropna(subset=['Price'], inplace = True) # Remove rows with a NULL value in the Price column\n",
        "print(sales)"
      ]
    },
    {
      "cell_type": "code",
      "execution_count": null,
      "metadata": {
        "id": "al9L4lAFvICM"
      },
      "outputs": [],
      "source": [
        "# Reload the CSV into a dataframe\n",
        "sales = pd.read_csv('/content/drive/MyDrive/Colab Notebooks/sales_data.csv')\n",
        "print(sales) # sales has a null value in the Price column"
      ]
    },
    {
      "cell_type": "code",
      "execution_count": null,
      "metadata": {
        "id": "0xzBNn-3sGjs"
      },
      "outputs": [],
      "source": [
        "# The following code looks correct but it only returns a pandas series with the sixth position replaced by 20\n",
        "sales[\"Price\"].fillna(20)"
      ]
    },
    {
      "cell_type": "code",
      "execution_count": null,
      "metadata": {
        "id": "8gMev3OCsUMN"
      },
      "outputs": [],
      "source": [
        "print(sales) # sales still has the null value in the Price column"
      ]
    },
    {
      "cell_type": "code",
      "execution_count": null,
      "metadata": {
        "id": "oLf2VdvNrHXe"
      },
      "outputs": [],
      "source": [
        "# Replace NULL values in the Price column with the number 20\n",
        "sales[\"Price\"].fillna(20, inplace = True) # We need to set inplace = True so we are modifying df\n",
        "print(sales)"
      ]
    },
    {
      "cell_type": "code",
      "execution_count": null,
      "metadata": {
        "id": "ik9OyZvkuJgK"
      },
      "outputs": [],
      "source": [
        "# Reload the dataframe and follow the suggestion in the warning message\n",
        "sales = pd.read_csv('/content/drive/MyDrive/Colab Notebooks/sales_data.csv')\n",
        "sales.fillna({\"Price\": 20}, inplace=True)"
      ]
    },
    {
      "cell_type": "code",
      "execution_count": null,
      "metadata": {
        "id": "qonqL-AZuQOf"
      },
      "outputs": [],
      "source": [
        "# Reload the dataframe and follow the suggestion in the warning message\n",
        "sales = pd.read_csv('/content/drive/MyDrive/Colab Notebooks/sales_data.csv')\n",
        "sales[\"Price\"] = sales[\"Price\"].fillna(20)"
      ]
    }
  ],
  "metadata": {
    "colab": {
      "collapsed_sections": [
        "M-bcGH7IX4FT",
        "7AnbG-EIZ0Hq",
        "909IFyzofp7G",
        "c9PNFjIOpOAH"
      ],
      "provenance": []
    },
    "kernelspec": {
      "display_name": "cis-606-001",
      "language": "python",
      "name": "python3"
    },
    "language_info": {
      "name": "python",
      "version": "3.12.3"
    }
  },
  "nbformat": 4,
  "nbformat_minor": 0
}
