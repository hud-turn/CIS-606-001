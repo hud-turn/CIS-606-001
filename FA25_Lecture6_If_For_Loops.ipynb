{
  "cells": [
    {
      "cell_type": "markdown",
      "metadata": {
        "id": "ZDpKWEzWNQPU"
      },
      "source": [
        "# **Previous Lecture**"
      ]
    },
    {
      "cell_type": "markdown",
      "metadata": {
        "id": "HarK2v71ksvh"
      },
      "source": [
        "# Print Dates"
      ]
    },
    {
      "cell_type": "code",
      "execution_count": null,
      "metadata": {
        "colab": {
          "base_uri": "https://localhost:8080/"
        },
        "id": "dCiFC7kbkBvT",
        "outputId": "4ced4934-dcb7-4b88-ae36-68f787fffe0b"
      },
      "outputs": [
        {
          "name": "stdout",
          "output_type": "stream",
          "text": [
            "<class 'datetime.date'>\n",
            "Today's date: 2025-09-15\n",
            "Today's date: 2025-09-15\n"
          ]
        }
      ],
      "source": [
        "from datetime import date\n",
        "today = date.today()\n",
        "print(type(today)) # today has a type of datetime.date, i.e., today is an instance (object) of the date class from the datetime module\n",
        "print(\"Today's date:\", today) # the print function takes multiple arguments separated by commas and automatically converts each argument to a string\n",
        "print(f\"Today's date: {today}\") # anything in { } is automatically evaluated as Python code and then converted to a string"
      ]
    },
    {
      "cell_type": "code",
      "execution_count": null,
      "metadata": {
        "colab": {
          "base_uri": "https://localhost:8080/"
        },
        "id": "3K-ILjAMkW5k",
        "outputId": "4a46ecf9-38ce-4e81-b134-6637d1953597"
      },
      "outputs": [
        {
          "name": "stdout",
          "output_type": "stream",
          "text": [
            "Today's date:2025-09-15\n"
          ]
        }
      ],
      "source": [
        "print(\"Today's date:\" + str(today)) # today needs to be casted to a string to be concatenated with another string using \"+\""
      ]
    },
    {
      "cell_type": "markdown",
      "metadata": {
        "id": "sQb6K3baeXCZ"
      },
      "source": [
        "# Interact With Gen AI Using List"
      ]
    },
    {
      "cell_type": "code",
      "execution_count": null,
      "metadata": {
        "colab": {
          "base_uri": "https://localhost:8080/"
        },
        "id": "DG8aU3FCcL8R",
        "outputId": "6146109f-e54a-430f-c5d1-3a3f11b58a41"
      },
      "outputs": [
        {
          "name": "stdout",
          "output_type": "stream",
          "text": [
            "Okay, here are one-sentence introductions for each of the listed national parks:\n",
            "\n",
            "*   **Black Canyon of the Gunnison National Park:** Experience the sheer, dramatic depths and imposing cliffs of one of North America's most remarkable canyons.\n",
            "*   **Great Sand Dunes National Park and Preserve:** Marvel at towering sand dunes nestled against the backdrop of the Sangre de Cristo Mountains, offering a unique landscape for adventure.\n",
            "*   **Mesa Verde National Park:** Step back in time and explore remarkably preserved ancestral Puebloan cliff dwellings, providing a window into a rich cultural heritage.\n",
            "*   **Rocky Mountain National Park:** Discover a pristine alpine wilderness, showcasing stunning mountain vistas, diverse wildlife, and endless opportunities for outdoor recreation.\n",
            "\n"
          ]
        }
      ],
      "source": [
        "from google.colab import ai\n",
        "national_parks_colorado = [\n",
        "    \"Black Canyon of the Gunnison National Park\",\n",
        "    \"Great Sand Dunes National Park and Preserve\",\n",
        "    \"Mesa Verde National Park\",\n",
        "    \"Rocky Mountain National Park\"\n",
        "]\n",
        "response = ai.generate_text(f\"Please give me a set of one-sentence introductions for every national park listed in {national_parks_colorado}\")\n",
        "print(response)"
      ]
    },
    {
      "cell_type": "markdown",
      "metadata": {
        "id": "xbcHW-EoLAn1"
      },
      "source": [
        "# If...Else"
      ]
    },
    {
      "cell_type": "markdown",
      "metadata": {
        "id": "ib-UYinr5QZB"
      },
      "source": [
        "There are three major types of flow in a Python program:\n",
        "\n",
        "*   Sequential: statements are executed successively\n",
        "*   Conditional: blocks of code are executed if a condition is True or False\n",
        "*   Repeating: instructions are repeated over an iterable"
      ]
    },
    {
      "cell_type": "code",
      "execution_count": null,
      "metadata": {
        "id": "k-UBKQSBiKkz"
      },
      "outputs": [],
      "source": [
        "# Create two lists\n",
        "list_of_colors = [\"red\", \"orange\", \"green\", \"red\", \"yellow\", \"blue\"]\n",
        "list_of_soup_flavors = [\"chicken noodle soup\", \"onion soup\", \"green pea soup\", \"chili beef soup\", \"vegetable soup\"]"
      ]
    },
    {
      "cell_type": "code",
      "execution_count": null,
      "metadata": {
        "colab": {
          "base_uri": "https://localhost:8080/"
        },
        "id": "V4DOGOOy_OBu",
        "outputId": "9b17a712-d376-4862-de77-1b751b697125"
      },
      "outputs": [
        {
          "name": "stdout",
          "output_type": "stream",
          "text": [
            "The list of colors has more than 5 items\n"
          ]
        }
      ],
      "source": [
        "# Use if statement to specify conditions\n",
        "# Notice the identation (i.e., the tab) matters here\n",
        "if len(list_of_colors) > 5:\n",
        "  print(\"The list of colors has more than 5 items\")"
      ]
    },
    {
      "cell_type": "code",
      "execution_count": null,
      "metadata": {
        "colab": {
          "base_uri": "https://localhost:8080/"
        },
        "id": "rhi_OnYO_ty6",
        "outputId": "1b186ca0-a14a-4677-f458-d3a689faf628"
      },
      "outputs": [
        {
          "name": "stdout",
          "output_type": "stream",
          "text": [
            "The length of this list is not 5\n"
          ]
        }
      ],
      "source": [
        "# Use the else keyword to catch anything else\n",
        "# Notice we use == for evaluating conditions of \"equal\"\n",
        "# Recall = is used for value assignment\n",
        "if len(list_of_colors) == 5:\n",
        "  print(\"The list of colors has 5 items\")\n",
        "else:\n",
        "  print(\"The length of this list is not 5\")"
      ]
    },
    {
      "cell_type": "code",
      "execution_count": null,
      "metadata": {
        "colab": {
          "base_uri": "https://localhost:8080/"
        },
        "id": "QvXEXx_XAosP",
        "outputId": "44abcec2-c9e1-4812-d529-0dd289fd59af"
      },
      "outputs": [
        {
          "name": "stdout",
          "output_type": "stream",
          "text": [
            "The list of colors has more than 5 items\n"
          ]
        }
      ],
      "source": [
        "# Use the elif keyword to try another condition\n",
        "# Try commenting out the else block and see if the code runs\n",
        "if len(list_of_colors) > 5:\n",
        "  print(\"The list of colors has more than 5 items\")\n",
        "elif len(list_of_colors) > 3:\n",
        "  print(\"The list of colors has four or five items\")\n",
        "# else:\n",
        "#   print(\"This is a very short list\")"
      ]
    },
    {
      "cell_type": "code",
      "execution_count": null,
      "metadata": {
        "id": "-8_c_bLfCtkr"
      },
      "outputs": [],
      "source": [
        "# Use the \"and\" keyword to indicate both conditions should be met\n",
        "if len(list_of_colors) >= 5 and len(list_of_soup_flavors) >= 5:\n",
        "  print(\"Both lists have at least five items\")"
      ]
    },
    {
      "cell_type": "code",
      "execution_count": null,
      "metadata": {
        "colab": {
          "base_uri": "https://localhost:8080/"
        },
        "id": "4sZO6ukUDEum",
        "outputId": "60e2225a-ab60-4619-c738-908f26e71994"
      },
      "outputs": [
        {
          "name": "stdout",
          "output_type": "stream",
          "text": [
            "At least one of the two lists does not have a length of five\n"
          ]
        }
      ],
      "source": [
        "# Use the \"or\" keyword to indicate either condition should be met\n",
        "# != means does not equal\n",
        "if len(list_of_colors) != 5 or len(list_of_soup_flavors) != 5:\n",
        "  print(\"At least one of the two lists does not have a length of five\")"
      ]
    },
    {
      "cell_type": "code",
      "execution_count": null,
      "metadata": {
        "colab": {
          "base_uri": "https://localhost:8080/"
        },
        "id": "zdh5DrjGLFav",
        "outputId": "1d33c24e-0bfc-4b57-b006-b082977d6f79"
      },
      "outputs": [
        {
          "name": "stdout",
          "output_type": "stream",
          "text": [
            "Yes, 'red' is in the colors list\n"
          ]
        }
      ],
      "source": [
        "# Use the \"in\" keyword to check if an item exists in a list\n",
        "if \"red\" in list_of_colors:\n",
        "  print(\"Yes, 'red' is in the colors list\")"
      ]
    },
    {
      "cell_type": "code",
      "execution_count": null,
      "metadata": {
        "id": "dMqTfy_vEEeB"
      },
      "outputs": [],
      "source": [
        "# Use the \"not\" keyword to reverse the result of the condition\n",
        "if \"chicken noodle soup\" not in list_of_soup_flavors:\n",
        "  print(\"Too bad! My favoriate soup is not here\")"
      ]
    },
    {
      "cell_type": "code",
      "execution_count": null,
      "metadata": {
        "id": "aVye328iFEA-"
      },
      "outputs": [],
      "source": [
        "# Use if inside if statements (nested if)\n",
        "# Notice the identations\n",
        "if len(list_of_soup_flavors) >= 5:\n",
        "  print(\"I have many soup options\")\n",
        "  if \"chicken noodle soup\" in list_of_soup_flavors:\n",
        "    print(\"And my favorite soup is here\")\n",
        "  else:\n",
        "    print(\"But my favorite soup isn't here\")\n",
        "else:\n",
        "  print(\"I don't have many soup choices\")\n",
        "  if \"chicken noodle soup\" in list_of_soup_flavors:\n",
        "    print(\"And my favorite soup is here\")\n",
        "  else:\n",
        "    print(\"But my favorite soup isn't here\")"
      ]
    },
    {
      "cell_type": "markdown",
      "metadata": {
        "id": "Y1XHxq9SGwDM"
      },
      "source": [
        "**Discussion: Is the code snippet efficient or not? Why?**\n",
        "\n",
        "**Practice 1: How would you change the code above?**\n",
        "\n",
        "**Hint: Think about functions.**"
      ]
    },
    {
      "cell_type": "markdown",
      "metadata": {
        "id": "Z18BgXbReKPn"
      },
      "source": [
        "# **New Content**"
      ]
    },
    {
      "cell_type": "markdown",
      "metadata": {
        "id": "HE3l_TOh9MC8"
      },
      "source": [
        "# For Loop"
      ]
    },
    {
      "cell_type": "code",
      "execution_count": null,
      "metadata": {
        "id": "dDn39ZKCe3Yw"
      },
      "outputs": [],
      "source": [
        "# Loop through the list items with item index\n",
        "print(len(list_of_colors))\n",
        "for i in range(len(list_of_colors)): # Alternatively, you can use range(len(list_of_colors))\n",
        "  print(list_of_colors[i])"
      ]
    },
    {
      "cell_type": "code",
      "execution_count": null,
      "metadata": {
        "colab": {
          "base_uri": "https://localhost:8080/"
        },
        "id": "zrrpVXORfnrJ",
        "outputId": "71b837ab-3293-487c-e0a2-bc5485fdf4ef"
      },
      "outputs": [
        {
          "name": "stdout",
          "output_type": "stream",
          "text": [
            "RED\n",
            "ORANGE\n",
            "GREEN\n",
            "RED\n",
            "YELLOW\n",
            "BLUE\n"
          ]
        }
      ],
      "source": [
        "# Alternatively, you can directly loop through list items\n",
        "for color in list_of_colors:\n",
        "  print(color.upper())"
      ]
    },
    {
      "cell_type": "markdown",
      "metadata": {
        "id": "TvDiVtMkd2mU"
      },
      "source": [
        "**Practice 2: Modify the following code snippet to remove all the \"red\" items in list_of_colors**\n",
        "\n",
        "\n",
        "```\n",
        "list_of_colors = [\"red\", \"orange\", \"green\", \"red\", \"yellow\", \"red\"]\n",
        "new_list = []\n",
        "\n",
        "for item in list_of_colors:\n",
        "  # put code here\n",
        "\n",
        "print(new_list)\n",
        "```\n",
        "\n"
      ]
    },
    {
      "cell_type": "code",
      "execution_count": null,
      "metadata": {
        "id": "FfLpKalHOFPt"
      },
      "outputs": [],
      "source": [
        "# Run this code cell to prepare for the next code cell\n",
        "# Define lists\n",
        "list_of_colors = [\"red\", \"orange\", \"green\", \"red\", \"yellow\"]\n",
        "list_of_soup_flavors = [\"chicken noodle soup\", \"onion soup\", \"green pea soup\", \"chili beef soup\", \"vegetable soup\"]\n",
        "# Recall we wrote a function to draw cans and write soup names\n",
        "def draw_colored_can_and_write_name(can_color, soup_name):\n",
        "  print(\"I drew a \" + can_color + \" soup can\")\n",
        "  print(\"I wrote \\\"\" + soup_name + \"\\\" on the can\")"
      ]
    },
    {
      "cell_type": "code",
      "execution_count": null,
      "metadata": {
        "id": "nCJlQmHOi2jP"
      },
      "outputs": [],
      "source": [
        "# We can do nested for loops to draw a can and write names for every pair of color and soup flavor\n",
        "for color in list_of_colors: # outer loop header\n",
        "  for flavor in list_of_soup_flavors: # inner loop header\n",
        "    draw_colored_can_and_write_name(color, flavor)\n",
        "  print()"
      ]
    },
    {
      "cell_type": "markdown",
      "metadata": {
        "id": "g2hDDp_9jw3r"
      },
      "source": [
        "**Practice 3: Modify the code snippet above to loop through the first three items in list_of_colors and the first two items in list_of_soup_flavors**\n",
        "\n",
        "**Hint: use index or item to loop through lists**"
      ]
    },
    {
      "cell_type": "code",
      "execution_count": null,
      "metadata": {
        "id": "TKzaGo6sfDcC"
      },
      "outputs": [],
      "source": [
        "# Iteratively updating AI prompts using lists and for loops\n",
        "national_parks_colorado = [\n",
        "    \"Black Canyon of the Gunnison National Park\",\n",
        "    \"Great Sand Dunes National Park and Preserve\",\n",
        "    \"Mesa Verde National Park\",\n",
        "    \"Rocky Mountain National Park\"\n",
        "]\n",
        "national_park_introductions = [] # Initialize an empty list to store AI responses\n",
        "for park in national_parks_colorado:\n",
        "  response = ai.generate_text(f\"Please give me a one-sentence introduction for the national park listed in {park}\")\n",
        "  national_park_introductions.append(response) # append the AI response to the list\n",
        "print(national_park_introductions)"
      ]
    },
    {
      "cell_type": "markdown",
      "metadata": {
        "id": "N6GewXRzHt-P"
      },
      "source": [
        "# List Comprehension（Optional）"
      ]
    },
    {
      "cell_type": "code",
      "execution_count": null,
      "metadata": {
        "id": "oNCoVC3tgXwj"
      },
      "outputs": [],
      "source": [
        "# List comprehension is simpler way to create a new list based on the values of an existing list\n",
        "list_of_colors = [\"red\", \"orange\", \"green\", \"red\", \"yellow\", \"red\"]\n",
        "# We want a list of colors that only has the colors with the letter \"r\" in the color\n",
        "list_with_letter_r = [item for item in list_of_colors if \"r\" in item]\n",
        "print(list_with_letter_r)"
      ]
    },
    {
      "cell_type": "code",
      "execution_count": null,
      "metadata": {
        "id": "TPRVOx2ROqiP"
      },
      "outputs": [],
      "source": [
        "# We want list_with_letter_r in upper case\n",
        "list_with_letter_r_upper = [item.upper() for item in list_of_colors if \"r\" in item]\n",
        "print(list_with_letter_r_upper)"
      ]
    },
    {
      "cell_type": "markdown",
      "metadata": {
        "id": "IAbo3AdxRutZ"
      },
      "source": [
        "# Multi-Dimensional (2D) List"
      ]
    },
    {
      "cell_type": "code",
      "execution_count": null,
      "metadata": {
        "id": "jaLMqnAnEkv5"
      },
      "outputs": [],
      "source": [
        "# Create a m * n matrix with all 0s\n",
        "m = 4\n",
        "n = 5\n",
        "\n",
        "matrix_zero = [[0 for x in range(n)] for x in range(m)]\n",
        "print(matrix_zero)"
      ]
    },
    {
      "cell_type": "code",
      "execution_count": null,
      "metadata": {
        "id": "Oh9wSlnFEDuy"
      },
      "outputs": [],
      "source": [
        "# Create a 3 * 5 matrix\n",
        "matrix_a = [[2, 4, 6, 8, 10], [3, 6, 9, 12, 15], [4, 8, 12, 16, 20]]\n",
        "print(matrix_a)"
      ]
    },
    {
      "cell_type": "code",
      "execution_count": null,
      "metadata": {
        "id": "D-kmuQtKkt1k"
      },
      "outputs": [],
      "source": [
        "print(len(matrix_a))\n",
        "print(matrix_a[0])"
      ]
    },
    {
      "cell_type": "code",
      "execution_count": null,
      "metadata": {
        "id": "Oci6OTDjK1vr"
      },
      "outputs": [],
      "source": [
        "# Access \"rows\" with loop\n",
        "# Each row corresponds to an item of the two-dimensional list\n",
        "for row in matrix_a:\n",
        "    print(row)"
      ]
    },
    {
      "cell_type": "code",
      "execution_count": null,
      "metadata": {
        "id": "b74yaeHiIvIv"
      },
      "outputs": [],
      "source": [
        "# Alternatively we can use index to loop\n",
        "for i in range(len(matrix_a)):\n",
        "    print(matrix_a[i])"
      ]
    },
    {
      "cell_type": "code",
      "execution_count": null,
      "metadata": {
        "id": "YCtyUDGfM0zb"
      },
      "outputs": [],
      "source": [
        "# Access each cell value with index in two square brackets\n",
        "# a[i][j] accesses the (i+1)-th row, (j+1)-th column\n",
        "i = 2\n",
        "j = 3\n",
        "print(matrix_a[i])\n",
        "print(matrix_a[i][j])"
      ]
    },
    {
      "cell_type": "markdown",
      "metadata": {
        "id": "sR6LLqMBLQem"
      },
      "source": [
        "**Practice 4: How do we access columns of matrix_a? Write code to put its first column into a list and print the first column.**"
      ]
    }
  ],
  "metadata": {
    "colab": {
      "collapsed_sections": [
        "ZDpKWEzWNQPU",
        "HarK2v71ksvh",
        "N6GewXRzHt-P",
        "IAbo3AdxRutZ"
      ],
      "provenance": []
    },
    "kernelspec": {
      "display_name": "cis-606-001",
      "language": "python",
      "name": "python3"
    },
    "language_info": {
      "name": "python",
      "version": "3.12.3"
    }
  },
  "nbformat": 4,
  "nbformat_minor": 0
}
