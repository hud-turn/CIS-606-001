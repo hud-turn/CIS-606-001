{
  "cells": [
    {
      "cell_type": "code",
      "execution_count": null,
      "metadata": {
        "id": "1hIrTawcfYbG"
      },
      "outputs": [],
      "source": [
        "def sign_name(my_name = \"Andy Warhol\"):\n",
        "  print(f\"I signed my name: {my_name}\")"
      ]
    },
    {
      "cell_type": "markdown",
      "metadata": {
        "id": "dK5Ndc0Ux3by"
      },
      "source": [
        "\n",
        "**Practice 1: modify the previous function such that a user can date today's date**\n",
        "\n",
        "Resource: [How to get current date and time in Python?](https://www.programiz.com/python-programming/datetime/current-datetime)"
      ]
    },
    {
      "cell_type": "code",
      "execution_count": null,
      "metadata": {
        "colab": {
          "base_uri": "https://localhost:8080/"
        },
        "id": "zlW9zm60GFRE",
        "outputId": "0a55eecd-603c-432e-ed7b-c7d007c28c93"
      },
      "outputs": [
        {
          "name": "stdout",
          "output_type": "stream",
          "text": [
            "I signed my name: Andy Warhol\n",
            "Today is 09/16/2025 and it is 15:17:34\n"
          ]
        }
      ],
      "source": [
        "import time\n",
        "\n",
        "def curDate():\n",
        "  return time.strftime(\"%m/%d/%Y\", time.localtime())\n",
        "\n",
        "def curTime():\n",
        "  return time.strftime(\"%H:%M:%S\", time.localtime())\n",
        "\n",
        "def sign_name(my_name = \"Andy Warhol\"):\n",
        "  print(f\"I signed my name: {my_name}\")\n",
        "  currentDate = curDate()\n",
        "  currentTime = curTime()\n",
        "  print(f\"Today is {currentDate} and it is {currentTime}\")\n",
        "\n",
        "sign_name()"
      ]
    },
    {
      "cell_type": "code",
      "execution_count": null,
      "metadata": {
        "id": "6gFa6Y52Qrky"
      },
      "outputs": [],
      "source": [
        "list_of_soup_flavors = [\"chicken noodle soup\", \"onion soup\", \"green pea soup\", \"chili beef soup\", \"vegetable soup\"]"
      ]
    },
    {
      "cell_type": "markdown",
      "metadata": {
        "id": "b0YAPgZtB2e1"
      },
      "source": [
        "**Practice 2: Remove \"onion soup\" from list_of_soup_flavors and then add \"black bean soup\" at the end of list_of_soup_flavors**"
      ]
    },
    {
      "cell_type": "code",
      "execution_count": null,
      "metadata": {
        "colab": {
          "base_uri": "https://localhost:8080/"
        },
        "id": "e2d9KNh8PWkv",
        "outputId": "27df9409-d661-4d27-e0d1-840391769968"
      },
      "outputs": [
        {
          "name": "stdout",
          "output_type": "stream",
          "text": [
            "['chicken noodle soup', 'green pea soup', 'chili beef soup', 'vegetable soup', 'black bean soup']\n"
          ]
        }
      ],
      "source": [
        "list_of_soup_flavors = [\"chicken noodle soup\", \"onion soup\", \"green pea soup\", \"chili beef soup\", \"vegetable soup\"]\n",
        "list_of_soup_flavors.remove(\"onion soup\")\n",
        "list_of_soup_flavors.append(\"black bean soup\")\n",
        "print(list_of_soup_flavors)"
      ]
    }
  ],
  "metadata": {
    "colab": {
      "provenance": []
    },
    "kernelspec": {
      "display_name": "Python 3",
      "name": "python3"
    },
    "language_info": {
      "name": "python"
    }
  },
  "nbformat": 4,
  "nbformat_minor": 0
}
