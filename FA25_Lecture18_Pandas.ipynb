{
  "cells": [
    {
      "cell_type": "code",
      "execution_count": 1,
      "metadata": {
        "id": "IBfys4iyIAWw"
      },
      "outputs": [],
      "source": [
        "# Create an alias with the as keyword while importing\n",
        "# Now you can refer to the Pandas package as pd instead of pandas\n",
        "import pandas as pd"
      ]
    },
    {
      "cell_type": "markdown",
      "metadata": {
        "id": "NEQNydLdHmXT"
      },
      "source": [
        "# **Previous Content**"
      ]
    },
    {
      "cell_type": "markdown",
      "metadata": {
        "id": "3HEoooDoDfPU"
      },
      "source": [
        "# Data Analytics (Basic Summary Statistics)"
      ]
    },
    {
      "cell_type": "code",
      "execution_count": 2,
      "metadata": {
        "colab": {
          "base_uri": "https://localhost:8080/"
        },
        "id": "qrzl93qoMyR_",
        "outputId": "09def10b-bca0-4b3c-fcf3-387ba9790b21"
      },
      "outputs": [
        {
          "name": "stdout",
          "output_type": "stream",
          "text": [
            "   Transaction_ID Customer_ID Product_ID  Quantity    Price       Date\n",
            "0               1        C101       P001         2  2099.00   1/5/2023\n",
            "1               2        C102       P002         1    29.99   20230106\n",
            "2               3        C103       P001         1    20.99   1/7/2023\n",
            "3               4        C101       P003         3     9.99   1/8/2023\n",
            "4               5        C102       P002         2    29.99   1/9/2023\n",
            "5               6        C105       P001         1    20.99  1/10/2023\n",
            "6               7        C102       P004         1      NaN  1/11/2023\n",
            "7               8        C106       P001         2    20.99  1/12/2023\n",
            "8               9        C103       P005         1     9.99  1/13/2023\n",
            "9               9        C103       P005         1     9.99  1/13/2023\n"
          ]
        }
      ],
      "source": [
        "# Load the CSV into a dataframe called sales\n",
        "sales = pd.read_csv('./sales_data.csv')\n",
        "print(sales)"
      ]
    },
    {
      "cell_type": "code",
      "execution_count": 3,
      "metadata": {
        "id": "H89JoGYBO-mP"
      },
      "outputs": [],
      "source": [
        "# For each transaction, transaction amount = quantity * price\n",
        "# Add a column for transaction amount\n",
        "sales['TransactionAmount'] = sales['Quantity'] * sales['Price']"
      ]
    },
    {
      "cell_type": "code",
      "execution_count": 4,
      "metadata": {
        "id": "mpFRMJdCXFIf"
      },
      "outputs": [
        {
          "data": {
            "text/plain": [
              "np.float64(491.31999999999994)"
            ]
          },
          "execution_count": 4,
          "metadata": {},
          "output_type": "execute_result"
        }
      ],
      "source": [
        "# What is the average transaction amount?\n",
        "# Automatically ignored null values when calculating the mean\n",
        "sales['TransactionAmount'].mean()"
      ]
    },
    {
      "cell_type": "code",
      "execution_count": 5,
      "metadata": {
        "id": "z15AxGlCXIAs"
      },
      "outputs": [
        {
          "data": {
            "text/plain": [
              "np.float64(4421.879999999999)"
            ]
          },
          "execution_count": 5,
          "metadata": {},
          "output_type": "execute_result"
        }
      ],
      "source": [
        "# What is the total transaction amount?\n",
        "# Automatically ignored null values when calculating the sum\n",
        "sales['TransactionAmount'].sum()"
      ]
    },
    {
      "cell_type": "code",
      "execution_count": 6,
      "metadata": {
        "id": "AnTGO9QcyW4d"
      },
      "outputs": [
        {
          "data": {
            "text/plain": [
              "np.float64(4198.0)"
            ]
          },
          "execution_count": 6,
          "metadata": {},
          "output_type": "execute_result"
        }
      ],
      "source": [
        "sales['TransactionAmount'].max()"
      ]
    },
    {
      "cell_type": "code",
      "execution_count": 7,
      "metadata": {
        "colab": {
          "base_uri": "https://localhost:8080/",
          "height": 237
        },
        "id": "CtwoP-EFRDue",
        "outputId": "c43df43c-63e6-4685-85c4-35828aa95b33"
      },
      "outputs": [
        {
          "data": {
            "text/html": [
              "<div>\n",
              "<style scoped>\n",
              "    .dataframe tbody tr th:only-of-type {\n",
              "        vertical-align: middle;\n",
              "    }\n",
              "\n",
              "    .dataframe tbody tr th {\n",
              "        vertical-align: top;\n",
              "    }\n",
              "\n",
              "    .dataframe thead th {\n",
              "        text-align: right;\n",
              "    }\n",
              "</style>\n",
              "<table border=\"1\" class=\"dataframe\">\n",
              "  <thead>\n",
              "    <tr style=\"text-align: right;\">\n",
              "      <th></th>\n",
              "      <th>Transaction_ID</th>\n",
              "      <th>Product_ID</th>\n",
              "      <th>Quantity</th>\n",
              "      <th>Price</th>\n",
              "      <th>Date</th>\n",
              "      <th>TransactionAmount</th>\n",
              "    </tr>\n",
              "    <tr>\n",
              "      <th>Customer_ID</th>\n",
              "      <th></th>\n",
              "      <th></th>\n",
              "      <th></th>\n",
              "      <th></th>\n",
              "      <th></th>\n",
              "      <th></th>\n",
              "    </tr>\n",
              "  </thead>\n",
              "  <tbody>\n",
              "    <tr>\n",
              "      <th>C101</th>\n",
              "      <td>5</td>\n",
              "      <td>P001P003</td>\n",
              "      <td>5</td>\n",
              "      <td>2108.99</td>\n",
              "      <td>1/5/20231/8/2023</td>\n",
              "      <td>4227.97</td>\n",
              "    </tr>\n",
              "    <tr>\n",
              "      <th>C102</th>\n",
              "      <td>14</td>\n",
              "      <td>P002P002P004</td>\n",
              "      <td>4</td>\n",
              "      <td>59.98</td>\n",
              "      <td>202301061/9/20231/11/2023</td>\n",
              "      <td>89.97</td>\n",
              "    </tr>\n",
              "    <tr>\n",
              "      <th>C103</th>\n",
              "      <td>21</td>\n",
              "      <td>P001P005P005</td>\n",
              "      <td>3</td>\n",
              "      <td>40.97</td>\n",
              "      <td>1/7/20231/13/20231/13/2023</td>\n",
              "      <td>40.97</td>\n",
              "    </tr>\n",
              "    <tr>\n",
              "      <th>C105</th>\n",
              "      <td>6</td>\n",
              "      <td>P001</td>\n",
              "      <td>1</td>\n",
              "      <td>20.99</td>\n",
              "      <td>1/10/2023</td>\n",
              "      <td>20.99</td>\n",
              "    </tr>\n",
              "    <tr>\n",
              "      <th>C106</th>\n",
              "      <td>8</td>\n",
              "      <td>P001</td>\n",
              "      <td>2</td>\n",
              "      <td>20.99</td>\n",
              "      <td>1/12/2023</td>\n",
              "      <td>41.98</td>\n",
              "    </tr>\n",
              "  </tbody>\n",
              "</table>\n",
              "</div>"
            ],
            "text/plain": [
              "             Transaction_ID    Product_ID  Quantity    Price  \\\n",
              "Customer_ID                                                    \n",
              "C101                      5      P001P003         5  2108.99   \n",
              "C102                     14  P002P002P004         4    59.98   \n",
              "C103                     21  P001P005P005         3    40.97   \n",
              "C105                      6          P001         1    20.99   \n",
              "C106                      8          P001         2    20.99   \n",
              "\n",
              "                                   Date  TransactionAmount  \n",
              "Customer_ID                                                 \n",
              "C101                   1/5/20231/8/2023            4227.97  \n",
              "C102          202301061/9/20231/11/2023              89.97  \n",
              "C103         1/7/20231/13/20231/13/2023              40.97  \n",
              "C105                          1/10/2023              20.99  \n",
              "C106                          1/12/2023              41.98  "
            ]
          },
          "execution_count": 7,
          "metadata": {},
          "output_type": "execute_result"
        }
      ],
      "source": [
        "# Use .groupby() to group your data and execute functions (e.g., sum) on these groups\n",
        "sales.groupby('Customer_ID').sum() # .sum() calculates the total of numeric columns and concatenates the string columns\n",
        "# Row index 6 has null values in Price and TransactionAmount columns\n",
        "# The null values in Price and TransactionAmount are ignored\n",
        "# Other numeric columns (Transaction_ID, Quantity) in row index 6 are not ignored"
      ]
    },
    {
      "cell_type": "code",
      "execution_count": 8,
      "metadata": {
        "id": "Z9EUiluBZiRT"
      },
      "outputs": [],
      "source": [
        "# The null values can be confusing and intervene with our analysis\n",
        "# The best practice is to clean up the null values (and other problems) before analysis"
      ]
    },
    {
      "cell_type": "markdown",
      "metadata": {
        "id": "rNtgzvAIZgII"
      },
      "source": [
        "**Step 1 (Revision - Handle Duplicates): Remove duplicated rows in the sales dataframe with keeping the first occurence**"
      ]
    },
    {
      "cell_type": "code",
      "execution_count": 9,
      "metadata": {
        "id": "RgDYR6HQSOoo"
      },
      "outputs": [],
      "source": [
        "# Load the CSV into a dataframe\n",
        "sales = pd.read_csv('./sales_data.csv')\n",
        "# Clean the sales data\n",
        "# Step 1: Remove duplicated rows\n",
        "sales.drop_duplicates(inplace = True)"
      ]
    },
    {
      "cell_type": "markdown",
      "metadata": {
        "id": "ZWW3-wLyMVqM"
      },
      "source": [
        "**Step 2 (Revision: Correct Wrong Values): Change the price of Product P001 to 20.99 and recalculate transaction amount (Quantity * Price)**"
      ]
    },
    {
      "cell_type": "code",
      "execution_count": 10,
      "metadata": {
        "id": "duTHaWUISTlO"
      },
      "outputs": [],
      "source": [
        "# Step 2: Correct wrong values\n",
        "sales.loc[sales['Product_ID'] == 'P001', 'Price'] = 20.99\n",
        "sales['TransactionAmount'] = sales['Quantity'] * sales['Price']"
      ]
    },
    {
      "cell_type": "markdown",
      "metadata": {
        "id": "u0AQlPUJLIt-"
      },
      "source": [
        "**Step 3 (Revision: Fill Null Values): Change the null value of Price to the weighted price of all other products in the sales table (i.e., total transaction amount of all the products divided by total quantity of all the products) and recalculate transaction amount**"
      ]
    },
    {
      "cell_type": "code",
      "execution_count": 11,
      "metadata": {
        "id": "rXNlGwK7Sg_d"
      },
      "outputs": [],
      "source": [
        "# Step 3: Clean null values\n",
        "weighted_price = sales['TransactionAmount'].sum() / sales['Quantity'].sum()\n",
        "sales['Price'] = sales['Price'].fillna(weighted_price)\n",
        "# Recalculate Transaction Amount\n",
        "sales['TransactionAmount'] = sales['Quantity'] * sales['Price']"
      ]
    },
    {
      "cell_type": "code",
      "execution_count": 12,
      "metadata": {
        "colab": {
          "base_uri": "https://localhost:8080/"
        },
        "id": "MX9ED8rnT8dK",
        "outputId": "7edb5cf3-29d3-4be7-b5e0-6d675feff64e"
      },
      "outputs": [
        {
          "name": "stdout",
          "output_type": "stream",
          "text": [
            "Customer_ID\n",
            "C101     71.950000\n",
            "C102    108.246429\n",
            "C103     30.980000\n",
            "C105     20.990000\n",
            "C106     41.980000\n",
            "Name: TransactionAmount, dtype: float64\n",
            "\n",
            "<class 'pandas.core.series.Series'>\n"
          ]
        }
      ],
      "source": [
        "# We can specify to only perform .sum() on the TransactionAmount column\n",
        "total_amount_per_customer = sales.groupby('Customer_ID')['TransactionAmount'].sum()\n",
        "print(total_amount_per_customer)\n",
        "print()\n",
        "print(type(total_amount_per_customer))"
      ]
    },
    {
      "cell_type": "code",
      "execution_count": 13,
      "metadata": {
        "colab": {
          "base_uri": "https://localhost:8080/",
          "height": 237
        },
        "id": "xa7jM1abERwk",
        "outputId": "38d3019f-d4d4-45ac-bd72-2c060f423aaa"
      },
      "outputs": [
        {
          "data": {
            "text/html": [
              "<div>\n",
              "<style scoped>\n",
              "    .dataframe tbody tr th:only-of-type {\n",
              "        vertical-align: middle;\n",
              "    }\n",
              "\n",
              "    .dataframe tbody tr th {\n",
              "        vertical-align: top;\n",
              "    }\n",
              "\n",
              "    .dataframe thead th {\n",
              "        text-align: right;\n",
              "    }\n",
              "</style>\n",
              "<table border=\"1\" class=\"dataframe\">\n",
              "  <thead>\n",
              "    <tr style=\"text-align: right;\">\n",
              "      <th></th>\n",
              "      <th>TransactionAmount</th>\n",
              "      <th>Transaction_ID</th>\n",
              "    </tr>\n",
              "    <tr>\n",
              "      <th>Customer_ID</th>\n",
              "      <th></th>\n",
              "      <th></th>\n",
              "    </tr>\n",
              "  </thead>\n",
              "  <tbody>\n",
              "    <tr>\n",
              "      <th>C101</th>\n",
              "      <td>71.950000</td>\n",
              "      <td>5</td>\n",
              "    </tr>\n",
              "    <tr>\n",
              "      <th>C102</th>\n",
              "      <td>108.246429</td>\n",
              "      <td>14</td>\n",
              "    </tr>\n",
              "    <tr>\n",
              "      <th>C103</th>\n",
              "      <td>30.980000</td>\n",
              "      <td>12</td>\n",
              "    </tr>\n",
              "    <tr>\n",
              "      <th>C105</th>\n",
              "      <td>20.990000</td>\n",
              "      <td>6</td>\n",
              "    </tr>\n",
              "    <tr>\n",
              "      <th>C106</th>\n",
              "      <td>41.980000</td>\n",
              "      <td>8</td>\n",
              "    </tr>\n",
              "  </tbody>\n",
              "</table>\n",
              "</div>"
            ],
            "text/plain": [
              "             TransactionAmount  Transaction_ID\n",
              "Customer_ID                                   \n",
              "C101                 71.950000               5\n",
              "C102                108.246429              14\n",
              "C103                 30.980000              12\n",
              "C105                 20.990000               6\n",
              "C106                 41.980000               8"
            ]
          },
          "execution_count": 13,
          "metadata": {},
          "output_type": "execute_result"
        }
      ],
      "source": [
        "# We can specify to perform .sum() on more than one column\n",
        "sales.groupby('Customer_ID')[['TransactionAmount', 'Transaction_ID']].sum() # summing transaction ID is not meaningful"
      ]
    },
    {
      "cell_type": "markdown",
      "metadata": {
        "id": "5kgqnmKFWrwi"
      },
      "source": [
        "**Practice 1: Write code to answer the following question: for each product, what is its average price weighted by transaction quantity?**"
      ]
    },
    {
      "cell_type": "code",
      "execution_count": 14,
      "metadata": {},
      "outputs": [
        {
          "name": "stdout",
          "output_type": "stream",
          "text": [
            "            TransactionAmount  Quantity  weighted_price\n",
            "Product_ID                                             \n",
            "P001               125.940000         6       20.990000\n",
            "P002                89.970000         3       29.990000\n",
            "P003                29.970000         3        9.990000\n",
            "P004                18.276429         1       18.276429\n",
            "P005                 9.990000         1        9.990000\n"
          ]
        }
      ],
      "source": [
        "prod = sales.groupby('Product_ID')[['TransactionAmount','Quantity']].sum()\n",
        "prod['weighted_price'] = prod['TransactionAmount'] / prod['Quantity']\n",
        "print(prod)"
      ]
    },
    {
      "cell_type": "markdown",
      "metadata": {
        "id": "aTUIr2GCNoWI"
      },
      "source": [
        "# Data Analytics (More Summary Statistics)"
      ]
    },
    {
      "cell_type": "code",
      "execution_count": 15,
      "metadata": {
        "id": "RMIe7fXbDlPn"
      },
      "outputs": [
        {
          "data": {
            "text/plain": [
              "Customer_ID\n",
              "C102    3\n",
              "C101    2\n",
              "C103    2\n",
              "C105    1\n",
              "C106    1\n",
              "Name: count, dtype: int64"
            ]
          },
          "execution_count": 15,
          "metadata": {},
          "output_type": "execute_result"
        }
      ],
      "source": [
        "# Use .value_counts() to count the number of transactions for each customer\n",
        "sales['Customer_ID'].value_counts()"
      ]
    },
    {
      "cell_type": "markdown",
      "metadata": {
        "id": "zm1pY_DDRG48"
      },
      "source": [
        "**Practice 2: Write code to count the number of transactions for each pair of customer and product**"
      ]
    },
    {
      "cell_type": "code",
      "execution_count": 16,
      "metadata": {},
      "outputs": [
        {
          "data": {
            "text/plain": [
              "Customer_ID\n",
              "C101    2\n",
              "C102    3\n",
              "C103    2\n",
              "C105    1\n",
              "C106    1\n",
              "Name: Product_ID, dtype: int64"
            ]
          },
          "execution_count": 16,
          "metadata": {},
          "output_type": "execute_result"
        }
      ],
      "source": [
        "sales.groupby('Customer_ID')['Product_ID'].count() # to get the proportion"
      ]
    },
    {
      "cell_type": "code",
      "execution_count": 17,
      "metadata": {
        "id": "f7dMBRW_E4vG"
      },
      "outputs": [
        {
          "data": {
            "text/plain": [
              "Customer_ID\n",
              "C102    108.246429\n",
              "C101     71.950000\n",
              "C106     41.980000\n",
              "C103     30.980000\n",
              "C105     20.990000\n",
              "Name: TransactionAmount, dtype: float64"
            ]
          },
          "execution_count": 17,
          "metadata": {},
          "output_type": "execute_result"
        }
      ],
      "source": [
        "# Use .nlargest() to get the top five customers with the largest total amount\n",
        "total_amount_per_customer.nlargest(5) # total_amount_per_customer is a pandas series"
      ]
    },
    {
      "cell_type": "code",
      "execution_count": 18,
      "metadata": {
        "id": "Gvk0-YjrShQK"
      },
      "outputs": [
        {
          "data": {
            "text/plain": [
              "'C102'"
            ]
          },
          "execution_count": 18,
          "metadata": {},
          "output_type": "execute_result"
        }
      ],
      "source": [
        "# Use .idxmax() to return the label of first occurrence of maximum value\n",
        "total_amount_per_customer.idxmax()"
      ]
    },
    {
      "cell_type": "markdown",
      "metadata": {
        "id": "xQ6ywiPHRw7N"
      },
      "source": [
        "**Practice 3: Use .nlargest(), .nsmallest(), .idxmax(), and .idxmin() to write code to get the product with the highest and lowest average price weighted by transaction quantity**\n",
        "\n",
        "**Hint 1: Use your answer from Practice 2**\n",
        "\n",
        "**Hint 2: Read resources here: https://tutorialsinhand.com/Articles/pandas-dataframe---nsmallest-and-nlargest.aspx and https://proclusacademy.com/blog/quicktip/pandas-idxmin-idxmax/**\n",
        "\n",
        "**The second resource also talks about having repeated max and min values**"
      ]
    },
    {
      "cell_type": "code",
      "execution_count": null,
      "metadata": {},
      "outputs": [],
      "source": []
    },
    {
      "cell_type": "markdown",
      "metadata": {
        "id": "P1xqMTrjOkpF"
      },
      "source": [
        "# **New Content**"
      ]
    },
    {
      "cell_type": "markdown",
      "metadata": {
        "id": "nLYwPOKMVp8z"
      },
      "source": [
        "# Handling More Than One Dataframe"
      ]
    },
    {
      "cell_type": "code",
      "execution_count": null,
      "metadata": {
        "id": "MHfJPziMI18c"
      },
      "outputs": [],
      "source": [
        "# Run this cell for preparation\n",
        "# Load the CSV into a dataframe\n",
        "sales = pd.read_csv('./sales_data.csv')\n",
        "\n",
        "# Clean the sales data\n",
        "# Step 1: Remove duplicated rows\n",
        "sales.drop_duplicates(inplace = True) # We set inplace = True to make sure that the method does NOT return a new dataframe, but it will remove all duplicates from the original dataframe\n",
        "\n",
        "# Step 2: Correct wrong values\n",
        "sales.loc[sales['Product_ID'] == 'P001', 'Price'] = 20.99\n",
        "sales['TransactionAmount'] = sales['Quantity'] * sales['Price']\n",
        "\n",
        "# Step 3: Clean null values\n",
        "weighted_price = sales['TransactionAmount'].sum() / sales['Quantity'].sum()\n",
        "sales['Price'] = sales['Price'].fillna(weighted_price)\n",
        "\n",
        "# Step 4: Recalculate Transaction Amount\n",
        "sales['TransactionAmount'] = sales['Quantity'] * sales['Price']"
      ]
    },
    {
      "cell_type": "code",
      "execution_count": 20,
      "metadata": {
        "id": "NIoPlqs7V8dV"
      },
      "outputs": [
        {
          "name": "stdout",
          "output_type": "stream",
          "text": [
            "  Customer_ID     Name                Email           City\n",
            "0        C101    Alice    alice@example.com       New York\n",
            "1        C102      Bob      bob@example.com    Los Angeles\n",
            "2        C103  Charlie  charlie@example.com        Chicago\n",
            "3        C104    David    david@example.com        Houston\n",
            "4        C105      Eve      eve@example.com          Miami\n",
            "5        C106    Frank    frank@example.com  San Francisco\n",
            "6        C107    Grace    grace@example.com        Seattle\n"
          ]
        }
      ],
      "source": [
        "# Load the CSV into a dataframe\n",
        "customers = pd.read_csv('./customers_data.csv')\n",
        "print(customers)"
      ]
    },
    {
      "cell_type": "code",
      "execution_count": 21,
      "metadata": {
        "id": "s5edkX9aWwoo"
      },
      "outputs": [
        {
          "name": "stdout",
          "output_type": "stream",
          "text": [
            "  Customer_ID   Name              Email     City\n",
            "3        C104  David  david@example.com  Houston\n",
            "6        C107  Grace  grace@example.com  Seattle\n"
          ]
        }
      ],
      "source": [
        "# We are interested in this question: which customers do not have transactions\n",
        "customers_without_transactions = customers[~customers['Customer_ID'].isin(sales['Customer_ID'])]\n",
        "print(customers_without_transactions)"
      ]
    },
    {
      "cell_type": "code",
      "execution_count": 22,
      "metadata": {
        "id": "k9kMp9nsXkAk"
      },
      "outputs": [
        {
          "name": "stdout",
          "output_type": "stream",
          "text": [
            "0    C101\n",
            "1    C102\n",
            "2    C103\n",
            "3    C101\n",
            "4    C102\n",
            "5    C105\n",
            "6    C102\n",
            "7    C106\n",
            "8    C103\n",
            "Name: Customer_ID, dtype: object\n",
            "\n",
            "0    C101\n",
            "1    C102\n",
            "2    C103\n",
            "3    C104\n",
            "4    C105\n",
            "5    C106\n",
            "6    C107\n",
            "Name: Customer_ID, dtype: object\n"
          ]
        }
      ],
      "source": [
        "print(sales['Customer_ID'])\n",
        "print()\n",
        "print(customers['Customer_ID'])"
      ]
    },
    {
      "cell_type": "code",
      "execution_count": 23,
      "metadata": {
        "id": "wA3nD4R0XWnV"
      },
      "outputs": [
        {
          "data": {
            "text/plain": [
              "0     True\n",
              "1     True\n",
              "2     True\n",
              "3    False\n",
              "4     True\n",
              "5     True\n",
              "6    False\n",
              "Name: Customer_ID, dtype: bool"
            ]
          },
          "execution_count": 23,
          "metadata": {},
          "output_type": "execute_result"
        }
      ],
      "source": [
        "# Get a pandas series to indicate whether Customer_ID in the customers dataframe is in Customer_ID of the sales dataframe\n",
        "customers['Customer_ID'].isin(sales['Customer_ID'])"
      ]
    },
    {
      "cell_type": "code",
      "execution_count": null,
      "metadata": {
        "id": "khYcv_rVXFKr"
      },
      "outputs": [
        {
          "data": {
            "text/plain": [
              "0    False\n",
              "1    False\n",
              "2    False\n",
              "3     True\n",
              "4    False\n",
              "5    False\n",
              "6     True\n",
              "Name: Customer_ID, dtype: bool"
            ]
          },
          "execution_count": 24,
          "metadata": {},
          "output_type": "execute_result"
        }
      ],
      "source": [
        "# Use ~ to reverse True and False\n",
        "~customers['Customer_ID'].isin(sales['Customer_ID']) # Remember to use ~ to reverse True and False"
      ]
    },
    {
      "cell_type": "code",
      "execution_count": null,
      "metadata": {
        "id": "lFyAApseYFI3"
      },
      "outputs": [
        {
          "data": {
            "text/html": [
              "<div>\n",
              "<style scoped>\n",
              "    .dataframe tbody tr th:only-of-type {\n",
              "        vertical-align: middle;\n",
              "    }\n",
              "\n",
              "    .dataframe tbody tr th {\n",
              "        vertical-align: top;\n",
              "    }\n",
              "\n",
              "    .dataframe thead th {\n",
              "        text-align: right;\n",
              "    }\n",
              "</style>\n",
              "<table border=\"1\" class=\"dataframe\">\n",
              "  <thead>\n",
              "    <tr style=\"text-align: right;\">\n",
              "      <th></th>\n",
              "      <th>Customer_ID</th>\n",
              "      <th>Name</th>\n",
              "      <th>Email</th>\n",
              "      <th>City</th>\n",
              "    </tr>\n",
              "  </thead>\n",
              "  <tbody>\n",
              "    <tr>\n",
              "      <th>3</th>\n",
              "      <td>C104</td>\n",
              "      <td>David</td>\n",
              "      <td>david@example.com</td>\n",
              "      <td>Houston</td>\n",
              "    </tr>\n",
              "    <tr>\n",
              "      <th>6</th>\n",
              "      <td>C107</td>\n",
              "      <td>Grace</td>\n",
              "      <td>grace@example.com</td>\n",
              "      <td>Seattle</td>\n",
              "    </tr>\n",
              "  </tbody>\n",
              "</table>\n",
              "</div>"
            ],
            "text/plain": [
              "  Customer_ID   Name              Email     City\n",
              "3        C104  David  david@example.com  Houston\n",
              "6        C107  Grace  grace@example.com  Seattle"
            ]
          },
          "execution_count": 25,
          "metadata": {},
          "output_type": "execute_result"
        }
      ],
      "source": [
        "# Get the rows in the customers dataframe corresponding to True\n",
        "customers[~customers['Customer_ID'].isin(sales['Customer_ID'])] # Remember to use ~ to reverse True and False"
      ]
    },
    {
      "cell_type": "markdown",
      "metadata": {
        "id": "J6WeT7GzYcTU"
      },
      "source": [
        "**Practice 4: Get the rows in the sales table where the customer's city is Chicago**"
      ]
    },
    {
      "cell_type": "code",
      "execution_count": 26,
      "metadata": {},
      "outputs": [
        {
          "data": {
            "text/plain": [
              "2    C103\n",
              "Name: Customer_ID, dtype: object"
            ]
          },
          "execution_count": 26,
          "metadata": {},
          "output_type": "execute_result"
        }
      ],
      "source": [
        "customers.loc[customers['City'] == 'Chicago', 'Customer_ID']\n",
        "\n"
      ]
    },
    {
      "cell_type": "code",
      "execution_count": 27,
      "metadata": {},
      "outputs": [
        {
          "data": {
            "text/html": [
              "<div>\n",
              "<style scoped>\n",
              "    .dataframe tbody tr th:only-of-type {\n",
              "        vertical-align: middle;\n",
              "    }\n",
              "\n",
              "    .dataframe tbody tr th {\n",
              "        vertical-align: top;\n",
              "    }\n",
              "\n",
              "    .dataframe thead th {\n",
              "        text-align: right;\n",
              "    }\n",
              "</style>\n",
              "<table border=\"1\" class=\"dataframe\">\n",
              "  <thead>\n",
              "    <tr style=\"text-align: right;\">\n",
              "      <th></th>\n",
              "      <th>Transaction_ID</th>\n",
              "      <th>Customer_ID</th>\n",
              "      <th>Product_ID</th>\n",
              "      <th>Quantity</th>\n",
              "      <th>Price</th>\n",
              "      <th>Date</th>\n",
              "      <th>TransactionAmount</th>\n",
              "    </tr>\n",
              "  </thead>\n",
              "  <tbody>\n",
              "    <tr>\n",
              "      <th>2</th>\n",
              "      <td>3</td>\n",
              "      <td>C103</td>\n",
              "      <td>P001</td>\n",
              "      <td>1</td>\n",
              "      <td>20.99</td>\n",
              "      <td>1/7/2023</td>\n",
              "      <td>20.99</td>\n",
              "    </tr>\n",
              "    <tr>\n",
              "      <th>8</th>\n",
              "      <td>9</td>\n",
              "      <td>C103</td>\n",
              "      <td>P005</td>\n",
              "      <td>1</td>\n",
              "      <td>9.99</td>\n",
              "      <td>1/13/2023</td>\n",
              "      <td>9.99</td>\n",
              "    </tr>\n",
              "  </tbody>\n",
              "</table>\n",
              "</div>"
            ],
            "text/plain": [
              "   Transaction_ID Customer_ID Product_ID  Quantity  Price       Date  \\\n",
              "2               3        C103       P001         1  20.99   1/7/2023   \n",
              "8               9        C103       P005         1   9.99  1/13/2023   \n",
              "\n",
              "   TransactionAmount  \n",
              "2              20.99  \n",
              "8               9.99  "
            ]
          },
          "execution_count": 27,
          "metadata": {},
          "output_type": "execute_result"
        }
      ],
      "source": [
        "sales[sales[\"Customer_ID\"].isin(customers.loc[customers['City'] == 'Chicago', 'Customer_ID'])]"
      ]
    },
    {
      "cell_type": "code",
      "execution_count": 28,
      "metadata": {
        "id": "ZKsJZNZOYUZw"
      },
      "outputs": [
        {
          "name": "stdout",
          "output_type": "stream",
          "text": [
            "   Transaction_ID Customer_ID Product_ID  Quantity      Price       Date  \\\n",
            "0               1        C101       P001         2  20.990000   1/5/2023   \n",
            "1               2        C102       P002         1  29.990000   20230106   \n",
            "2               3        C103       P001         1  20.990000   1/7/2023   \n",
            "3               4        C101       P003         3   9.990000   1/8/2023   \n",
            "4               5        C102       P002         2  29.990000   1/9/2023   \n",
            "5               6        C105       P001         1  20.990000  1/10/2023   \n",
            "6               7        C102       P004         1  18.276429  1/11/2023   \n",
            "7               8        C106       P001         2  20.990000  1/12/2023   \n",
            "8               9        C103       P005         1   9.990000  1/13/2023   \n",
            "\n",
            "   TransactionAmount     Name                Email           City  \n",
            "0          41.980000    Alice    alice@example.com       New York  \n",
            "1          29.990000      Bob      bob@example.com    Los Angeles  \n",
            "2          20.990000  Charlie  charlie@example.com        Chicago  \n",
            "3          29.970000    Alice    alice@example.com       New York  \n",
            "4          59.980000      Bob      bob@example.com    Los Angeles  \n",
            "5          20.990000      Eve      eve@example.com          Miami  \n",
            "6          18.276429      Bob      bob@example.com    Los Angeles  \n",
            "7          41.980000    Frank    frank@example.com  San Francisco  \n",
            "8           9.990000  Charlie  charlie@example.com        Chicago  \n"
          ]
        }
      ],
      "source": [
        "# Merge the sales dataframe with the customers dataframe to create a single dataframe containing all the information\n",
        "sales_left_merge_customers = pd.merge(sales, customers, on='Customer_ID', how='left') # Specify how='left' so all the Customer_ID's in sales will be included in the merged dataset\n",
        "print(sales_left_merge_customers)"
      ]
    },
    {
      "cell_type": "code",
      "execution_count": 29,
      "metadata": {
        "id": "keVBrRigZ9zU"
      },
      "outputs": [
        {
          "name": "stdout",
          "output_type": "stream",
          "text": [
            "    Transaction_ID Customer_ID Product_ID  Quantity      Price       Date  \\\n",
            "0              1.0        C101       P001       2.0  20.990000   1/5/2023   \n",
            "1              4.0        C101       P003       3.0   9.990000   1/8/2023   \n",
            "2              2.0        C102       P002       1.0  29.990000   20230106   \n",
            "3              5.0        C102       P002       2.0  29.990000   1/9/2023   \n",
            "4              7.0        C102       P004       1.0  18.276429  1/11/2023   \n",
            "5              3.0        C103       P001       1.0  20.990000   1/7/2023   \n",
            "6              9.0        C103       P005       1.0   9.990000  1/13/2023   \n",
            "7              NaN        C104        NaN       NaN        NaN        NaN   \n",
            "8              6.0        C105       P001       1.0  20.990000  1/10/2023   \n",
            "9              8.0        C106       P001       2.0  20.990000  1/12/2023   \n",
            "10             NaN        C107        NaN       NaN        NaN        NaN   \n",
            "\n",
            "    TransactionAmount     Name                Email           City  \n",
            "0           41.980000    Alice    alice@example.com       New York  \n",
            "1           29.970000    Alice    alice@example.com       New York  \n",
            "2           29.990000      Bob      bob@example.com    Los Angeles  \n",
            "3           59.980000      Bob      bob@example.com    Los Angeles  \n",
            "4           18.276429      Bob      bob@example.com    Los Angeles  \n",
            "5           20.990000  Charlie  charlie@example.com        Chicago  \n",
            "6            9.990000  Charlie  charlie@example.com        Chicago  \n",
            "7                 NaN    David    david@example.com        Houston  \n",
            "8           20.990000      Eve      eve@example.com          Miami  \n",
            "9           41.980000    Frank    frank@example.com  San Francisco  \n",
            "10                NaN    Grace    grace@example.com        Seattle  \n"
          ]
        }
      ],
      "source": [
        "sales_right_merge_customers = pd.merge(sales, customers, on='Customer_ID', how='right') # Specify how='right' so all the Customer_ID's in customers will be included in the merged dataset\n",
        "print(sales_right_merge_customers)"
      ]
    },
    {
      "cell_type": "code",
      "execution_count": 30,
      "metadata": {
        "id": "rg6A7vEFaN7w"
      },
      "outputs": [
        {
          "name": "stdout",
          "output_type": "stream",
          "text": [
            "    Transaction_ID Customer_ID Product_ID  Quantity      Price       Date  \\\n",
            "0              1.0        C101       P001       2.0  20.990000   1/5/2023   \n",
            "1              4.0        C101       P003       3.0   9.990000   1/8/2023   \n",
            "2              2.0        C102       P002       1.0  29.990000   20230106   \n",
            "3              5.0        C102       P002       2.0  29.990000   1/9/2023   \n",
            "4              7.0        C102       P004       1.0  18.276429  1/11/2023   \n",
            "5              3.0        C103       P001       1.0  20.990000   1/7/2023   \n",
            "6              9.0        C103       P005       1.0   9.990000  1/13/2023   \n",
            "7              NaN        C104        NaN       NaN        NaN        NaN   \n",
            "8              6.0        C105       P001       1.0  20.990000  1/10/2023   \n",
            "9              8.0        C106       P001       2.0  20.990000  1/12/2023   \n",
            "10             NaN        C107        NaN       NaN        NaN        NaN   \n",
            "\n",
            "    TransactionAmount     Name                Email           City  \n",
            "0           41.980000    Alice    alice@example.com       New York  \n",
            "1           29.970000    Alice    alice@example.com       New York  \n",
            "2           29.990000      Bob      bob@example.com    Los Angeles  \n",
            "3           59.980000      Bob      bob@example.com    Los Angeles  \n",
            "4           18.276429      Bob      bob@example.com    Los Angeles  \n",
            "5           20.990000  Charlie  charlie@example.com        Chicago  \n",
            "6            9.990000  Charlie  charlie@example.com        Chicago  \n",
            "7                 NaN    David    david@example.com        Houston  \n",
            "8           20.990000      Eve      eve@example.com          Miami  \n",
            "9           41.980000    Frank    frank@example.com  San Francisco  \n",
            "10                NaN    Grace    grace@example.com        Seattle  \n"
          ]
        }
      ],
      "source": [
        "sales_outer_merge_customers = pd.merge(sales, customers, on='Customer_ID', how='outer') # Specify how='outer' so all the Customer_ID's in sales and customers will be included in the merged dataset\n",
        "print(sales_outer_merge_customers)"
      ]
    },
    {
      "cell_type": "code",
      "execution_count": 31,
      "metadata": {
        "id": "jsJN3_W2ZUU-"
      },
      "outputs": [
        {
          "name": "stdout",
          "output_type": "stream",
          "text": [
            "   Transaction_ID Customer_ID Product_ID  Quantity      Price       Date  \\\n",
            "0               1        C101       P001         2  20.990000   1/5/2023   \n",
            "1               2        C102       P002         1  29.990000   20230106   \n",
            "2               3        C103       P001         1  20.990000   1/7/2023   \n",
            "3               4        C101       P003         3   9.990000   1/8/2023   \n",
            "4               5        C102       P002         2  29.990000   1/9/2023   \n",
            "5               6        C105       P001         1  20.990000  1/10/2023   \n",
            "6               7        C102       P004         1  18.276429  1/11/2023   \n",
            "7               8        C106       P001         2  20.990000  1/12/2023   \n",
            "8               9        C103       P005         1   9.990000  1/13/2023   \n",
            "\n",
            "   TransactionAmount     Name                Email           City  \n",
            "0          41.980000    Alice    alice@example.com       New York  \n",
            "1          29.990000      Bob      bob@example.com    Los Angeles  \n",
            "2          20.990000  Charlie  charlie@example.com        Chicago  \n",
            "3          29.970000    Alice    alice@example.com       New York  \n",
            "4          59.980000      Bob      bob@example.com    Los Angeles  \n",
            "5          20.990000      Eve      eve@example.com          Miami  \n",
            "6          18.276429      Bob      bob@example.com    Los Angeles  \n",
            "7          41.980000    Frank    frank@example.com  San Francisco  \n",
            "8           9.990000  Charlie  charlie@example.com        Chicago  \n"
          ]
        }
      ],
      "source": [
        "sales_inner_merge_customers = pd.merge(sales, customers, on='Customer_ID', how='inner') # Specify how='inner' so the Customer_ID's that occur in both sales and customers will be included in the merged dataset\n",
        "print(sales_inner_merge_customers)"
      ]
    },
    {
      "cell_type": "markdown",
      "metadata": {
        "id": "AxHp2EOln3OT"
      },
      "source": [
        "# Correlation"
      ]
    },
    {
      "cell_type": "code",
      "execution_count": 32,
      "metadata": {
        "id": "fyEZWXcUntYz"
      },
      "outputs": [
        {
          "data": {
            "text/html": [
              "<div>\n",
              "<style scoped>\n",
              "    .dataframe tbody tr th:only-of-type {\n",
              "        vertical-align: middle;\n",
              "    }\n",
              "\n",
              "    .dataframe tbody tr th {\n",
              "        vertical-align: top;\n",
              "    }\n",
              "\n",
              "    .dataframe thead th {\n",
              "        text-align: right;\n",
              "    }\n",
              "</style>\n",
              "<table border=\"1\" class=\"dataframe\">\n",
              "  <thead>\n",
              "    <tr style=\"text-align: right;\">\n",
              "      <th></th>\n",
              "      <th>Quantity</th>\n",
              "      <th>Price</th>\n",
              "      <th>TransactionAmount</th>\n",
              "    </tr>\n",
              "  </thead>\n",
              "  <tbody>\n",
              "    <tr>\n",
              "      <th>Quantity</th>\n",
              "      <td>1.000000</td>\n",
              "      <td>-0.223804</td>\n",
              "      <td>0.578262</td>\n",
              "    </tr>\n",
              "    <tr>\n",
              "      <th>Price</th>\n",
              "      <td>-0.223804</td>\n",
              "      <td>1.000000</td>\n",
              "      <td>0.600085</td>\n",
              "    </tr>\n",
              "    <tr>\n",
              "      <th>TransactionAmount</th>\n",
              "      <td>0.578262</td>\n",
              "      <td>0.600085</td>\n",
              "      <td>1.000000</td>\n",
              "    </tr>\n",
              "  </tbody>\n",
              "</table>\n",
              "</div>"
            ],
            "text/plain": [
              "                   Quantity     Price  TransactionAmount\n",
              "Quantity           1.000000 -0.223804           0.578262\n",
              "Price             -0.223804  1.000000           0.600085\n",
              "TransactionAmount  0.578262  0.600085           1.000000"
            ]
          },
          "execution_count": 32,
          "metadata": {},
          "output_type": "execute_result"
        }
      ],
      "source": [
        "# Use the corr() method calculates the correlation between each column in your dataset\n",
        "# In statistical terms we use correlation to denote association between two quantitative variables\n",
        "# We also assume that the association is linear (i.e.,) one variable increases or decreases by a fixed amount for a unit increase or decrease in the other\n",
        "# The correlation coefficient is measured on a scale that varies from + 1 through 0 to – 1\n",
        "# Complete correlation between two variables is expressed by either + 1 or -1\n",
        "# Complete absence of correlation is represented by 0\n",
        "# Correlation is not causation: https://www.youtube.com/watch?v=8B271L3NtAw\n",
        "sales[['Quantity', 'Price', 'TransactionAmount']].corr() # You can specify the columns for calculating correlation"
      ]
    },
    {
      "cell_type": "markdown",
      "metadata": {
        "id": "RwHXafDhr7P7"
      },
      "source": [
        "# Plotting with Pandas"
      ]
    },
    {
      "cell_type": "code",
      "execution_count": 33,
      "metadata": {
        "id": "9z7rweJqrgrh"
      },
      "outputs": [
        {
          "data": {
            "image/png": "[encoded data removed]",
            "text/plain": [
              "<Figure size 640x480 with 1 Axes>"
            ]
          },
          "metadata": {},
          "output_type": "display_data"
        }
      ],
      "source": [
        "# Pandas uses the plot() method to create diagrams.\n",
        "# We can use Pyplot, a submodule of the Matplotlib library to visualize the data\n",
        "import matplotlib.pyplot as plt\n",
        "sales.plot()\n",
        "plt.show()"
      ]
    },
    {
      "cell_type": "code",
      "execution_count": 34,
      "metadata": {
        "id": "sVXtbhkhsZr6"
      },
      "outputs": [
        {
          "data": {
            "text/plain": [
              "<Axes: ylabel='Frequency'>"
            ]
          },
          "execution_count": 34,
          "metadata": {},
          "output_type": "execute_result"
        },
        {
          "data": {
            "image/png": "[encoded data removed]",
            "text/plain": [
              "<Figure size 640x480 with 1 Axes>"
            ]
          },
          "metadata": {},
          "output_type": "display_data"
        }
      ],
      "source": [
        "# Specify kind = 'hist' to indicate you want a histogram\n",
        "# A histogram needs only one column (e.g., \"TransactionAmount\")\n",
        "# A histogram shows us the frequency of each interval, e.g. how many transactions have a transaction amount between 20 and 30?\n",
        "# Histograms are helpful for identifying outliers and skewed distributions\n",
        "sales[\"TransactionAmount\"].plot(kind = 'hist')"
      ]
    },
    {
      "cell_type": "code",
      "execution_count": 35,
      "metadata": {
        "id": "KtqdUduTsQ1g"
      },
      "outputs": [
        {
          "data": {
            "image/png": "[encoded data removed]",
            "text/plain": [
              "<Figure size 640x480 with 1 Axes>"
            ]
          },
          "metadata": {},
          "output_type": "display_data"
        }
      ],
      "source": [
        "# Specify kind = 'scatter' to indicate you want a scatter plot\n",
        "# A scatter plot needs two columns: an x- and a y-axis (e.g., Price on the x-axis and TransactionAmount on the y-axis)\n",
        "sales.plot(kind = 'scatter', x = 'Price', y = 'TransactionAmount')\n",
        "plt.show()\n",
        "# The scatter plot suggests a positive correlation between Price and TransactionAmount"
      ]
    }
  ],
  "metadata": {
    "colab": {
      "collapsed_sections": [
        "3HEoooDoDfPU",
        "aTUIr2GCNoWI",
        "nLYwPOKMVp8z",
        "AxHp2EOln3OT",
        "RwHXafDhr7P7"
      ],
      "provenance": []
    },
    "kernelspec": {
      "display_name": "cis-606-001",
      "language": "python",
      "name": "python3"
    },
    "language_info": {
      "codemirror_mode": {
        "name": "ipython",
        "version": 3
      },
      "file_extension": ".py",
      "mimetype": "text/x-python",
      "name": "python",
      "nbconvert_exporter": "python",
      "pygments_lexer": "ipython3",
      "version": "3.12.3"
    }
  },
  "nbformat": 4,
  "nbformat_minor": 0
}
