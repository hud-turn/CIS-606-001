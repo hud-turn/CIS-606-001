{
  "nbformat": 4,
  "nbformat_minor": 0,
  "metadata": {
    "colab": {
      "provenance": [],
      "collapsed_sections": [
        "rptg5Jy8FVnG"
      ]
    },
    "kernelspec": {
      "name": "python3",
      "display_name": "Python 3"
    },
    "language_info": {
      "name": "python"
    }
  },
  "cells": [
    {
      "cell_type": "markdown",
      "source": [
        "# Use Dictionaries to Interact with Gen-AI"
      ],
      "metadata": {
        "id": "miRm5kgMUBL_"
      }
    },
    {
      "cell_type": "code",
      "source": [
        "from google.colab import ai\n",
        "import json\n",
        "import re\n",
        "\n",
        "def clean_string(text):\n",
        "    # Keep only alphanumeric characters and spaces in a string\n",
        "    return re.sub(r'[^A-Za-z0-9 ]+', '', text).strip()"
      ],
      "metadata": {
        "id": "gS_U_SknetnC"
      },
      "execution_count": null,
      "outputs": []
    },
    {
      "cell_type": "code",
      "source": [
        "national_park = {\"name\": \"Rocky Mountain National Park\",\n",
        "                 \"introduction_type\": \"history\",\n",
        "                 \"word_limit\": 100}\n",
        "response = ai.generate_text(f\"\"\"Please give me an introduction of {national_park[\"name\"]} within {national_park[\"word_limit\"]} words.\n",
        "                            Focus your introduction on {national_park[\"introduction_type\"]}.\n",
        "                            \"\"\")\n",
        "print(response)"
      ],
      "metadata": {
        "id": "uwNqMzSkUNW6",
        "colab": {
          "base_uri": "https://localhost:8080/"
        },
        "outputId": "e3430db8-5f44-4b95-ee8f-c172203bfdb8"
      },
      "execution_count": null,
      "outputs": [
        {
          "output_type": "stream",
          "name": "stdout",
          "text": [
            "Rocky Mountain National Park boasts a rich history predating its 1915 establishment. For centuries, Native American tribes, including the Ute and Arapaho, hunted and gathered across these ancestral lands. European trappers and prospectors later ventured into the mountains, followed by homesteaders. As development pressures grew, conservationists like Enos Mills passionately advocated for its preservation. His tireless efforts, highlighting the area's unique wilderness, led to President Woodrow Wilson designating it a national park, ensuring its majestic landscapes would be protected for all time.\n"
          ]
        }
      ]
    },
    {
      "cell_type": "code",
      "source": [
        "national_parks_by_state = {\"Colorado\": [\"Rocky Mountain National Park\", \"Black Canyon of the Gunnison National Park\",\n",
        "                                        \"Great Sand Dunes National Park\", \"Mesa Verde National Park\"],\n",
        "                           \"Alaska\": [\"Denali National Park\", \"Gates of the Arctic National Park\",\n",
        "                                      \"Glacier Bay National Park\", \"Katmai National Park\",\n",
        "                                      \"Kenai Fjords National Park\", \"Kobuk Valley National Park\",\n",
        "                                      \"Lake Clark National Park\", \"Wrangell-St. Elias National Park\"],\n",
        "                           \"Arizona\": [\"Grand Canyon National Park\", \"Petrified Forest National Park\",\n",
        "                                       \"Saguaro National Park\"]\n",
        "}\n",
        "national_park_introductions = []\n",
        "for national_park in national_parks_by_state[\"Arizona\"]:\n",
        "  response = ai.generate_text(f\"Please give me a one-sentence introduction of {national_park}.\")\n",
        "  national_park_introductions.append(response)\n",
        "print(national_park_introductions)"
      ],
      "metadata": {
        "id": "y3pjCkAdWO9e",
        "colab": {
          "base_uri": "https://localhost:8080/"
        },
        "outputId": "563cc854-3dbf-4067-c6f2-142c32da1545"
      },
      "execution_count": null,
      "outputs": [
        {
          "output_type": "stream",
          "name": "stdout",
          "text": [
            "[\"Grand Canyon National Park showcases an immense, awe-inspiring chasm carved by the Colorado River, revealing billions of years of Earth's geological history.\", 'Petrified Forest National Park is a striking landscape in northeastern Arizona renowned for its extensive deposits of colorful, fossilized wood and the vibrant badlands of the Painted Desert.', 'Saguaro National Park, located in southern Arizona, is a striking desert landscape renowned for its iconic, towering saguaro cacti, the largest cacti in the United States.']\n"
          ]
        }
      ]
    },
    {
      "cell_type": "code",
      "source": [
        "national_parks_list = [{\"name\": \"Rocky Mountain National Park\",\n",
        "                        \"state\": \"Colorado\"},\n",
        "                       {\"name\": \"Great Sand Dunes National Park\",\n",
        "                        \"state\": \"Colorado\"},\n",
        "                       {\"name\": \"Denali National Park\",\n",
        "                        \"state\": \"Alaska\"},\n",
        "                       {\"name\": \"Grand Canyon National Park\",\n",
        "                        \"state\": \"Arizona\"}\n",
        "                       ] # national_parks_list is a list of dictionaries\n",
        "for national_park in national_parks_list: # national_park is a dictionary\n",
        "  if national_park[\"state\"] == \"Colorado\":\n",
        "    response = ai.generate_text(f\"Please give me two travel tips for {national_park}.\")\n",
        "    national_park[\"travel_tips\"] = clean_string(response)\n",
        "    # national_park[\"travel_tips\"] = \"placeholder travel tips\"\n",
        "  else:\n",
        "    response = ai.generate_text(f\"Please give me a one-sentence introduction for {national_park}.\")\n",
        "    national_park[\"brief_introduction\"] = clean_string(response)\n",
        "    # national_park[\"brief_introduction\"] = \"placeholder brief introduction\"\n",
        "print(national_parks_list)"
      ],
      "metadata": {
        "id": "RZGnY3xRX4dF",
        "colab": {
          "base_uri": "https://localhost:8080/"
        },
        "outputId": "0a2c0697-6eb1-4037-dab1-aa622702372a"
      },
      "execution_count": null,
      "outputs": [
        {
          "output_type": "stream",
          "name": "stdout",
          "text": [
            "[{'name': 'Rocky Mountain National Park', 'state': 'Colorado', 'travel_tips': 'placeholder travel tips'}, {'name': 'Great Sand Dunes National Park', 'state': 'Colorado', 'travel_tips': 'placeholder travel tips'}, {'name': 'Denali National Park', 'state': 'Alaska', 'brief_introduction': 'Denali National Park and Preserve in Alaska is home to North Americas tallest peak Denali and a vast wilderness of mountains glaciers and wildlife'}, {'name': 'Grand Canyon National Park', 'state': 'Arizona', 'brief_introduction': 'Grand Canyon National Park in Arizona is a colossal natural wonder renowned for its immense and breathtaking gorge carved by the Colorado River'}]\n"
          ]
        }
      ]
    },
    {
      "cell_type": "code",
      "source": [
        "# store national_parks_list in a json file for easier access\n",
        "with open(\"national_parks_list.json\", \"w\", encoding=\"utf-8\") as file:\n",
        "    json.dump(national_parks_list, file)"
      ],
      "metadata": {
        "id": "Xlhqh1_CgmO5"
      },
      "execution_count": null,
      "outputs": []
    },
    {
      "cell_type": "code",
      "source": [
        "national_park_dict = {\"Rocky Mountain National Park\":{\n",
        "    \"state\": \"Colorado\",\n",
        "    \"acres\": 265461\n",
        "    },\n",
        "                       \"Great Sand Dunes National Park\":{\n",
        "    \"state\": \"Colorado\",\n",
        "    \"acres\": 149028\n",
        "    },\n",
        "                       \"Denali National Park\":{\n",
        "    \"state\": \"Alaska\",\n",
        "    \"acres\": 4740911\n",
        "    },\n",
        "                       \"Grand Canyon National Park\":{\n",
        "    \"state\": \"Arizona\",\n",
        "    \"acres\": 1217262\n",
        "    }\n",
        "} # national_park_dict is a dictionary of dictionaries\n",
        "for key, value in national_park_dict.items(): # value is the inner dictionary\n",
        "  if value[\"state\"] == \"Colorado\":\n",
        "    # response = ai.generate_text(f\"Please give me two travel tips for {national_park}.\")\n",
        "    # value[\"travel_tips\"] = clean_string(response)\n",
        "    value[\"travel_tips\"] = \"placeholder travel tips\"\n",
        "  else:\n",
        "    # response = ai.generate_text(f\"Please give me a one-sentence introduction for {national_park}.\")\n",
        "    # value[\"brief_introduction\"] = clean_string(response)\n",
        "    value[\"brief_introduction\"] = \"placeholder brief introductions\"\n",
        "print(national_park_dict)"
      ],
      "metadata": {
        "id": "ipK-zCihaK7U",
        "colab": {
          "base_uri": "https://localhost:8080/"
        },
        "outputId": "04d2c505-5eea-4142-a293-247090410888"
      },
      "execution_count": null,
      "outputs": [
        {
          "output_type": "stream",
          "name": "stdout",
          "text": [
            "{'Rocky Mountain National Park': {'state': 'Colorado', 'acres': 265461, 'travel_tips': 'placeholder travel tips'}, 'Great Sand Dunes National Park': {'state': 'Colorado', 'acres': 149028, 'travel_tips': 'placeholder travel tips'}, 'Denali National Park': {'state': 'Alaska', 'acres': 4740911, 'brief_introduction': 'placeholder brief introductions'}, 'Grand Canyon National Park': {'state': 'Arizona', 'acres': 1217262, 'brief_introduction': 'placeholder brief introductions'}}\n"
          ]
        }
      ]
    },
    {
      "cell_type": "code",
      "source": [
        "# store national_park_dict in a json file for easier access\n",
        "with open(\"national_park_dict.json\", \"w\", encoding=\"utf-8\") as file:\n",
        "    json.dump(national_park_dict, file)"
      ],
      "metadata": {
        "id": "EXlPv_SWf-_e"
      },
      "execution_count": null,
      "outputs": []
    },
    {
      "cell_type": "markdown",
      "metadata": {
        "id": "lAIHWvDKPiFq"
      },
      "source": [
        "# Review: Range and For Loop"
      ]
    },
    {
      "cell_type": "code",
      "execution_count": null,
      "metadata": {
        "id": "fFUx-lqoPY35",
        "colab": {
          "base_uri": "https://localhost:8080/"
        },
        "outputId": "e645989a-f3f9-4d39-c31e-484deeb935a1"
      },
      "outputs": [
        {
          "output_type": "stream",
          "name": "stdout",
          "text": [
            "5\n"
          ]
        }
      ],
      "source": [
        "list_of_colors = [\"red\", \"orange\", \"green\", \"red\", \"yellow\"]\n",
        "print(len(list_of_colors))"
      ]
    },
    {
      "cell_type": "code",
      "execution_count": null,
      "metadata": {
        "id": "xc6SnhYEC_45",
        "colab": {
          "base_uri": "https://localhost:8080/"
        },
        "outputId": "40857946-4f54-4d67-9d57-78a341d20285"
      },
      "outputs": [
        {
          "output_type": "stream",
          "name": "stdout",
          "text": [
            "red\n",
            "orange\n",
            "green\n",
            "red\n",
            "yellow\n"
          ]
        }
      ],
      "source": [
        "# Loop through the list items with item index\n",
        "# You can use range(len(list_of_colors))\n",
        "for i in range(len(list_of_colors)):\n",
        "  print(list_of_colors[i])"
      ]
    },
    {
      "cell_type": "code",
      "execution_count": null,
      "metadata": {
        "id": "lU1u3FTvDFu-",
        "colab": {
          "base_uri": "https://localhost:8080/"
        },
        "outputId": "2a576798-ea97-4571-fb69-c56d09fbe9e2"
      },
      "outputs": [
        {
          "output_type": "stream",
          "name": "stdout",
          "text": [
            "red\n",
            "orange\n",
            "green\n",
            "red\n",
            "yellow\n"
          ]
        }
      ],
      "source": [
        "for color in list_of_colors:\n",
        "  print(color)"
      ]
    },
    {
      "cell_type": "markdown",
      "metadata": {
        "id": "VKKYrg5MWFJv"
      },
      "source": [
        "# While Loop"
      ]
    },
    {
      "cell_type": "code",
      "execution_count": null,
      "metadata": {
        "id": "2z0Jx20IWR7g",
        "colab": {
          "base_uri": "https://localhost:8080/"
        },
        "outputId": "052b4bf9-5a39-4bce-b2d3-9796ddcedc59"
      },
      "outputs": [
        {
          "output_type": "stream",
          "name": "stdout",
          "text": [
            "red\n",
            "orange\n",
            "green\n",
            "red\n",
            "yellow\n"
          ]
        }
      ],
      "source": [
        "# The while loop executes a set of statements as long as a condition is true\n",
        "# Task: print the i-th element of list_of_colors as long as i is less than the length of list_of_colors\n",
        "# The while loop requires an indexing variable to be ready, so in this example we need to define an indexing variable, i, which we set to 0 initially\n",
        "i = 0\n",
        "while i < len(list_of_colors):\n",
        "  print(list_of_colors[i])\n",
        "  i = i + 1 # We must increment i, or the loop will continue forever"
      ]
    },
    {
      "cell_type": "code",
      "execution_count": null,
      "metadata": {
        "id": "M-HNBVLZmYtr",
        "colab": {
          "base_uri": "https://localhost:8080/"
        },
        "outputId": "4d416d3e-4b09-46f6-e687-90079501bfe6"
      },
      "outputs": [
        {
          "output_type": "stream",
          "name": "stdout",
          "text": [
            "5\n"
          ]
        }
      ],
      "source": [
        "# What is the value of i after the while loop stops\n",
        "print(i)"
      ]
    },
    {
      "cell_type": "code",
      "execution_count": null,
      "metadata": {
        "id": "uxHUhs2ib9ca"
      },
      "outputs": [],
      "source": [
        "# Previous practice activity: to remove all the \"red\" items in list_of_colors\n",
        "# Recall when we use remove() to remove a specified item from a list, only its first occurence is removed\n",
        "list_of_colors = [\"red\", \"orange\", \"red\", \"green\", \"yellow\"]\n",
        "new_list = []\n",
        "for item in list_of_colors:\n",
        "  if item != \"red\":\n",
        "    new_list.append(item)\n",
        "print(new_list)"
      ]
    },
    {
      "cell_type": "code",
      "execution_count": null,
      "metadata": {
        "id": "B1s1IDQVbe5n",
        "colab": {
          "base_uri": "https://localhost:8080/"
        },
        "outputId": "688aefe1-b079-452c-8148-e8371914e580"
      },
      "outputs": [
        {
          "output_type": "stream",
          "name": "stdout",
          "text": [
            "start of iteration - list_of_colors is ['red', 'orange', 'red', 'green', 'yellow'] \n",
            "start of iteration - index: 0\n",
            "end of iteration - list_of_colors is ['orange', 'red', 'green', 'yellow'] \n",
            "end of iteration - index: 0 \n",
            "\n",
            "start of iteration - list_of_colors is ['orange', 'red', 'green', 'yellow'] \n",
            "start of iteration - index: 0\n",
            "end of iteration - list_of_colors is ['orange', 'red', 'green', 'yellow'] \n",
            "end of iteration - index: 1 \n",
            "\n",
            "start of iteration - list_of_colors is ['orange', 'red', 'green', 'yellow'] \n",
            "start of iteration - index: 1\n",
            "end of iteration - list_of_colors is ['orange', 'green', 'yellow'] \n",
            "end of iteration - index: 1 \n",
            "\n",
            "start of iteration - list_of_colors is ['orange', 'green', 'yellow'] \n",
            "start of iteration - index: 1\n",
            "end of iteration - list_of_colors is ['orange', 'green', 'yellow'] \n",
            "end of iteration - index: 2 \n",
            "\n",
            "start of iteration - list_of_colors is ['orange', 'green', 'yellow'] \n",
            "start of iteration - index: 2\n",
            "end of iteration - list_of_colors is ['orange', 'green', 'yellow'] \n",
            "end of iteration - index: 3 \n",
            "\n"
          ]
        }
      ],
      "source": [
        "list_of_colors = [\"red\", \"orange\", \"red\", \"green\", \"yellow\"]\n",
        "# Initialize index\n",
        "index = 0\n",
        "# Use a while loop to iterate through the list\n",
        "while index < len(list_of_colors):\n",
        "  print(f\"start of iteration - list_of_colors is {list_of_colors} \\nstart of iteration - index: {index}\")\n",
        "  if list_of_colors[index] == \"red\":\n",
        "      # Remove the item at the current index\n",
        "      list_of_colors.pop(index)\n",
        "  else:\n",
        "      # Move to the next index only if no removal\n",
        "      index += 1 # equivalent to index = index+1\n",
        "  print(f\"\"\"end of iteration - list_of_colors is {list_of_colors} \\nend of iteration - index: {index} \\n\"\"\")"
      ]
    },
    {
      "cell_type": "code",
      "execution_count": null,
      "metadata": {
        "id": "M8beq4YSo2Su"
      },
      "outputs": [],
      "source": [
        "# What is the value of index after the while loop stops\n",
        "print(index)"
      ]
    },
    {
      "cell_type": "markdown",
      "metadata": {
        "id": "XOpUCSBTdtsK"
      },
      "source": [
        "**Use for loop when you**\n",
        "\n",
        "*   Know how many times the loop should run\n",
        "*   Want to iterate over a sequence (like a list, range, or dictionary)"
      ]
    },
    {
      "cell_type": "markdown",
      "metadata": {
        "id": "Dj5kNij4eE7u"
      },
      "source": [
        "**Use while loop when you**\n",
        "\n",
        "*   When you don't know in advance how many iterations are required\n",
        "*   Want to continue to loop until a condition becomes false"
      ]
    },
    {
      "cell_type": "code",
      "execution_count": null,
      "metadata": {
        "id": "hARfraJteR0I"
      },
      "outputs": [],
      "source": [
        "# While loop is helpful when you want to wait for user input\n",
        "user_input = \"\"\n",
        "user_input_record = []\n",
        "while user_input != \"exit\":\n",
        "    user_input = input(\"Type 'exit' to quit: \")\n",
        "    user_input_record.append(user_input)\n",
        "    print(user_input)"
      ]
    },
    {
      "cell_type": "code",
      "execution_count": null,
      "metadata": {
        "id": "IKp0n1QgqKib"
      },
      "outputs": [],
      "source": [
        "# Check all the user inputs\n",
        "print(user_input_record)"
      ]
    },
    {
      "cell_type": "markdown",
      "metadata": {
        "id": "rptg5Jy8FVnG"
      },
      "source": [
        "# Break and Continue"
      ]
    },
    {
      "cell_type": "code",
      "execution_count": null,
      "metadata": {
        "id": "y-7CvJiSXtD8"
      },
      "outputs": [],
      "source": [
        "list_of_colors = [\"red\", \"orange\", \"red\", \"green\", \"yellow\"]\n",
        "# The break statement can stop the loop even if the while condition is true\n",
        "i = 0\n",
        "while i < len(list_of_colors):\n",
        "  print(list_of_colors[i])\n",
        "  if list_of_colors[i] == \"green\":\n",
        "    break # the loop stops if the element we printed equals \"green\", i.e., we do not have future iterations\n",
        "  i = i + 1\n",
        "# What is the value of i after the while loop stops"
      ]
    },
    {
      "cell_type": "markdown",
      "metadata": {
        "id": "xKD5Sa12fEbV"
      },
      "source": [
        "**Practice 1: Rewrite the code snippet above with for loop and the break statement.**"
      ]
    },
    {
      "cell_type": "code",
      "execution_count": null,
      "metadata": {
        "id": "JhaynqDJfmy_"
      },
      "outputs": [],
      "source": [
        "# The continue statement can stop the current iteration and then continue with the next iteration\n",
        "for i in range(1, 6):  # Iterate over the values from 1 to 5\n",
        "    if i == 3:\n",
        "      continue  # Skip printing if i equals 3, but will continue future iterations, i.e., the program will print 4 and 5\n",
        "    print(i)"
      ]
    },
    {
      "cell_type": "markdown",
      "metadata": {
        "id": "eej1yNhHaKcL"
      },
      "source": [
        "**Practice 2: Explain in writing why the following code snippet results in infinite loops.**\n",
        "\n",
        "\n",
        "\n",
        "```\n",
        "i = 0\n",
        "while i < 5:\n",
        "  if i == 3:\n",
        "    continue\n",
        "  print(i)\n",
        "  i = i + 1  \n",
        "```\n",
        "\n"
      ]
    },
    {
      "cell_type": "code",
      "execution_count": null,
      "metadata": {
        "id": "RIWdHvHXhI4Z"
      },
      "outputs": [],
      "source": [
        "# The code snippet correctly uses while loop and the continue statement to print 1, 2, 4, and 5 skipping 3\n",
        "i = 0\n",
        "while i < 5:\n",
        "  i = i + 1  # i now has a value of 1 in the first iteration\n",
        "  if i == 3:\n",
        "    continue # the third iteration stops because i equals 3, i.e., we do not print 3, and keep going to the future iterations, print 4 and 5\n",
        "  print(i) # after we print 5, we start the next iteration and \"i < 5\" is False, so the loop stops"
      ]
    },
    {
      "cell_type": "markdown",
      "metadata": {
        "id": "upV-mgery_MS"
      },
      "source": [
        "**Practice 3: The following code snippet shows an inventory management system that has 20 items now. Customers have put in a list of purchase orders, and the purchase amounts on these orders are listed in amount_in_pruchase_orders. The inventory management processes the orders one by one. However, the level of current inventory will eventually drop below 0. Modify the following code snippet to test whether the current inventory is smaller than next purchase amount. If yes, the system should stop processing the next purchase order and return the quantity of the remaining inventory.**\n",
        "\n",
        "```\n",
        "current_inventory = 20\n",
        "amount_in_pruchase_orders = [1, 2, 3, 4, 5, 6, 7, 8]\n",
        "idx = 0\n",
        "while idx < len(amount_in_pruchase_orders):\n",
        "  current_inventory = current_inventory - amount_in_pruchase_orders[idx]\n",
        "  idx = idx + 1\n",
        "```\n",
        "\n"
      ]
    }
  ]
}