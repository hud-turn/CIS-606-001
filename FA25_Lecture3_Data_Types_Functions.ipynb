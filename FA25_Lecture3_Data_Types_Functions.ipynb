{
  "nbformat": 4,
  "nbformat_minor": 0,
  "metadata": {
    "colab": {
      "provenance": [],
      "collapsed_sections": [
        "lAyp5pHeVijt",
        "Iv-ZfJnZ0MUa",
        "PQFno_FHc0iw",
        "DTpyG4gs3hSO",
        "g4nUmJNnVVAA",
        "hMl-ZsjV55Gd"
      ]
    },
    "kernelspec": {
      "name": "python3",
      "display_name": "Python 3"
    },
    "language_info": {
      "name": "python"
    }
  },
  "cells": [
    {
      "cell_type": "markdown",
      "source": [
        "# String"
      ],
      "metadata": {
        "id": "lAyp5pHeVijt"
      }
    },
    {
      "cell_type": "code",
      "execution_count": null,
      "metadata": {
        "id": "-izyDO8M-NjH",
        "colab": {
          "base_uri": "https://localhost:8080/"
        },
        "outputId": "6e64f96f-2b88-4e35-ae6d-5196bce6ead3"
      },
      "outputs": [
        {
          "output_type": "stream",
          "name": "stdout",
          "text": [
            "This Python class is okay so far.\n",
            "This Python class is getting more interesting.\n",
            "Hello\n"
          ]
        }
      ],
      "source": [
        "# A string is a collection of alphabets, words or other characters\n",
        "# A string is wrapped within a pair of double or single quotation marks\n",
        "# In a print statement, the starting and ending quotation marks are not printed\n",
        "# End a statement (i.e., a line of code) by pressing Enter to go to a new line\n",
        "print(\"This Python class is okay so far.\") # Comment can also go at the end of a statement\n",
        "print('This Python class is getting more interesting.')\n",
        "print('Hello')"
      ]
    },
    {
      "cell_type": "code",
      "source": [
        "# A string wrapped in one type of quotation marks can contain\n",
        "# the other type of quotation marks inside it\n",
        "print(\"The instructor says, 'Python is useful'\")\n",
        "print('The student says, \"We will see\"')"
      ],
      "metadata": {
        "id": "fjrCIyMv_z32",
        "colab": {
          "base_uri": "https://localhost:8080/"
        },
        "outputId": "432be7ba-dc35-45c5-825f-ece112830186"
      },
      "execution_count": null,
      "outputs": [
        {
          "output_type": "stream",
          "name": "stdout",
          "text": [
            "The instructor says, 'Python is useful'\n",
            "The student says, \"We will see\"\n"
          ]
        }
      ]
    },
    {
      "cell_type": "code",
      "source": [
        "# You can wrap a multi-line string with three consecutive quotation marks of the same type\n",
        "print(\"\"\"This is a multi-line statement.\n",
        "I am writing it for the purpose of demonstration.\n",
        "This is pretty fun.\"\"\")"
      ],
      "metadata": {
        "id": "XZL9X8sLAJoH",
        "colab": {
          "base_uri": "https://localhost:8080/"
        },
        "outputId": "7b8d8b19-29d6-4159-f3e6-5ca6e0b737bc"
      },
      "execution_count": null,
      "outputs": [
        {
          "output_type": "stream",
          "name": "stdout",
          "text": [
            "This is a multi-line statement.\n",
            "I am writing it for the purpose of demonstration.\n",
            "This is pretty fun.\n"
          ]
        }
      ]
    },
    {
      "cell_type": "code",
      "source": [
        "print('''Or instead, I can use\n",
        "three single quotation marks.\n",
        "This is fun too.''')"
      ],
      "metadata": {
        "id": "ZVjtVb0Fy80b",
        "colab": {
          "base_uri": "https://localhost:8080/"
        },
        "outputId": "e3a42147-71b4-4565-d6ca-336b3ecda520"
      },
      "execution_count": null,
      "outputs": [
        {
          "output_type": "stream",
          "name": "stdout",
          "text": [
            "Or instead, I can use\n",
            "three single quotation marks.\n",
            "This is fun too.\n"
          ]
        }
      ]
    },
    {
      "cell_type": "code",
      "source": [
        "print() # Print a blank line"
      ],
      "metadata": {
        "id": "S4h3omMRy_B3",
        "colab": {
          "base_uri": "https://localhost:8080/"
        },
        "outputId": "073de0ea-1d89-499a-dc8e-ce6c93b8986e"
      },
      "execution_count": null,
      "outputs": [
        {
          "output_type": "stream",
          "name": "stdout",
          "text": [
            "\n"
          ]
        }
      ]
    },
    {
      "cell_type": "code",
      "source": [
        "# We use escape characters to represent special characters\n",
        "# Escape characters starts with a backslash\n",
        "print(\"\\\"Look at the stars\\nLook how they shine for you\\nAnd everything you do\\nYeah\\tthey were all yellow\\\"\")"
      ],
      "metadata": {
        "id": "xzjlRc7QBtwD",
        "colab": {
          "base_uri": "https://localhost:8080/"
        },
        "outputId": "49b00296-a75e-47f8-c00f-5452c47e660c"
      },
      "execution_count": null,
      "outputs": [
        {
          "output_type": "stream",
          "name": "stdout",
          "text": [
            "\"Look at the stars\n",
            "Look how they shine for you\n",
            "And everything you do\n",
            "Yeah\tthey were all yellow\"\n"
          ]
        }
      ]
    },
    {
      "cell_type": "code",
      "source": [
        "print(\"\\\\\") # # Print a backslash"
      ],
      "metadata": {
        "id": "UGF2brEi_W0G",
        "colab": {
          "base_uri": "https://localhost:8080/"
        },
        "outputId": "3bb3dcda-8781-4bbc-eb59-ca170119196c"
      },
      "execution_count": null,
      "outputs": [
        {
          "output_type": "stream",
          "name": "stdout",
          "text": [
            "\\\n"
          ]
        }
      ]
    },
    {
      "cell_type": "markdown",
      "source": [
        "**Practice 1: use two ways to print the following string**\n",
        "```\n",
        "Today's a good day\n",
        "```"
      ],
      "metadata": {
        "id": "wZGPr1BUESST"
      }
    },
    {
      "cell_type": "code",
      "source": [
        "print(\"Today's a good day\")"
      ],
      "metadata": {
        "id": "jvka61D1uG_J"
      },
      "execution_count": null,
      "outputs": []
    },
    {
      "cell_type": "code",
      "source": [
        "print('Today\\'s a good day')"
      ],
      "metadata": {
        "colab": {
          "base_uri": "https://localhost:8080/"
        },
        "id": "3e7BBoAFuQbM",
        "outputId": "13518a45-1f36-4d4c-8de2-ff32bcfdecba"
      },
      "execution_count": null,
      "outputs": [
        {
          "output_type": "stream",
          "name": "stdout",
          "text": [
            "Today's a good day\n"
          ]
        }
      ]
    },
    {
      "cell_type": "markdown",
      "source": [
        "# Variables and Data Types"
      ],
      "metadata": {
        "id": "Iv-ZfJnZ0MUa"
      }
    },
    {
      "cell_type": "code",
      "source": [
        "# Use variables to store data values\n",
        "# Create a variable with the name a and assign it with a value of 6\n",
        "# The variable a's data type is automatically set to integer\n",
        "a = 6\n",
        "print(a)\n",
        "print(type(a))"
      ],
      "metadata": {
        "id": "UkQm4B9b0R99",
        "colab": {
          "base_uri": "https://localhost:8080/"
        },
        "outputId": "a7cfd8da-358d-448d-eb16-b626cb6a4d60"
      },
      "execution_count": null,
      "outputs": [
        {
          "output_type": "stream",
          "name": "stdout",
          "text": [
            "6\n",
            "<class 'int'>\n"
          ]
        }
      ]
    },
    {
      "cell_type": "code",
      "source": [
        "# Create a variable with the name b and assign it with a string \"MCIS\"\n",
        "b = \"MCIS\"\n",
        "# The variable b's type is string\n",
        "print(type(b))"
      ],
      "metadata": {
        "id": "4p_-reSduKPi",
        "colab": {
          "base_uri": "https://localhost:8080/"
        },
        "outputId": "6592a0b5-da83-460d-94d0-60f2e5c922f1"
      },
      "execution_count": null,
      "outputs": [
        {
          "output_type": "stream",
          "name": "stdout",
          "text": [
            "<class 'str'>\n"
          ]
        }
      ]
    },
    {
      "cell_type": "code",
      "source": [
        "# The variable b's type is changed to float (i.e., a number with decimals)\n",
        "b = 10.6\n",
        "print(type(b))"
      ],
      "metadata": {
        "id": "XlLpfKbxuO6O",
        "colab": {
          "base_uri": "https://localhost:8080/"
        },
        "outputId": "39bbd09a-65bf-44f8-bd80-dfb6acc60170"
      },
      "execution_count": null,
      "outputs": [
        {
          "output_type": "stream",
          "name": "stdout",
          "text": [
            "<class 'float'>\n"
          ]
        }
      ]
    },
    {
      "cell_type": "code",
      "source": [
        "int(b)"
      ],
      "metadata": {
        "colab": {
          "base_uri": "https://localhost:8080/"
        },
        "id": "gvOhz7pcvNdD",
        "outputId": "acf7dbad-4c90-4660-aaf7-80da4eb5abb5"
      },
      "execution_count": null,
      "outputs": [
        {
          "output_type": "execute_result",
          "data": {
            "text/plain": [
              "10"
            ]
          },
          "metadata": {},
          "execution_count": 14
        }
      ]
    },
    {
      "cell_type": "code",
      "source": [
        "print(b)"
      ],
      "metadata": {
        "colab": {
          "base_uri": "https://localhost:8080/"
        },
        "id": "7yCReAQHvRLR",
        "outputId": "a63f02ff-5ec6-421c-8712-a0a217cb59f1"
      },
      "execution_count": null,
      "outputs": [
        {
          "output_type": "stream",
          "name": "stdout",
          "text": [
            "10.6\n"
          ]
        }
      ]
    },
    {
      "cell_type": "code",
      "source": [
        "# Cast variable b to integer\n",
        "int(b) # Get rid of decimals instead of rounding\n",
        "# Cast variable b to integer and assign the casted value back to variable b\n",
        "# Use = for variable assignment, i.e., = is not an algebraic equation\n",
        "# = means \"store the value on the right in the variable on the left\"\n",
        "b = int(b)\n",
        "print(b)\n",
        "print(type(b))"
      ],
      "metadata": {
        "id": "eJ-HbzVh2biJ",
        "colab": {
          "base_uri": "https://localhost:8080/"
        },
        "outputId": "e5c320e5-75d9-4635-f34e-27456894eb0a"
      },
      "execution_count": null,
      "outputs": [
        {
          "output_type": "stream",
          "name": "stdout",
          "text": [
            "10\n",
            "<class 'int'>\n"
          ]
        }
      ]
    },
    {
      "cell_type": "code",
      "source": [
        "# Cast variable b to string and assign the casted value a new variable c\n",
        "c = str(b)\n",
        "print(c)\n",
        "print(type(c))"
      ],
      "metadata": {
        "id": "3KaXEE2Rf_0F",
        "colab": {
          "base_uri": "https://localhost:8080/"
        },
        "outputId": "8915863d-680e-4e37-f70e-531b8b927e42"
      },
      "execution_count": null,
      "outputs": [
        {
          "output_type": "stream",
          "name": "stdout",
          "text": [
            "10\n",
            "<class 'str'>\n"
          ]
        }
      ]
    },
    {
      "cell_type": "code",
      "source": [
        "print(type(b))"
      ],
      "metadata": {
        "colab": {
          "base_uri": "https://localhost:8080/"
        },
        "id": "dMMCwguLv8ej",
        "outputId": "088b89a9-70df-435e-bc9f-8c830fc4450b"
      },
      "execution_count": null,
      "outputs": [
        {
          "output_type": "stream",
          "name": "stdout",
          "text": [
            "<class 'int'>\n"
          ]
        }
      ]
    },
    {
      "cell_type": "markdown",
      "source": [
        "**Practice 2: Explain the following code in writing and calculate the value of x after code execution**\n",
        "\n",
        "```\n",
        "x = 1\n",
        "x = x + 2\n",
        "```\n",
        "\n"
      ],
      "metadata": {
        "id": "8MHiqoFB4ef4"
      }
    },
    {
      "cell_type": "markdown",
      "source": [
        "**Practice 3: Run the following code and debug if necessary**\n",
        "\n",
        "Hint: there are two ways to print the value of x\n",
        "\n",
        "\n",
        "```\n",
        "x = 33\n",
        "print(\"The value is \" + x)\n",
        "```\n",
        "\n"
      ],
      "metadata": {
        "id": "Au9k3jr07hce"
      }
    },
    {
      "cell_type": "code",
      "source": [
        "x = 33\n",
        "print(\"The value is \" + str(x))"
      ],
      "metadata": {
        "colab": {
          "base_uri": "https://localhost:8080/"
        },
        "id": "UoKuqjeHwXU0",
        "outputId": "ade28fd0-517f-4f51-bf43-0462f1ed4d09"
      },
      "execution_count": null,
      "outputs": [
        {
          "output_type": "stream",
          "name": "stdout",
          "text": [
            "The value is 33\n"
          ]
        }
      ]
    },
    {
      "cell_type": "markdown",
      "source": [
        "# F-strings"
      ],
      "metadata": {
        "id": "PQFno_FHc0iw"
      }
    },
    {
      "cell_type": "code",
      "source": [
        "# f-strings (formatted string literals) provide a convenient way for formatting strings\n",
        "name = \"Xinran\"\n",
        "age = 30\n",
        "# prefix the f-string with the letter \"f\"\n",
        "# use curly braces to use a variable value inside an f-string\n",
        "print(f\"My name is {name} and I am {age} years old.\")"
      ],
      "metadata": {
        "id": "PC_MFSMdcrmu"
      },
      "execution_count": null,
      "outputs": []
    },
    {
      "cell_type": "code",
      "source": [
        "# Use an LLM with instructions that include a variable, provided through an f-string\n",
        "from google.colab import ai\n",
        "national_park = \"Rocky Mountain National Park\"\n",
        "response = ai.generate_text(f\"Please give me a one-sentence introduction of {national_park}\")\n",
        "print(response)"
      ],
      "metadata": {
        "id": "yMKJVCIMdjo4"
      },
      "execution_count": null,
      "outputs": []
    },
    {
      "cell_type": "markdown",
      "source": [
        "# Operators"
      ],
      "metadata": {
        "id": "DTpyG4gs3hSO"
      }
    },
    {
      "cell_type": "code",
      "source": [
        "# // is used for integer division (i.e., leave off any remainder)\n",
        "i = 19 // 5 # 19 = 5*3+4\n",
        "print(i)"
      ],
      "metadata": {
        "id": "4r3Sk1m28Pjq"
      },
      "execution_count": null,
      "outputs": []
    },
    {
      "cell_type": "code",
      "source": [
        "# % is used for modulus (i.e., the remainder)\n",
        "j = 19 % 5\n",
        "print(j)"
      ],
      "metadata": {
        "id": "Yi-_JPlz8ieM"
      },
      "execution_count": null,
      "outputs": []
    },
    {
      "cell_type": "markdown",
      "source": [
        "# Function"
      ],
      "metadata": {
        "id": "g4nUmJNnVVAA"
      }
    },
    {
      "cell_type": "code",
      "source": [
        "# Create a prepare function to document the steps for preparation\n",
        "# Notice the identation (i.e., the tab) matters here\n",
        "def prepare():\n",
        "  print(\"I found the picture named Campbell's Soup Cans online.\")\n",
        "  print(\"I bought the paint and brush.\")"
      ],
      "metadata": {
        "id": "n-OyqQnJM674"
      },
      "execution_count": null,
      "outputs": []
    },
    {
      "cell_type": "code",
      "source": [
        "# Call the prepare function\n",
        "prepare()"
      ],
      "metadata": {
        "id": "xRnPLZQtOAlm"
      },
      "execution_count": null,
      "outputs": []
    },
    {
      "cell_type": "code",
      "source": [
        "# Create a draw_can_and_write_name function to document the steps for drawing\n",
        "# Notice the function has an argument / parameter soup_name\n",
        "# Argument / parameter refer to the information passed into a function when the function is called\n",
        "def draw_can_and_write_name(soup_name):\n",
        "  print(\"I drew a soup can\")\n",
        "  print(\"I wrote \\\"\" + soup_name + \"\\\" on the can\") # Use the plus sign to concatenate strings\n",
        "  # print(f\"I wrote \\\"{soup_name}\\\" on the can\") # Alternatively, use an f-string to format"
      ],
      "metadata": {
        "id": "BbPtE1MKONYy"
      },
      "execution_count": null,
      "outputs": []
    },
    {
      "cell_type": "code",
      "source": [
        "# Call the draw_can_and_write_name function without an argument\n",
        "# An error is returned\n",
        "draw_can_and_write_name()"
      ],
      "metadata": {
        "id": "P_aLdWWnPBCu"
      },
      "execution_count": null,
      "outputs": []
    },
    {
      "cell_type": "code",
      "source": [
        "# You need to specify soup_name to pass into the function\n",
        "draw_can_and_write_name(soup_name = \"chicken noodle soup\") # Keyword arguments are the arguments we pass by their parameter names when calling a function"
      ],
      "metadata": {
        "id": "4qrj7O92PR0y"
      },
      "execution_count": null,
      "outputs": []
    },
    {
      "cell_type": "code",
      "source": [
        "# \"soup_name = \" can be omitted\n",
        "draw_can_and_write_name(\"chicken noodle soup\") # Positional arguments are the arguments we pass by their position when calling a function"
      ],
      "metadata": {
        "id": "-5r1r3v5PhZj"
      },
      "execution_count": null,
      "outputs": []
    },
    {
      "cell_type": "code",
      "source": [
        "# A function can have more than one argument\n",
        "# Create a draw_colored_can_and_write_name function to document the steps for drawing\n",
        "# Notice the function has two arguments: can_color, soup_name\n",
        "def draw_colored_can_and_write_name(can_color, soup_name):\n",
        "  print(\"I drew a \" + can_color + \" soup can\")\n",
        "  print(\"I wrote \\\"\" + soup_name + \"\\\" on the can\")"
      ],
      "metadata": {
        "id": "1MauLE5mQCuP"
      },
      "execution_count": null,
      "outputs": []
    },
    {
      "cell_type": "code",
      "source": [
        "# Call the draw_colored_can_and_write_name function\n",
        "# What will happen\n",
        "draw_colored_can_and_write_name()"
      ],
      "metadata": {
        "id": "C9pEv0qKQe3C"
      },
      "execution_count": null,
      "outputs": []
    },
    {
      "cell_type": "code",
      "source": [
        "# Call the draw_colored_can_and_write_name function\n",
        "# What will happen\n",
        "draw_colored_can_and_write_name(\"chicken noodle soup\")"
      ],
      "metadata": {
        "id": "CPd6OvCdQ2wF"
      },
      "execution_count": null,
      "outputs": []
    },
    {
      "cell_type": "code",
      "source": [
        "# Call the draw_colored_can_and_write_name function\n",
        "# By default, the first argument is can_color, and the second argument is soup_name\n",
        "draw_colored_can_and_write_name(\"red\", \"chicken noodle soup\")"
      ],
      "metadata": {
        "id": "MLdtsk-BRB75"
      },
      "execution_count": null,
      "outputs": []
    },
    {
      "cell_type": "code",
      "source": [
        "# Order of positional arguments cannot be changed to avoid the unexpected output\n",
        "draw_colored_can_and_write_name(\"chicken noodle soup\", \"red\")"
      ],
      "metadata": {
        "id": "hJ5G_gKIPb5O"
      },
      "execution_count": null,
      "outputs": []
    },
    {
      "cell_type": "code",
      "source": [
        "# Call the draw_colored_can_and_write_name function\n",
        "# You can \"specify\" the keyword arguments in any order\n",
        "draw_colored_can_and_write_name(soup_name = \"chicken noodle soup\", can_color = \"red\")"
      ],
      "metadata": {
        "id": "wV3IcCx8RSwG"
      },
      "execution_count": null,
      "outputs": []
    },
    {
      "cell_type": "code",
      "source": [
        "# Try the following line of code and see what happens\n",
        "draw_colored_can_and_write_name(\"red\", can_color = \"chicken noodle soup\")"
      ],
      "metadata": {
        "id": "BvlX-y7_I52a"
      },
      "execution_count": null,
      "outputs": []
    },
    {
      "cell_type": "code",
      "source": [
        "# You can specify a default argument value\n",
        "# For example, the default can color is red now\n",
        "# Non-default argumnets go first, followed by the default arguments\n",
        "def draw_default_red_can_and_write_name(soup_name, can_color = \"red\"):\n",
        "  print(\"I drew a \" + can_color + \" soup can\")\n",
        "  print(\"I wrote \\\"\" + soup_name + \"\\\" on the can\")"
      ],
      "metadata": {
        "id": "wa3wa9L-Rqtt"
      },
      "execution_count": null,
      "outputs": []
    },
    {
      "cell_type": "code",
      "source": [
        "# Run the following code and see what happens\n",
        "def draw_default_red_can_and_write_name(can_color = \"red\", soup_name):\n",
        "  print(\"I drew a \" + can_color + \" soup can\")\n",
        "  print(\"I wrote \\\"\" + soup_name + \"\\\" on the can\")"
      ],
      "metadata": {
        "id": "CcmuQJXpBLN2"
      },
      "execution_count": null,
      "outputs": []
    },
    {
      "cell_type": "code",
      "source": [
        "# Call the draw_default_red_can_and_write_name function with the default color\n",
        "draw_default_red_can_and_write_name(\"onion soup\")"
      ],
      "metadata": {
        "id": "YNA9IZYzScTc"
      },
      "execution_count": null,
      "outputs": []
    },
    {
      "cell_type": "code",
      "source": [
        "# Call the draw_default_red_can_and_write_name function with the orange color\n",
        "draw_default_red_can_and_write_name(\"onion soup\", \"orange\")"
      ],
      "metadata": {
        "id": "zGK-haSaSlVd"
      },
      "execution_count": null,
      "outputs": []
    },
    {
      "cell_type": "markdown",
      "source": [
        "**Practice 4: debug the following function sign_name**\n",
        "```\n",
        "sign_name(my_name):\n",
        "print(I signed my name: my_name)\n",
        "```\n",
        "\n"
      ],
      "metadata": {
        "id": "gH5vVpUDww8p"
      }
    },
    {
      "cell_type": "markdown",
      "source": [
        "**Practice 5: modify the previous function such that the default name to sign is Andy Warhol**"
      ],
      "metadata": {
        "id": "Q5W4q1OmxjIs"
      }
    },
    {
      "cell_type": "markdown",
      "source": [
        "**More practice 6: modify the previous function such that a user can date today's date**\n",
        "\n",
        "Resource: [How to get current date and time in Python?](https://www.programiz.com/python-programming/datetime/current-datetime)"
      ],
      "metadata": {
        "id": "dK5Ndc0Ux3by"
      }
    },
    {
      "cell_type": "code",
      "source": [
        "# Functions can call functions inside\n",
        "# Create a draw_multiple_cans function to draw multiple cans with different colors and different soups\n",
        "def draw_multiple_cans():\n",
        "  print(\"Start drawing\")\n",
        "  draw_default_red_can_and_write_name(\"chicken noodle soup\")\n",
        "  draw_default_red_can_and_write_name(\"onion soup\", \"orange\")\n",
        "  draw_default_red_can_and_write_name(\"green pea soup\", \"green\")\n",
        "  print(\"Done with drawing\")"
      ],
      "metadata": {
        "id": "tKdUe94ZTDwJ"
      },
      "execution_count": null,
      "outputs": []
    },
    {
      "cell_type": "code",
      "source": [
        "# Call the draw_multiple_cans function\n",
        "draw_multiple_cans()"
      ],
      "metadata": {
        "id": "ferUT6og-PqO"
      },
      "execution_count": null,
      "outputs": []
    },
    {
      "cell_type": "markdown",
      "source": [
        "# Function Continued: Return Statement"
      ],
      "metadata": {
        "id": "hMl-ZsjV55Gd"
      }
    },
    {
      "cell_type": "code",
      "source": [
        "# Functions can return one value using the return statement\n",
        "def do_math_and_return_sum(aa, bb):\n",
        "  sum = aa + bb\n",
        "  difference = aa - bb\n",
        "  product = aa * bb\n",
        "  return sum"
      ],
      "metadata": {
        "id": "wM3Q79-KUOOj"
      },
      "execution_count": null,
      "outputs": []
    },
    {
      "cell_type": "code",
      "source": [
        "# The value returned by the function can be used in the program\n",
        "# Try print(aa) and see what happens\n",
        "# Try print(difference) and see what happens\n",
        "# Lesson learned: the program cannot access the variables inside the function\n",
        "# i.e., A variable created inside a function belongs to the local scope of that function and can only be used inside that function\n",
        "x = do_math_and_return_sum(10, 20)\n",
        "print(x)"
      ],
      "metadata": {
        "id": "xTyt_PdAV3Ao"
      },
      "execution_count": null,
      "outputs": []
    },
    {
      "cell_type": "code",
      "source": [
        "# A variable created in the main body of the Python code is a global variable\n",
        "# Global variables are available in the main body and functions\n",
        "def add_ten_to_x2():\n",
        "  a = x2 + 10\n",
        "  return a\n",
        "\n",
        "# x2 is a global variable and can be accessed in the function add_ten_to_x2()\n",
        "x2 = 20\n",
        "print(\"function result =\", add_ten_to_x2())\n",
        "# The global variable x2 can be accessed outside the function add_ten_to_x2()\n",
        "print(\"x2 =\", x2)"
      ],
      "metadata": {
        "id": "J4orqkmWXMWk"
      },
      "execution_count": null,
      "outputs": []
    }
  ]
}