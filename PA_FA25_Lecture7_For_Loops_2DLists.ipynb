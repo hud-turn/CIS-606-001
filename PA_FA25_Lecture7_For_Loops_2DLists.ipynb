{
  "cells": [
    {
      "cell_type": "code",
      "execution_count": null,
      "metadata": {
        "id": "FfLpKalHOFPt"
      },
      "outputs": [],
      "source": [
        "# Run this code cell to prepare for this practice\n",
        "# Define lists\n",
        "list_of_colors = [\"red\", \"orange\", \"green\", \"red\", \"yellow\"]\n",
        "list_of_soup_flavors = [\"chicken noodle soup\", \"onion soup\", \"green pea soup\", \"chili beef soup\", \"vegetable soup\"]\n",
        "# Recall we wrote a function to draw cans and write soup names\n",
        "def draw_colored_can_and_write_name(can_color, soup_name):\n",
        "  print(\"I drew a \" + can_color + \" soup can\")\n",
        "  print(\"I wrote \\\"\" + soup_name + \"\\\" on the can\")"
      ]
    },
    {
      "cell_type": "markdown",
      "metadata": {
        "id": "TvDiVtMkd2mU"
      },
      "source": [
        "**Practice 1: Modify the following code snippet to remove all the \"red\" items in list_of_colors**\n",
        "\n",
        "\n",
        "```\n",
        "list_of_colors = [\"red\", \"orange\", \"green\", \"red\", \"yellow\", \"red\"]\n",
        "new_list = []\n",
        "\n",
        "for item in list_of_colors:\n",
        "  if item != \"red\":\n",
        "    new_list.append(item)\n",
        "\n",
        "print(new_list)\n",
        "```\n",
        "\n"
      ]
    },
    {
      "cell_type": "code",
      "execution_count": null,
      "metadata": {
        "id": "nCJlQmHOi2jP"
      },
      "outputs": [],
      "source": [
        "# We can do nested for loops to draw a can and write names for every pair of color and soup flavor\n",
        "for color in list_of_colors: # outer loop header\n",
        "  for flavor in list_of_soup_flavors: # inner loop header\n",
        "    draw_colored_can_and_write_name(color, flavor)\n",
        "  print()"
      ]
    },
    {
      "cell_type": "code",
      "execution_count": 1,
      "metadata": {
        "colab": {
          "base_uri": "https://localhost:8080/"
        },
        "collapsed": true,
        "id": "lHwIoP92KYSh",
        "outputId": "3b10d462-2d19-4a9d-8308-dc8b75116cad"
      },
      "outputs": [
        {
          "name": "stdout",
          "output_type": "stream",
          "text": [
            "I drew a red soup can\n",
            "I wrote \"chicken noodle soup\" on the can\n",
            "I drew a red soup can\n",
            "I wrote \"onion soup\" on the can\n",
            "\n",
            "I drew a orange soup can\n",
            "I wrote \"chicken noodle soup\" on the can\n",
            "I drew a orange soup can\n",
            "I wrote \"onion soup\" on the can\n",
            "\n",
            "I drew a green soup can\n",
            "I wrote \"chicken noodle soup\" on the can\n",
            "I drew a green soup can\n",
            "I wrote \"onion soup\" on the can\n",
            "\n"
          ]
        }
      ],
      "source": [
        "#This is the modified snippet, I kept the original so you could easily compare it\n",
        "list_of_colors = [\"red\", \"orange\", \"green\", \"red\", \"yellow\"]\n",
        "list_of_soup_flavors = [\"chicken noodle soup\", \"onion soup\", \"green pea soup\", \"chili beef soup\", \"vegetable soup\"]\n",
        "\n",
        "def draw_colored_can_and_write_name(can_color, soup_name):\n",
        "  print(\"I drew a \" + can_color + \" soup can\")\n",
        "  print(\"I wrote \\\"\" + soup_name + \"\\\" on the can\")\n",
        "\n",
        "for color in list_of_colors[:3]: # outer loop header\n",
        "  for flavor in list_of_soup_flavors[:2]: # inner loop header\n",
        "    draw_colored_can_and_write_name(color, flavor)\n",
        "\n",
        "  print()"
      ]
    },
    {
      "cell_type": "markdown",
      "metadata": {
        "id": "g2hDDp_9jw3r"
      },
      "source": [
        "**Practice 2: Modify the code snippet above to loop through the first three items in list_of_colors and the first two items in list_of_soup_flavors**\n",
        "\n",
        "**Hint: use index or item to loop through lists**"
      ]
    },
    {
      "cell_type": "code",
      "execution_count": null,
      "metadata": {
        "id": "Oh9wSlnFEDuy"
      },
      "outputs": [],
      "source": [
        "# Create a 3 * 5 matrix\n",
        "matrix_a = [[2, 4, 6, 8, 10], [3, 6, 9, 12, 15], [4, 8, 12, 16, 20]]"
      ]
    }
  ],
  "metadata": {
    "colab": {
      "provenance": []
    },
    "kernelspec": {
      "display_name": "Python 3",
      "name": "python3"
    },
    "language_info": {
      "name": "python"
    }
  },
  "nbformat": 4,
  "nbformat_minor": 0
}
