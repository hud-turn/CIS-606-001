{
  "cells": [
    {
      "cell_type": "code",
      "execution_count": 14,
      "metadata": {
        "id": "IBfys4iyIAWw"
      },
      "outputs": [],
      "source": [
        "# Create an alias with the as keyword while importing\n",
        "# Now you can refer to the Pandas package as pd instead of pandas\n",
        "import pandas as pd"
      ]
    },
    {
      "cell_type": "code",
      "execution_count": 15,
      "metadata": {
        "id": "hIe-kMEdQ77i"
      },
      "outputs": [],
      "source": [
        "# A Pandas DataFrame is a 2 dimensional data structure, like a table with rows and columns\n",
        "songs_data = {\n",
        "  \"name\": [\"Flowers\", \"As it Was\", \"Anti-Hero\", \"Eyes Closed\", \"Just the Way You Are\"],\n",
        "  \"length_in_seconds\": [201, 163, 201, 194, 221],\n",
        "  \"release_year\": [2023, 2022, 2022, 2023, 2010]\n",
        "}\n",
        "# Load songs_data into a DataFrame object\n",
        "songs_df = pd.DataFrame(songs_data)\n",
        "# Add a list of labels to give each row a label with the index argument\n",
        "songs_df_letter_label = pd.DataFrame(songs_data, index = [\"a\", \"b\", \"c\", \"d\", \"e\"])"
      ]
    },
    {
      "cell_type": "code",
      "execution_count": 19,
      "metadata": {
        "id": "ED8PEKKDZzj7"
      },
      "outputs": [
        {
          "name": "stdout",
          "output_type": "stream",
          "text": [
            "   Transaction_ID Customer_ID Product_ID  Quantity    Price       Date\n",
            "0               1        C101       P001         2  2099.00   1/5/2023\n",
            "1               2        C102       P002         1    29.99   20230106\n",
            "2               3        C103       P001         1    20.99   1/7/2023\n",
            "3               4        C101       P003         3     9.99   1/8/2023\n",
            "4               5        C102       P002         2    29.99   1/9/2023\n",
            "5               6        C105       P001         1    20.99  1/10/2023\n",
            "6               7        C102       P004         1      NaN  1/11/2023\n",
            "7               8        C106       P001         2    20.99  1/12/2023\n",
            "8               9        C103       P005         1     9.99  1/13/2023\n",
            "9               9        C103       P005         1     9.99  1/13/2023\n"
          ]
        }
      ],
      "source": [
        "# Load the CSV into a dataframe\n",
        "sales = pd.read_csv('./sales_data.csv')\n",
        "print(sales) # If the dataframe has many rows, Pandas will only return the first 5 rows and the last 5 rows"
      ]
    },
    {
      "cell_type": "markdown",
      "metadata": {
        "id": "xQQ9TJd7Zar8"
      },
      "source": [
        "**Practice 1: Explain why the following code returns an error and debug it using iloc and loc**"
      ]
    },
    {
      "cell_type": "markdown",
      "metadata": {},
      "source": [
        "iloc is expecting integers and when it receives strings it will throw an error. \n",
        "I removed the section where it contained \"name\" and \"release_year\" and the program stopped throwing errors."
      ]
    },
    {
      "cell_type": "code",
      "execution_count": 12,
      "metadata": {
        "id": "nZMRx94kZJsN"
      },
      "outputs": [
        {
          "name": "stdout",
          "output_type": "stream",
          "text": [
            "      name  length_in_seconds  release_year\n",
            "a  Flowers                201          2023\n"
          ]
        }
      ],
      "source": [
        "print(songs_df_letter_label.iloc[[0]]) # Use the .loc accessor to select rows and columns by label"
      ]
    },
    {
      "cell_type": "markdown",
      "metadata": {
        "id": "ljGuFre-lTD6"
      },
      "source": [
        "**Practice 2: Change the price of Product P001\n",
        "to 12 if the quantity of a transaction is greater than 1**\n",
        "\n",
        "**Hint: View how to filter with multiple conditions at https://www.geeksforgeeks.org/filter-pandas-dataframe-with-multiple-conditions/**"
      ]
    },
    {
      "cell_type": "code",
      "execution_count": 24,
      "metadata": {},
      "outputs": [
        {
          "name": "stdout",
          "output_type": "stream",
          "text": [
            "   Transaction_ID Customer_ID Product_ID  Quantity  Price       Date\n",
            "0               1        C101       P001         2  15.00   1/5/2023\n",
            "1               2        C102       P002         1  29.99   20230106\n",
            "2               3        C103       P001         1  20.99   1/7/2023\n",
            "3               4        C101       P003         3   9.99   1/8/2023\n",
            "4               5        C102       P002         2  29.99   1/9/2023\n",
            "5               6        C105       P001         1  20.99  1/10/2023\n",
            "6               7        C102       P004         1    NaN  1/11/2023\n",
            "7               8        C106       P001         2  15.00  1/12/2023\n",
            "8               9        C103       P005         1   9.99  1/13/2023\n",
            "9               9        C103       P005         1   9.99  1/13/2023\n"
          ]
        }
      ],
      "source": [
        "sales.loc[(sales['Quantity'] > 1) & (sales['Product_ID'] == \"P001\"), 'Price'] = 15\n",
        "print(sales)"
      ]
    }
  ],
  "metadata": {
    "colab": {
      "provenance": []
    },
    "kernelspec": {
      "display_name": "cis-606-001",
      "language": "python",
      "name": "python3"
    },
    "language_info": {
      "codemirror_mode": {
        "name": "ipython",
        "version": 3
      },
      "file_extension": ".py",
      "mimetype": "text/x-python",
      "name": "python",
      "nbconvert_exporter": "python",
      "pygments_lexer": "ipython3",
      "version": "3.12.3"
    }
  },
  "nbformat": 4,
  "nbformat_minor": 0
}
