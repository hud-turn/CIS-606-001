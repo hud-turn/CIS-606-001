{
  "nbformat": 4,
  "nbformat_minor": 0,
  "metadata": {
    "colab": {
      "provenance": []
    },
    "kernelspec": {
      "name": "python3",
      "display_name": "Python 3"
    },
    "language_info": {
      "name": "python"
    }
  },
  "cells": [
    {
      "cell_type": "code",
      "source": [
        "# Create an alias with the as keyword while importing\n",
        "# Now you can refer to the Pandas package as pd instead of pandas\n",
        "import pandas as pd"
      ],
      "metadata": {
        "id": "IBfys4iyIAWw"
      },
      "execution_count": 1,
      "outputs": []
    },
    {
      "cell_type": "code",
      "source": [
        "# A Pandas DataFrame is a 2 dimensional data structure, like a table with rows and columns\n",
        "songs_data = {\n",
        "  \"name\": [\"Flowers\", \"As it Was\", \"Anti-Hero\", \"Eyes Closed\", \"Just the Way You Are\"],\n",
        "  \"length_in_seconds\": [201, 163, 201, 194, 221],\n",
        "  \"release_year\": [2023, 2022, 2022, 2023, 2010]\n",
        "}\n",
        "# Load songs_data into a DataFrame object\n",
        "songs_df = pd.DataFrame(songs_data)\n",
        "# Add a list of labels to give each row a label with the index argument\n",
        "songs_df_letter_label = pd.DataFrame(songs_data, index = [\"a\", \"b\", \"c\", \"d\", \"e\"])"
      ],
      "metadata": {
        "id": "hIe-kMEdQ77i"
      },
      "execution_count": 2,
      "outputs": []
    },
    {
      "cell_type": "code",
      "source": [
        "# Load the CSV into a dataframe\n",
        "sales = pd.read_csv('/content/drive/MyDrive/Colab Notebooks/sales_data.csv')\n",
        "print(sales) # If the dataframe has many rows, Pandas will only return the first 5 rows and the last 5 rows"
      ],
      "metadata": {
        "id": "ED8PEKKDZzj7",
        "colab": {
          "base_uri": "https://localhost:8080/"
        },
        "outputId": "ffedc964-feb5-4bf4-a7e1-299b953c6574"
      },
      "execution_count": 4,
      "outputs": [
        {
          "output_type": "stream",
          "name": "stdout",
          "text": [
            "   Transaction_ID Customer_ID Product_ID  Quantity    Price       Date\n",
            "0               1        C101       P001         2  2099.00   1/5/2023\n",
            "1               2        C102       P002         1    29.99   20230106\n",
            "2               3        C103       P001         1    20.99   1/7/2023\n",
            "3               4        C101       P003         3     9.99   1/8/2023\n",
            "4               5        C102       P002         2    29.99   1/9/2023\n",
            "5               6        C105       P001         1    20.99  1/10/2023\n",
            "6               7        C102       P004         1      NaN  1/11/2023\n",
            "7               8        C106       P001         2    20.99  1/12/2023\n",
            "8               9        C103       P005         1     9.99  1/13/2023\n",
            "9               9        C103       P005         1     9.99  1/13/2023\n"
          ]
        }
      ]
    },
    {
      "cell_type": "markdown",
      "source": [
        "**Practice 1: Explain why the following code returns an error and debug it using iloc and loc**"
      ],
      "metadata": {
        "id": "xQQ9TJd7Zar8"
      }
    },
    {
      "cell_type": "code",
      "source": [
        "print(songs_df_letter_label.iloc[[0, 1], [0, 2]])"
      ],
      "metadata": {
        "id": "nZMRx94kZJsN",
        "colab": {
          "base_uri": "https://localhost:8080/"
        },
        "outputId": "bb06530e-2f7e-4978-bb8a-25de22123d35"
      },
      "execution_count": 6,
      "outputs": [
        {
          "output_type": "stream",
          "name": "stdout",
          "text": [
            "        name  release_year\n",
            "a    Flowers          2023\n",
            "b  As it Was          2022\n"
          ]
        }
      ]
    },
    {
      "cell_type": "markdown",
      "source": [
        "**Practice 2: Change the price of Product P001\n",
        "to 12 if the quantity of a transaction is greater than 1**\n",
        "\n",
        "**Hint: View how to filter with multiple conditions at https://www.geeksforgeeks.org/filter-pandas-dataframe-with-multiple-conditions/**"
      ],
      "metadata": {
        "id": "ljGuFre-lTD6"
      }
    },
    {
      "cell_type": "code",
      "source": [
        "sales.loc[(sales['Quantity'] > 1) & (sales['Product_ID'] == \"P001\"), 'Price'] = 15\n",
        "print(sales)"
      ],
      "metadata": {
        "colab": {
          "base_uri": "https://localhost:8080/"
        },
        "id": "QS4ODC0laD3E",
        "outputId": "ee4ec27c-dd62-4a29-c809-deb6e5cc6025"
      },
      "execution_count": 7,
      "outputs": [
        {
          "output_type": "stream",
          "name": "stdout",
          "text": [
            "   Transaction_ID Customer_ID Product_ID  Quantity  Price       Date\n",
            "0               1        C101       P001         2  15.00   1/5/2023\n",
            "1               2        C102       P002         1  29.99   20230106\n",
            "2               3        C103       P001         1  20.99   1/7/2023\n",
            "3               4        C101       P003         3   9.99   1/8/2023\n",
            "4               5        C102       P002         2  29.99   1/9/2023\n",
            "5               6        C105       P001         1  20.99  1/10/2023\n",
            "6               7        C102       P004         1    NaN  1/11/2023\n",
            "7               8        C106       P001         2  15.00  1/12/2023\n",
            "8               9        C103       P005         1   9.99  1/13/2023\n",
            "9               9        C103       P005         1   9.99  1/13/2023\n"
          ]
        }
      ]
    }
  ]
}