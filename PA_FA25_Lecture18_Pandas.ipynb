{
  "cells": [
    {
      "cell_type": "code",
      "execution_count": null,
      "metadata": {
        "id": "IBfys4iyIAWw"
      },
      "outputs": [],
      "source": [
        "# Create an alias with the as keyword while importing\n",
        "# Now you can refer to the Pandas package as pd instead of pandas\n",
        "import pandas as pd"
      ]
    },
    {
      "cell_type": "code",
      "execution_count": null,
      "metadata": {
        "id": "MHfJPziMI18c"
      },
      "outputs": [],
      "source": [
        "# Run this cell for preparation\n",
        "# Load the CSV into a dataframe\n",
        "sales = pd.read_csv('./sales_data.csv')\n",
        "# Clean the sales data\n",
        "# Step 1: Remove duplicated rows\n",
        "sales.drop_duplicates(inplace = True) # We set inplace = True to make sure that the method does NOT return a new dataframe, but it will remove all duplicates from the original dataframe\n",
        "# Step 2: Correct wrong values\n",
        "sales.loc[sales['Product_ID'] == 'P001', 'Price'] = 20.99\n",
        "sales['TransactionAmount'] = sales['Quantity'] * sales['Price']\n",
        "# Step 3: Clean null values\n",
        "weighted_price = sales['TransactionAmount'].sum() / sales['Quantity'].sum()\n",
        "sales['Price'] = sales['Price'].fillna(weighted_price)\n",
        "# Step 4: Recalculate Transaction Amount\n",
        "sales['TransactionAmount'] = sales['Quantity'] * sales['Price']"
      ]
    },
    {
      "cell_type": "code",
      "execution_count": null,
      "metadata": {
        "id": "NIoPlqs7V8dV"
      },
      "outputs": [],
      "source": [
        "# Load the CSV into a dataframe\n",
        "customers = pd.read_csv('/content/drive/MyDrive/Colab Notebooks/customers_data.csv')\n",
        "print(customers)"
      ]
    },
    {
      "cell_type": "markdown",
      "metadata": {
        "id": "5kgqnmKFWrwi"
      },
      "source": [
        "**Practice 1: Write code to answer the following question: for each product, what is its average price weighted by transaction quantity?**"
      ]
    },
    {
      "cell_type": "markdown",
      "metadata": {
        "id": "zm1pY_DDRG48"
      },
      "source": [
        "**Practice 2: Write code to count the number of transactions for each pair of customer and product**"
      ]
    },
    {
      "cell_type": "markdown",
      "metadata": {
        "id": "xQ6ywiPHRw7N"
      },
      "source": [
        "**Practice 3: Use .nlargest(), .nsmallest(), .idxmax(), and .idxmin() to write code to get the product with the highest and lowest average price weighted by transaction quantity**\n",
        "\n",
        "**Hint 1: Use your answer from Practice 2**\n",
        "\n",
        "**Hint 2: Read resources here: https://tutorialsinhand.com/Articles/pandas-dataframe---nsmallest-and-nlargest.aspx and https://proclusacademy.com/blog/quicktip/pandas-idxmin-idxmax/**\n",
        "\n",
        "**The second resource also talks about having repeated max and min values**"
      ]
    },
    {
      "cell_type": "markdown",
      "metadata": {
        "id": "J6WeT7GzYcTU"
      },
      "source": [
        "**Practice 4: Get the rows in the sales table where the customer's city is Chicago**"
      ]
    }
  ],
  "metadata": {
    "colab": {
      "provenance": []
    },
    "kernelspec": {
      "display_name": "cis-606-001",
      "language": "python",
      "name": "python3"
    },
    "language_info": {
      "name": "python",
      "version": "3.12.3"
    }
  },
  "nbformat": 4,
  "nbformat_minor": 0
}
