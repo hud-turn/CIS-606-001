{
  "nbformat": 4,
  "nbformat_minor": 0,
  "metadata": {
    "colab": {
      "provenance": [],
      "collapsed_sections": [
        "7AnbG-EIZ0Hq",
        "909IFyzofp7G",
        "c9PNFjIOpOAH",
        "I1o4G3wixcYW",
        "Hov6KIa4w_AZ",
        "3HEoooDoDfPU"
      ]
    },
    "kernelspec": {
      "name": "python3",
      "display_name": "Python 3"
    },
    "language_info": {
      "name": "python"
    }
  },
  "cells": [
    {
      "cell_type": "code",
      "source": [
        "# Create an alias with the as keyword while importing\n",
        "# Now you can refer to the Pandas package as pd instead of pandas\n",
        "import pandas as pd"
      ],
      "metadata": {
        "id": "IBfys4iyIAWw"
      },
      "execution_count": null,
      "outputs": []
    },
    {
      "cell_type": "markdown",
      "source": [
        "# **Previous Content**"
      ],
      "metadata": {
        "id": "6r9fCBVHHe42"
      }
    },
    {
      "cell_type": "markdown",
      "source": [
        "# Read CSV"
      ],
      "metadata": {
        "id": "7AnbG-EIZ0Hq"
      }
    },
    {
      "cell_type": "code",
      "source": [
        "# Load the CSV into a dataframe\n",
        "sales = pd.read_csv('/content/drive/MyDrive/Colab Notebooks/sales_data.csv')\n",
        "print(sales) # If the dataframe has many rows, Pandas will only return the first 5 rows and the last 5 rows"
      ],
      "metadata": {
        "id": "ED8PEKKDZzj7"
      },
      "execution_count": null,
      "outputs": []
    },
    {
      "cell_type": "code",
      "source": [
        "# The head() method returns the headers and a specified number of rows, starting from the top\n",
        "print(sales.head(5))"
      ],
      "metadata": {
        "id": "v6XwTokSbo4B"
      },
      "execution_count": null,
      "outputs": []
    },
    {
      "cell_type": "code",
      "source": [
        "# Use info() to get more information about the dataframe\n",
        "print(sales.info())"
      ],
      "metadata": {
        "id": "vcY_F5vBbyAB"
      },
      "execution_count": null,
      "outputs": []
    },
    {
      "cell_type": "code",
      "source": [
        "# sales['Price'].describe() # use the describe() to get a statistical description of a column\n",
        "sales.describe() # get a statistical description of the entire dataframe"
      ],
      "metadata": {
        "id": "6Q10CuVWe4kv"
      },
      "execution_count": null,
      "outputs": []
    },
    {
      "cell_type": "markdown",
      "source": [
        "# Correct Wrong Values"
      ],
      "metadata": {
        "id": "909IFyzofp7G"
      }
    },
    {
      "cell_type": "code",
      "source": [
        "# Suppose after double checking, we conclude the price in Row 0 should not be 2099.00\n",
        "# One way to fix wrong values is to replace them with correct values\n",
        "sales.loc[0, 'Price'] = 20.99 # loc locates values by labels"
      ],
      "metadata": {
        "id": "XmASstk0fs61"
      },
      "execution_count": null,
      "outputs": []
    },
    {
      "cell_type": "markdown",
      "source": [
        "You may not be able to replace the wrong data one by one for big datasets. To replace wrong data for larger data sets you can create some rules. For example, you can set some boundaries for legal values, and replace any values that are outside of the boundaries."
      ],
      "metadata": {
        "id": "Aa4od5RtifzM"
      }
    },
    {
      "cell_type": "code",
      "source": [
        "sales.loc[sales['Price'] > 15, 'Price'] = 15\n",
        "print(sales)"
      ],
      "metadata": {
        "id": "bWiHS1CXjHdC"
      },
      "execution_count": null,
      "outputs": []
    },
    {
      "cell_type": "code",
      "source": [
        "sales['Price'] > 15  # returns a pandas series of boolean values that indicate which rows satisfy the condition"
      ],
      "metadata": {
        "id": "1bCJu3UukDoP"
      },
      "execution_count": null,
      "outputs": []
    },
    {
      "cell_type": "code",
      "source": [
        "sales.loc[sales['Price'] > 15] # returns a pandas dataframe with rows corresponding to the True values in the previous pandas series"
      ],
      "metadata": {
        "id": "y8JKj9-3jsWC"
      },
      "execution_count": null,
      "outputs": []
    },
    {
      "cell_type": "code",
      "source": [
        "sales.loc[sales['Price'] > 15, 'Price']"
      ],
      "metadata": {
        "id": "_5gy5ZQOEkVk"
      },
      "execution_count": null,
      "outputs": []
    },
    {
      "cell_type": "markdown",
      "source": [
        "# Clean Empty Cells"
      ],
      "metadata": {
        "id": "c9PNFjIOpOAH"
      }
    },
    {
      "cell_type": "code",
      "source": [
        "# One way to deal with empty cells is to remove rows that contain empty cells\n",
        "# This is usually OK if the dataset is big and removing a few rows will not have a big impact on the analysis results\n",
        "sales_drop_na = sales.dropna()\n",
        "print(sales_drop_na) # sales_drop_na does not have the row with index 6"
      ],
      "metadata": {
        "id": "6uHS-qoJpb8F"
      },
      "execution_count": null,
      "outputs": []
    },
    {
      "cell_type": "code",
      "source": [
        "print(sales) # By default, dropna() returns a new dataframe and will not change the original dataframe\n",
        "# So the row with index 6 still exists in df"
      ],
      "metadata": {
        "id": "CUlap9HNqB7b"
      },
      "execution_count": null,
      "outputs": []
    },
    {
      "cell_type": "code",
      "source": [
        "sales.dropna(inplace = True)\n",
        "print(sales) # dropna(inplace = True) will NOT return a new DataFrame. Instead, it will remove all rows containing NULL values from the original dataframe\n",
        "# The row with index 6 is now removed from the sales dataframe"
      ],
      "metadata": {
        "id": "oVAmJZ18qdpz"
      },
      "execution_count": null,
      "outputs": []
    },
    {
      "cell_type": "code",
      "source": [
        "# Reload the CSV into a dataframe\n",
        "sales = pd.read_csv('/content/drive/MyDrive/Colab Notebooks/sales_data.csv')\n",
        "print(sales) # sales now has a null value in the Price column"
      ],
      "metadata": {
        "id": "BqXrB4B7rVIo"
      },
      "execution_count": null,
      "outputs": []
    },
    {
      "cell_type": "code",
      "source": [
        "sales.dropna(subset=['Price'], inplace = True) # Remove rows with a NULL value in the Price column\n",
        "print(sales)"
      ],
      "metadata": {
        "id": "QEwjp6IEu6fC"
      },
      "execution_count": null,
      "outputs": []
    },
    {
      "cell_type": "code",
      "source": [
        "# Reload the CSV into a dataframe\n",
        "sales = pd.read_csv('/content/drive/MyDrive/Colab Notebooks/sales_data.csv')\n",
        "print(sales) # sales has a null value in the Price column"
      ],
      "metadata": {
        "id": "al9L4lAFvICM"
      },
      "execution_count": null,
      "outputs": []
    },
    {
      "cell_type": "code",
      "source": [
        "# The following code looks correct but it only returns a pandas series with the sixth position replaced by 20\n",
        "sales[\"Price\"].fillna(20)"
      ],
      "metadata": {
        "id": "0xzBNn-3sGjs"
      },
      "execution_count": null,
      "outputs": []
    },
    {
      "cell_type": "code",
      "source": [
        "print(sales) # sales still has the null value in the Price column"
      ],
      "metadata": {
        "id": "8gMev3OCsUMN"
      },
      "execution_count": null,
      "outputs": []
    },
    {
      "cell_type": "code",
      "source": [
        "# Replace NULL values in the Price column with the number 20\n",
        "sales[\"Price\"].fillna(20, inplace = True) # We need to set inplace = True so we are modifying df\n",
        "print(sales)"
      ],
      "metadata": {
        "id": "oLf2VdvNrHXe"
      },
      "execution_count": null,
      "outputs": []
    },
    {
      "cell_type": "code",
      "source": [
        "# Reload the dataframe and follow the suggestion in the warning message\n",
        "sales = pd.read_csv('/content/drive/MyDrive/Colab Notebooks/sales_data.csv')\n",
        "sales.fillna({\"Price\": 20}, inplace=True)"
      ],
      "metadata": {
        "id": "ik9OyZvkuJgK"
      },
      "execution_count": null,
      "outputs": []
    },
    {
      "cell_type": "code",
      "source": [
        "# Reload the dataframe and follow the suggestion in the warning message\n",
        "sales = pd.read_csv('/content/drive/MyDrive/Colab Notebooks/sales_data.csv')\n",
        "sales[\"Price\"] = sales[\"Price\"].fillna(20)"
      ],
      "metadata": {
        "id": "qonqL-AZuQOf"
      },
      "execution_count": null,
      "outputs": []
    },
    {
      "cell_type": "markdown",
      "source": [
        "# Handle Duplicates"
      ],
      "metadata": {
        "id": "I1o4G3wixcYW"
      }
    },
    {
      "cell_type": "code",
      "source": [
        "df = pd.read_csv('/content/drive/MyDrive/Colab Notebooks/sales_data.csv')\n",
        "# Use duplicated() to discover duplicates\n",
        "# duplicated() returns a Boolean value for each row, i.e., True for every row that is a duplicate, othwerwise False\n",
        "print(df.duplicated())\n",
        "# Note that Rows with index 8 and 9 are the same\n",
        "# Row 8 is not a duplicate, and Row 9 is a duplicate\n",
        "# Documentation at https://pandas.pydata.org/docs/reference/api/pandas.DataFrame.duplicated.html: the keep parameter by default is 'first'"
      ],
      "metadata": {
        "id": "19OLJPw1xkbo"
      },
      "execution_count": null,
      "outputs": []
    },
    {
      "cell_type": "code",
      "source": [
        "# Use drop_duplicates() to remove duplicates\n",
        "df.drop_duplicates(inplace = True) # We set inplace = True to make sure that the method does NOT return a new dataframe, but it will remove all duplicates from the original dataframe\n",
        "print(df)\n",
        "# Note that Row 8 is kept, and Row 9 is removed\n",
        "# Documentation at https://pandas.pydata.org/docs/reference/api/pandas.DataFrame.drop_duplicates.html: the keep parameter by default is 'first'"
      ],
      "metadata": {
        "id": "NKC4W6hUyNzp"
      },
      "execution_count": null,
      "outputs": []
    },
    {
      "cell_type": "code",
      "source": [
        "# Reload the CSV into a dataframe\n",
        "sales = pd.read_csv('/content/drive/MyDrive/Colab Notebooks/sales_data.csv')\n",
        "print(sales) # sales has a null value in the Price column"
      ],
      "metadata": {
        "id": "lBkKMNB2zwH8"
      },
      "execution_count": null,
      "outputs": []
    },
    {
      "cell_type": "code",
      "source": [
        "# To drop duplicated rows based on one column's value in a pandas DataFrame, you can use the drop_duplicates() and specify the column name using the subset parameter\n",
        "# By default, this method keeps the first occurrence of each duplicated row and drops the rest\n",
        "sales.drop_duplicates(subset=['Transaction_ID']) # By default, inplace = False\n",
        "# sales.drop_duplicates(subset=['Transaction_ID'], inplace = True)\n",
        "# print(sales)"
      ],
      "metadata": {
        "id": "i2AKdoDk06dY"
      },
      "execution_count": null,
      "outputs": []
    },
    {
      "cell_type": "code",
      "source": [
        "# Reload the CSV into a dataframe\n",
        "sales = pd.read_csv('/content/drive/MyDrive/Colab Notebooks/sales_data.csv')\n",
        "# To drop duplicated rows based on one column's value in a pandas DataFrame, you can use the drop_duplicates() and specify the column name using the subset parameter\n",
        "# By default, this method keeps the first occurrence of each duplicated row and drops the rest (i.e.,  keep='first')\n",
        "sales.drop_duplicates(subset=['Product_ID'], keep='first')"
      ],
      "metadata": {
        "id": "xTwgsaGsz1C8"
      },
      "execution_count": null,
      "outputs": []
    },
    {
      "cell_type": "code",
      "source": [
        "sales = pd.read_csv('/content/drive/MyDrive/Colab Notebooks/sales_data.csv')\n",
        "# Use keep='last' to drop duplicates except for the last occurrence\n",
        "sales.drop_duplicates(subset=['Product_ID'], keep='last')"
      ],
      "metadata": {
        "id": "Y0dmATzK0UAH"
      },
      "execution_count": null,
      "outputs": []
    },
    {
      "cell_type": "code",
      "source": [
        "sales = pd.read_csv('/content/drive/MyDrive/Colab Notebooks/sales_data.csv')\n",
        "# Use keep=False to drop all duplicates\n",
        "sales.drop_duplicates(subset=['Product_ID'], keep=False)"
      ],
      "metadata": {
        "id": "lasD1g1K0g6W"
      },
      "execution_count": null,
      "outputs": []
    },
    {
      "cell_type": "markdown",
      "source": [
        "**Practice 1: Write code to get all the unique pairs of Customer_ID and Product_ID from the \"sales\" dataframe**"
      ],
      "metadata": {
        "id": "4Cf7cJCez_ME"
      }
    },
    {
      "cell_type": "markdown",
      "source": [
        "# Clean Date Format (Optional)"
      ],
      "metadata": {
        "id": "Hov6KIa4w_AZ"
      }
    },
    {
      "cell_type": "code",
      "source": [
        "sales = pd.read_csv('/content/drive/MyDrive/Colab Notebooks/sales_data.csv')\n",
        "# Pandas has a to_datetime() method for converting cell values to dates\n",
        "sales['Date'] = pd.to_datetime(sales['Date'], format='mixed', dayfirst =False)\n",
        "print(sales)\n",
        "# Documentation at https://pandas.pydata.org/docs/reference/api/pandas.to_datetime.html:\n",
        "# Use format='mixed' to infer the format for each element individually. This is risky, so we set dayfirst = False which indicates that we don't prefer to parse with day first."
      ],
      "metadata": {
        "id": "W7yU0fumt8oX"
      },
      "execution_count": null,
      "outputs": []
    },
    {
      "cell_type": "markdown",
      "source": [
        "# **New Content**"
      ],
      "metadata": {
        "id": "NEQNydLdHmXT"
      }
    },
    {
      "cell_type": "markdown",
      "source": [
        "# Data Analytics"
      ],
      "metadata": {
        "id": "3HEoooDoDfPU"
      }
    },
    {
      "cell_type": "code",
      "execution_count": null,
      "metadata": {
        "id": "qrzl93qoMyR_"
      },
      "outputs": [],
      "source": [
        "# Load the CSV into a dataframe called sales\n",
        "sales = pd.read_csv('/content/drive/MyDrive/Colab Notebooks/sales_data.csv')\n",
        "print(sales)"
      ]
    },
    {
      "cell_type": "code",
      "source": [
        "# For each transaction, transaction amount = quantity * price\n",
        "# Add a column for transaction amount\n",
        "sales['TransactionAmount'] = sales['Quantity'] * sales['Price']"
      ],
      "metadata": {
        "id": "H89JoGYBO-mP"
      },
      "execution_count": null,
      "outputs": []
    },
    {
      "cell_type": "code",
      "source": [
        "# What is the average transaction amount?\n",
        "# Automatically ignored null values when calculating the mean\n",
        "sales['TransactionAmount'].mean()"
      ],
      "metadata": {
        "id": "mpFRMJdCXFIf"
      },
      "execution_count": null,
      "outputs": []
    },
    {
      "cell_type": "code",
      "source": [
        "# What is the total transaction amount?\n",
        "# Automatically ignored null values when calculating the sum\n",
        "sales['TransactionAmount'].sum()"
      ],
      "metadata": {
        "id": "z15AxGlCXIAs"
      },
      "execution_count": null,
      "outputs": []
    },
    {
      "cell_type": "code",
      "source": [
        "sales['TransactionAmount'].max()"
      ],
      "metadata": {
        "id": "AnTGO9QcyW4d"
      },
      "execution_count": null,
      "outputs": []
    },
    {
      "cell_type": "code",
      "source": [
        "# Use .groupby() to group your data and execute functions (e.g., sum) on these groups\n",
        "sales.groupby('Customer_ID').sum() # .sum() calculates the total of numeric columns and concatenates the string columns\n",
        "# Row index 6 has null values in Price and TransactionAmount columns\n",
        "# The null values in Price and TransactionAmount are ignored\n",
        "# Other numeric columns (Transaction_ID, Quantity) in row index 6 are not ignored"
      ],
      "metadata": {
        "id": "CtwoP-EFRDue"
      },
      "execution_count": null,
      "outputs": []
    },
    {
      "cell_type": "code",
      "source": [
        "# The null values can be confusing and intervene with our analysis\n",
        "# The best practice is to clean up the null values (and other problems) before analysis"
      ],
      "metadata": {
        "id": "Z9EUiluBZiRT"
      },
      "execution_count": null,
      "outputs": []
    },
    {
      "cell_type": "markdown",
      "source": [
        "**Step 1 (Revision - Handle Duplicates): Remove duplicated rows in the sales dataframe with keeping the first occurence**"
      ],
      "metadata": {
        "id": "rNtgzvAIZgII"
      }
    },
    {
      "cell_type": "code",
      "source": [
        "# Load the CSV into a dataframe\n",
        "sales = pd.read_csv('/content/drive/MyDrive/Colab Notebooks/sales_data.csv')\n",
        "# Clean the sales data\n",
        "# Step 1: Remove duplicated rows\n",
        "sales.drop_duplicates(inplace = True)"
      ],
      "metadata": {
        "id": "RgDYR6HQSOoo"
      },
      "execution_count": null,
      "outputs": []
    },
    {
      "cell_type": "markdown",
      "source": [
        "**Step 2 (Revision: Correct Wrong Values): Change the price of Product P001 to 20.99 and recalculate transaction amount (Quantity * Price)**"
      ],
      "metadata": {
        "id": "ZWW3-wLyMVqM"
      }
    },
    {
      "cell_type": "code",
      "source": [
        "# Step 2: Correct wrong values\n",
        "sales.loc[sales['Product_ID'] == 'P001', 'Price'] = 20.99\n",
        "sales['TransactionAmount'] = sales['Quantity'] * sales['Price']"
      ],
      "metadata": {
        "id": "duTHaWUISTlO"
      },
      "execution_count": null,
      "outputs": []
    },
    {
      "cell_type": "markdown",
      "source": [
        "**Step 3 (Revision: Fill Null Values): Change the null value of Price to the weighted price of all other products in the sales table (i.e., total transaction amount of all the products divided by total quantity of all the products) and recalculate transaction amount**"
      ],
      "metadata": {
        "id": "u0AQlPUJLIt-"
      }
    },
    {
      "cell_type": "code",
      "source": [
        "# Step 3: Clean null values\n",
        "weighted_price = sales['TransactionAmount'].sum() / sales['Quantity'].sum()\n",
        "sales['Price'] = sales['Price'].fillna(weighted_price)\n",
        "# Recalculate Transaction Amount\n",
        "sales['TransactionAmount'] = sales['Quantity'] * sales['Price']"
      ],
      "metadata": {
        "id": "rXNlGwK7Sg_d"
      },
      "execution_count": null,
      "outputs": []
    },
    {
      "cell_type": "code",
      "source": [
        "# We can specify to only perform .sum() on the TransactionAmount column\n",
        "total_amount_per_customer = sales.groupby('Customer_ID')['TransactionAmount'].sum()\n",
        "print(total_amount_per_customer)\n",
        "print()\n",
        "print(type(total_amount_per_customer))"
      ],
      "metadata": {
        "id": "MX9ED8rnT8dK"
      },
      "execution_count": null,
      "outputs": []
    },
    {
      "cell_type": "code",
      "source": [
        "# We can specify to perform .sum() on more than one column\n",
        "sales.groupby('Customer_ID')[['TransactionAmount', 'Transaction_ID']].sum() # summing transaction ID is not meaningful"
      ],
      "metadata": {
        "id": "xa7jM1abERwk"
      },
      "execution_count": null,
      "outputs": []
    },
    {
      "cell_type": "markdown",
      "source": [
        "**Practice 2: Write code to answer the following question: for each product, what is its average price weighted by transaction quantity?**"
      ],
      "metadata": {
        "id": "5kgqnmKFWrwi"
      }
    },
    {
      "cell_type": "code",
      "source": [
        "# Use .value_counts() to count the number of transactions for each customer\n",
        "sales['Customer_ID'].value_counts()"
      ],
      "metadata": {
        "id": "RMIe7fXbDlPn"
      },
      "execution_count": null,
      "outputs": []
    },
    {
      "cell_type": "markdown",
      "source": [
        "**Practice 3: Write code to count the number of transactions for each pair of customer and product**"
      ],
      "metadata": {
        "id": "zm1pY_DDRG48"
      }
    },
    {
      "cell_type": "code",
      "source": [
        "# Use .nlargest() to get the top five customers with the largest total amount\n",
        "total_amount_per_customer.nlargest(5) # total_amount_per_customer is a pandas series"
      ],
      "metadata": {
        "id": "f7dMBRW_E4vG"
      },
      "execution_count": null,
      "outputs": []
    },
    {
      "cell_type": "code",
      "source": [
        "# Use .idxmax() to return the label of first occurrence of maximum value\n",
        "total_amount_per_customer.idxmax()"
      ],
      "metadata": {
        "id": "Gvk0-YjrShQK"
      },
      "execution_count": null,
      "outputs": []
    },
    {
      "cell_type": "markdown",
      "source": [
        "**Practice 4: Use .nlargest(), .nsmallest(), .idxmax(), and .idxmin() to write code to get the product with the highest and lowest average price weighted by transaction quantity**\n",
        "\n",
        "**Hint 1: Use your answer from Practice 2**\n",
        "\n",
        "**Hint 2: Read resources here: https://tutorialsinhand.com/Articles/pandas-dataframe---nsmallest-and-nlargest.aspx and https://proclusacademy.com/blog/quicktip/pandas-idxmin-idxmax/**\n",
        "\n",
        "**The second resource also talks about having repeated max and min values**"
      ],
      "metadata": {
        "id": "xQ6ywiPHRw7N"
      }
    }
  ]
}