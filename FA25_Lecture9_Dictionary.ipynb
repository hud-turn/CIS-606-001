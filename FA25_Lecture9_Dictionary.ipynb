{
  "cells": [
    {
      "cell_type": "markdown",
      "metadata": {
        "id": "S8KBd8LWSDUY"
      },
      "source": [
        "# Dictionary"
      ]
    },
    {
      "cell_type": "code",
      "execution_count": null,
      "metadata": {
        "colab": {
          "base_uri": "https://localhost:8080/"
        },
        "id": "NlDwV_8JWhoV",
        "outputId": "bcb44728-bef9-490d-cc6f-c2c30899135b"
      },
      "outputs": [
        {
          "name": "stdout",
          "output_type": "stream",
          "text": [
            "{'painter': 'Andy Warhol', 'title': \"Campbell's Soup Cans\", 'year': 1962, 'museum': 'MoMA', 'location': ['Floor 4', 412], 'on tour': False}\n",
            "6\n",
            "<class 'dict'>\n"
          ]
        }
      ],
      "source": [
        "# Dictionaries store key: value pairs in curly brackets\n",
        "# The values in dictionary items can be of any data type\n",
        "# A key: value pair is also called an item in a dictionary\n",
        "dict_painting = {\n",
        "  \"painter\": \"Andy Warhol\", # string\n",
        "  \"title\": \"Campbell's Soup Cans\",\n",
        "  \"year\": 1962, # int\n",
        "  \"museum\": \"MoMA\",\n",
        "  \"location\": [\"Floor 4\", 412], # list\n",
        "  \"on tour\": False # boolean\n",
        "}\n",
        "print(dict_painting)\n",
        "# Use len() to get the number of items in a dictionary (items in a dictionary refer to a key:value pair)\n",
        "print(len(dict_painting))\n",
        "# The data type is 'dict'\n",
        "print(type(dict_painting))"
      ]
    },
    {
      "cell_type": "code",
      "execution_count": null,
      "metadata": {
        "colab": {
          "base_uri": "https://localhost:8080/"
        },
        "id": "Kq49Fo-dX8tO",
        "outputId": "1a5eb75e-2880-45a2-9e3c-249acadf00d9"
      },
      "outputs": [
        {
          "name": "stdout",
          "output_type": "stream",
          "text": [
            "{'painter': '', 'title': \"Campbell's Soup Cans\", 'year': 1962, 'museum': 'MET'}\n"
          ]
        }
      ],
      "source": [
        "# Dictionaries can't have two items with the same key\n",
        "# Duplicate keys will overwrite the existing value:\n",
        "dict_painting_dup = {\n",
        "  \"painter\": \"Andy Warhol\",\n",
        "  \"title\": \"Campbell's Soup Cans\",\n",
        "  \"year\": 1962,\n",
        "  \"museum\": \"MoMA\",\n",
        "  \"museum\": \"MET\" # the pair \"museum\": \"MoMA\" will be overwritten\n",
        "}\n",
        "print(dict_painting_dup)"
      ]
    },
    {
      "cell_type": "code",
      "execution_count": null,
      "metadata": {
        "colab": {
          "base_uri": "https://localhost:8080/",
          "height": 35
        },
        "id": "0A9jjVbDYbs3",
        "outputId": "8d35c883-6caf-4580-a27f-6b2b0cced083"
      },
      "outputs": [
        {
          "data": {
            "application/vnd.google.colaboratory.intrinsic+json": {
              "type": "string"
            },
            "text/plain": [
              "'Andy Warhol'"
            ]
          },
          "execution_count": 19,
          "metadata": {},
          "output_type": "execute_result"
        }
      ],
      "source": [
        "# Access value by putting key inside the square brackets\n",
        "dict_painting[\"painter\"]"
      ]
    },
    {
      "cell_type": "code",
      "execution_count": null,
      "metadata": {
        "colab": {
          "base_uri": "https://localhost:8080/"
        },
        "id": "uXpgQUt-ajhB",
        "outputId": "8a5794ea-69fe-498e-992d-0e2568d1ebfe"
      },
      "outputs": [
        {
          "name": "stdout",
          "output_type": "stream",
          "text": [
            "dict_keys(['painter', 'title', 'year', 'museum', 'location', 'on tour'])\n",
            "<class 'dict_keys'>\n"
          ]
        }
      ],
      "source": [
        "# Access all the keys using keys()\n",
        "print(dict_painting.keys())\n",
        "# The type of dictionary keys is 'dict_keys'\n",
        "print(type(dict_painting.keys()))"
      ]
    },
    {
      "cell_type": "code",
      "execution_count": null,
      "metadata": {
        "colab": {
          "base_uri": "https://localhost:8080/"
        },
        "id": "w8s3FVaeaxTg",
        "outputId": "334fd645-0014-4d20-ad7e-533fe837812a"
      },
      "outputs": [
        {
          "name": "stdout",
          "output_type": "stream",
          "text": [
            "dict_values(['Andy Warhol', \"Campbell's Soup Cans\", 1962, 'MoMA', ['Floor 4', 412], False])\n",
            "<class 'dict_values'>\n"
          ]
        }
      ],
      "source": [
        "# Access all the values using values()\n",
        "print(dict_painting.values())\n",
        "# The type of dictionary values is 'dict_values'\n",
        "print(type(dict_painting.values()))"
      ]
    },
    {
      "cell_type": "markdown",
      "metadata": {
        "id": "IyqtAFezcUZV"
      },
      "source": [
        "**Practice 1: Check if \"painter\" is one of the keys in dict_painting. If yes, print \"yes, 'painter' is one of the keys\" and continue to check if the painter is \"Andy Warhol\". If yes, print \"the painter is correct\"; if no, print \"the painter is incorrect\".**"
      ]
    },
    {
      "cell_type": "code",
      "execution_count": null,
      "metadata": {
        "colab": {
          "base_uri": "https://localhost:8080/"
        },
        "id": "65pvW5GHrO1T",
        "outputId": "581faed4-728c-4384-c296-5f736b20e343"
      },
      "outputs": [
        {
          "name": "stdout",
          "output_type": "stream",
          "text": [
            "yes, 'painter' is one of the keys\n",
            "YY\n"
          ]
        }
      ],
      "source": [
        "if \"painter\" in dict_painting:\n",
        "  print(\"yes, 'painter' is one of the keys\")\n",
        "  if dict_painting[\"painter\"] == \"Andy Warhol\":\n",
        "    print(\"XX\")\n",
        "  else:\n",
        "    print(\"YY\")"
      ]
    },
    {
      "cell_type": "code",
      "execution_count": null,
      "metadata": {
        "colab": {
          "base_uri": "https://localhost:8080/"
        },
        "id": "36ntbAFsbR89",
        "outputId": "53a13f37-fb6a-4fad-e1d3-07c8a493e9e4"
      },
      "outputs": [
        {
          "data": {
            "text/plain": [
              "dict_items([('painter', 'Andy Warhol'), ('title', \"Campbell's Soup Cans\"), ('year', 1962), ('museum', 'MoMA'), ('location', ['Floor 4', 412]), ('on tour', False)])"
            ]
          },
          "execution_count": 37,
          "metadata": {},
          "output_type": "execute_result"
        }
      ],
      "source": [
        "# Access all the items using items()\n",
        "# Return each item as tuples in a list\n",
        "# Tuple: ordered, unchangeable, allow duplicates\n",
        "# View https://www.w3schools.com/python/python_tuples.asp for more information\n",
        "dict_painting.items()"
      ]
    },
    {
      "cell_type": "code",
      "execution_count": null,
      "metadata": {
        "colab": {
          "base_uri": "https://localhost:8080/"
        },
        "id": "6QzFDyglfcq0",
        "outputId": "d5f07978-240f-4fdf-e3b0-4a39a30c9b84"
      },
      "outputs": [
        {
          "name": "stdout",
          "output_type": "stream",
          "text": [
            "painter Andy Warhol\n",
            "title Campbell's Soup Cans\n",
            "year 1962\n",
            "museum MoMA\n",
            "location ['Floor 4', 412]\n",
            "on tour False\n"
          ]
        }
      ],
      "source": [
        "# Loop through both keys and values using the items():\n",
        "for key, value in dict_painting.items():\n",
        "  # print key, a blank space, and value\n",
        "  print(key, value)"
      ]
    },
    {
      "cell_type": "markdown",
      "metadata": {
        "id": "OcrtGJDnfFW5"
      },
      "source": [
        "**Practice 2: Loop through the keys of dict_painting and print every key**"
      ]
    },
    {
      "cell_type": "code",
      "execution_count": null,
      "metadata": {
        "colab": {
          "base_uri": "https://localhost:8080/"
        },
        "id": "a-HMP4HCvDe0",
        "outputId": "26be5c11-6d13-4091-bf40-7eab41bfe5c3"
      },
      "outputs": [
        {
          "name": "stdout",
          "output_type": "stream",
          "text": [
            "painter\n",
            "title\n",
            "year\n",
            "museum\n",
            "location\n",
            "on tour\n"
          ]
        }
      ],
      "source": [
        "for key in dict_painting.keys():\n",
        "  print(key)"
      ]
    },
    {
      "cell_type": "code",
      "execution_count": null,
      "metadata": {
        "colab": {
          "base_uri": "https://localhost:8080/"
        },
        "id": "3cStRXFrwEL0",
        "outputId": "133eb6cb-0e7b-4413-c656-08acbddce4c4"
      },
      "outputs": [
        {
          "name": "stdout",
          "output_type": "stream",
          "text": [
            "Andy Warhol\n",
            "Campbell's Soup Cans\n",
            "1962\n",
            "MoMA\n",
            "['Floor 4', 412]\n",
            "False\n"
          ]
        }
      ],
      "source": [
        "for value in dict_painting.values():\n",
        "  print(value)"
      ]
    },
    {
      "cell_type": "code",
      "execution_count": null,
      "metadata": {
        "colab": {
          "base_uri": "https://localhost:8080/"
        },
        "id": "SVTgceQ6vq5Z",
        "outputId": "7ab7b46b-2d7a-43ca-f98c-0f5a4fb0f150"
      },
      "outputs": [
        {
          "name": "stdout",
          "output_type": "stream",
          "text": [
            "painter\n",
            "title\n",
            "year\n",
            "museum\n",
            "location\n",
            "on tour\n"
          ]
        }
      ],
      "source": [
        "for pair in dict_painting.items():\n",
        "  print(pair[0])"
      ]
    },
    {
      "cell_type": "code",
      "execution_count": null,
      "metadata": {
        "colab": {
          "base_uri": "https://localhost:8080/"
        },
        "id": "UN5FHAwhdhVR",
        "outputId": "9064f5c7-fdfe-4b41-c77a-7666bb5440e3"
      },
      "outputs": [
        {
          "data": {
            "text/plain": [
              "dict_items([('painter', 'Claude Monet'), ('title', \"Campbell's Soup Cans\"), ('year', 1962), ('museum', 'MoMA'), ('location', ['Floor 4', 412]), ('on tour', False)])"
            ]
          },
          "execution_count": 74,
          "metadata": {},
          "output_type": "execute_result"
        }
      ],
      "source": [
        "# Change the value of a specific item by referring to its key\n",
        "dict_painting[\"painter\"] = \"Claude Monet\"\n",
        "dict_painting.items()"
      ]
    },
    {
      "cell_type": "code",
      "execution_count": null,
      "metadata": {
        "colab": {
          "base_uri": "https://localhost:8080/"
        },
        "id": "g6f9_9Cfd2Pa",
        "outputId": "3f5ba67c-6941-4931-b7b4-283b138a370f"
      },
      "outputs": [
        {
          "data": {
            "text/plain": [
              "dict_items([('painter', 'Claude Monet'), ('title', \"Campbell's Soup Cans\"), ('year', 1962), ('museum', 'MoMA'), ('location', ['Floor 4', 412]), ('on tour', False), ('dimension', [97, 163])])"
            ]
          },
          "execution_count": 75,
          "metadata": {},
          "output_type": "execute_result"
        }
      ],
      "source": [
        "# Add a new key:value pair by using a new key and assigning a value to it\n",
        "# Notice \"dimension\" is a new key\n",
        "dict_painting[\"dimension\"] = [97, 163]\n",
        "dict_painting.items()"
      ]
    },
    {
      "cell_type": "code",
      "execution_count": null,
      "metadata": {
        "colab": {
          "base_uri": "https://localhost:8080/"
        },
        "id": "h4Ue1JZkeduv",
        "outputId": "d8d07165-0bd3-4de2-cc51-1e92deb44c0f"
      },
      "outputs": [
        {
          "data": {
            "text/plain": [
              "dict_items([('painter', 'Claude Monet'), ('title', \"Campbell's Soup Cans\"), ('museum', 'MoMA'), ('location', ['Floor 4', 412]), ('on tour', False), ('dimension', [97, 163])])"
            ]
          },
          "execution_count": 76,
          "metadata": {},
          "output_type": "execute_result"
        }
      ],
      "source": [
        "# Remove an item with a specified key \"year\"\n",
        "dict_painting.pop(\"year\")\n",
        "dict_painting.items()"
      ]
    },
    {
      "cell_type": "code",
      "execution_count": null,
      "metadata": {
        "id": "UROJWjB8gITp"
      },
      "outputs": [],
      "source": [
        "# Create a nested dictionary that contain three dictionaries\n",
        "dict_painting_nested = {\n",
        "    \"paint1\" : {\n",
        "      \"title\": \"Campbell's Soup Cans\",\n",
        "      \"year\": 1962\n",
        "    },\n",
        "    \"paint2\": {\n",
        "      \"title\": \"The Starry Night\",\n",
        "      \"year\": 1889\n",
        "    },\n",
        "    \"paint3\" : {\n",
        "      \"title\": \"The Water Lily Pond\",\n",
        "      \"year\": 1899\n",
        "    }\n",
        "}"
      ]
    },
    {
      "cell_type": "code",
      "execution_count": null,
      "metadata": {
        "colab": {
          "base_uri": "https://localhost:8080/"
        },
        "id": "ZXDO3sY67_3K",
        "outputId": "12cd8ce2-89fb-457b-d617-d65acd804dd1"
      },
      "outputs": [
        {
          "name": "stdout",
          "output_type": "stream",
          "text": [
            "{'title': \"Campbell's Soup Cans\", 'year': 1962}\n"
          ]
        }
      ],
      "source": [
        "# Access the first inner dictionary\n",
        "print(dict_painting_nested[\"paint1\"])"
      ]
    },
    {
      "cell_type": "code",
      "execution_count": null,
      "metadata": {
        "colab": {
          "base_uri": "https://localhost:8080/"
        },
        "id": "btb3oE1lyelk",
        "outputId": "af908765-d838-44ac-b5fa-5285deec32cf"
      },
      "outputs": [
        {
          "name": "stdout",
          "output_type": "stream",
          "text": [
            "Campbell's Soup Cans\n"
          ]
        }
      ],
      "source": [
        "# Access the title of the first inner dictionary\n",
        "print(dict_painting_nested[\"paint1\"][\"title\"])"
      ]
    },
    {
      "cell_type": "code",
      "execution_count": null,
      "metadata": {
        "id": "LayEAb7zhXxG"
      },
      "outputs": [],
      "source": [
        "# Alternatively, we can create three dictionaries and combine them into one outer dictionary\n",
        "paint1 = {\n",
        "  \"title\": \"Campbell's Soup Cans\",\n",
        "  \"year\": 1962\n",
        "}\n",
        "paint2 = {\n",
        "  \"title\": \"The Starry Night\",\n",
        "  \"year\": 1889\n",
        "}\n",
        "paint3 = {\n",
        "  \"title\": \"The Water Lily Pond\",\n",
        "  \"year\": 1899\n",
        "}\n",
        "dict_painting_nested = {\n",
        "  \"paint1\" : paint1,\n",
        "  \"paint2\" : paint2,\n",
        "  \"paint3\" : paint3\n",
        "}"
      ]
    },
    {
      "cell_type": "markdown",
      "metadata": {
        "id": "Kl-5_UrpT5Yf"
      },
      "source": [
        "**Practice 3: Create a nested dictionary to record the following information.**\n",
        "![nested_dict.png](data:image/png;base64,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)"
      ]
    },
    {
      "cell_type": "code",
      "execution_count": null,
      "metadata": {
        "id": "jhnL84LD0qV4"
      },
      "outputs": [],
      "source": [
        "songs = {\n",
        "    \"song1\":{\n",
        "        \"title\": \"Flowers\",\n",
        "        \"whether_live\": True,\n",
        "        \"duration\": 201\n",
        "    },\n",
        "    \"song2\":{\n",
        "      \"title\": \"Treasure\",\n",
        "      \"whether_live\": False,\n",
        "      \"duration\": 178\n",
        "    }\n",
        "}"
      ]
    },
    {
      "cell_type": "code",
      "execution_count": null,
      "metadata": {
        "id": "qgnZ89Kd12u5"
      },
      "outputs": [],
      "source": [
        "song1 = {\n",
        "        \"title\": \"Flowers\",\n",
        "        \"whether_live\": True,\n",
        "        \"duration\": 201\n",
        "    }\n",
        "song2 = {\n",
        "  \"title\": \"Treasure\",\n",
        "  \"whether_live\": False,\n",
        "  \"duration\": 178\n",
        "}\n",
        "songs = {\n",
        "    \"song1\": song1,\n",
        "    \"song2\": song2\n",
        "}"
      ]
    },
    {
      "cell_type": "code",
      "execution_count": null,
      "metadata": {
        "colab": {
          "base_uri": "https://localhost:8080/"
        },
        "id": "ZNyERcs71WmU",
        "outputId": "12c158cc-48c9-4acb-c4c7-6b0c6a6937e1"
      },
      "outputs": [
        {
          "name": "stdout",
          "output_type": "stream",
          "text": [
            "Flowers\n"
          ]
        }
      ],
      "source": [
        "print(songs[\"song1\"][\"title\"])"
      ]
    },
    {
      "cell_type": "markdown",
      "metadata": {
        "id": "fFf94yeewUsa"
      },
      "source": [
        "**Practice 4: Loop through the dictionary you just created to test whether each song has a duration greater than 200. If yes, print \"{title} is longer than 200 seconds; if not, print \"{title} isn't longer than 200 seconds.\"**"
      ]
    },
    {
      "cell_type": "code",
      "execution_count": null,
      "metadata": {
        "colab": {
          "base_uri": "https://localhost:8080/"
        },
        "id": "kvEVT0Wc2lNF",
        "outputId": "2f89f2ef-41f4-47a8-b764-0f478c098268"
      },
      "outputs": [
        {
          "name": "stdout",
          "output_type": "stream",
          "text": [
            "Flowers is longer than 200 seconds\n",
            "Treasure isn't longer than 200 seconds\n"
          ]
        }
      ],
      "source": [
        "for song_key, song_info in songs.items():\n",
        "  #title = song_info[\"title\"]\n",
        "  #duration = song_info[\"duration\"]\n",
        "  if song_info[\"duration\"] > 200:\n",
        "    print(f\"\"\"{song_info[\"title\"]} is longer than 200 seconds\"\"\")\n",
        "  else:\n",
        "    print(f\"\"\"{song_info[\"title\"]} isn't longer than 200 seconds\"\"\")"
      ]
    },
    {
      "cell_type": "markdown",
      "metadata": {
        "id": "miRm5kgMUBL_"
      },
      "source": [
        "# Use Dictionaries to Interact with Gen-AI"
      ]
    },
    {
      "cell_type": "code",
      "execution_count": null,
      "metadata": {
        "id": "gS_U_SknetnC"
      },
      "outputs": [],
      "source": [
        "from google.colab import ai\n",
        "import json\n",
        "import re\n",
        "\n",
        "def clean_string(text):\n",
        "    # Keep only alphanumeric characters and spaces in a string\n",
        "    return re.sub(r'[^A-Za-z0-9 ]+', '', text)"
      ]
    },
    {
      "cell_type": "code",
      "execution_count": null,
      "metadata": {
        "colab": {
          "base_uri": "https://localhost:8080/"
        },
        "id": "uwNqMzSkUNW6",
        "outputId": "ed11e52c-458e-42fc-ce3b-c92858a25311"
      },
      "outputs": [
        {
          "name": "stdout",
          "output_type": "stream",
          "text": [
            "Rocky Mountain National Park, established in 1915, boasts a rich history long before its park designation. For centuries, Ute and Arapaho tribes traversed these mountains, hunting and gathering, leaving behind a legacy of cultural heritage. European explorers and trappers arrived in the 1800s, soon followed by prospectors, homesteaders, and early tourists drawn to its majestic beauty. Advocates like Enos Mills championed its preservation, recognizing the vital need to protect its pristine wilderness from unchecked development. This dedicated effort culminated in its official creation, safeguarding its iconic landscapes and acknowledging its deep human connection to the land.\n"
          ]
        }
      ],
      "source": [
        "national_park = {\"name\": \"Rocky Mountain National Park\",\n",
        "                 \"introduction_type\": \"history\",\n",
        "                 \"word_limit\": 100}\n",
        "response = ai.generate_text(f\"\"\"Please give me an introduction of {national_park[\"name\"]} within {national_park[\"word_limit\"]} words.\n",
        "                            Focus your introduction on {national_park[\"introduction_type\"]}.\n",
        "                            \"\"\")\n",
        "print(response)"
      ]
    },
    {
      "cell_type": "code",
      "execution_count": null,
      "metadata": {
        "id": "y3pjCkAdWO9e"
      },
      "outputs": [],
      "source": [
        "national_parks_by_state = {\"Colorado\": [\"Rocky Mountain National Park\", \"Black Canyon of the Gunnison National Park\",\n",
        "                                        \"Great Sand Dunes National Park\", \"Mesa Verde National Park\"],\n",
        "                           \"Alaska\": [\"Denali National Park\", \"Gates of the Arctic National Park\",\n",
        "                                      \"Glacier Bay National Park\", \"Katmai National Park\",\n",
        "                                      \"Kenai Fjords National Park\", \"Kobuk Valley National Park\",\n",
        "                                      \"Lake Clark National Park\", \"Wrangell-St. Elias National Park\"],\n",
        "                           \"Arizona\": [\"Grand Canyon National Park\", \"Petrified Forest National Park\",\n",
        "                                       \"Saguaro National Park\"]\n",
        "}\n",
        "national_park_introductions = []\n",
        "for national_park in national_parks_by_state[\"Arizona\"]:\n",
        "  response = ai.generate_text(f\"Please give me a one-sentence introduction of {national_park}.\")\n",
        "  national_park_introductions.append(response)\n",
        "print(national_park_introductions)"
      ]
    },
    {
      "cell_type": "code",
      "execution_count": null,
      "metadata": {
        "id": "RZGnY3xRX4dF"
      },
      "outputs": [],
      "source": [
        "national_park_lists = [{\"name\": \"Rocky Mountain National Park\",\n",
        "                        \"state\": \"Colorado\"},\n",
        "                       {\"name\": \"Great Sand Dunes National Park\",\n",
        "                        \"state\": \"Colorado\"},\n",
        "                       {\"name\": \"Denali National Park\",\n",
        "                        \"state\": \"Alaska\"},\n",
        "                       {\"name\": \"Grand Canyon National Park\",\n",
        "                        \"state\": \"Arizona\"}\n",
        "                       ] # national_park_lists is a list of dictionaries\n",
        "for national_park in national_park_lists: # national_park is a dictionary\n",
        "  if national_park[\"state\"] == \"Colorado\":\n",
        "    response = ai.generate_text(f\"Please give me two travel tips for {national_park}.\")\n",
        "    national_park[\"travel_tips\"] = clean_string(response)\n",
        "  else:\n",
        "    response = ai.generate_text(f\"Please give me a one-sentence introduction for {national_park}.\")\n",
        "    national_park[\"brief_introduction\"] = clean_string(response)\n",
        "print(national_park_lists)"
      ]
    },
    {
      "cell_type": "code",
      "execution_count": null,
      "metadata": {
        "id": "Xlhqh1_CgmO5"
      },
      "outputs": [],
      "source": [
        "# store national_park_lists in a json file for easier access\n",
        "with open(\"national_park_lists.json\", \"w\", encoding=\"utf-8\") as file:\n",
        "    json.dump(national_park_lists, file)"
      ]
    },
    {
      "cell_type": "code",
      "execution_count": null,
      "metadata": {
        "colab": {
          "base_uri": "https://localhost:8080/"
        },
        "id": "ipK-zCihaK7U",
        "outputId": "16d94589-4575-4d03-d52b-a46dcb755e66"
      },
      "outputs": [
        {
          "name": "stdout",
          "output_type": "stream",
          "text": [
            "{'Rocky Mountain National Park': {'state': 'Colorado', 'acres': 265461, 'travel_tips': 'Here are two travel tips for Grand Canyon National Park1  Prioritize hydration and sun protection especially when hiking The Grand Canyons dry hot climate combined with high elevation can quickly lead to dehydration and heat exhaustion If you plan to hike below the rim never underestimate the ascent its significantly more strenuous than the descent Start early carry ample water at least 34 liters per person for a full day hike wear a widebrimmed hat sunglasses and use sunscreen generously2  Plan your visit strategically especially regarding timing and reservations The Grand Canyon is immensely popular Visit popular viewpoints like Mather Point or Yavapai Geology Museum early in the morning or late in the afternoon for fewer crowds and incredible photographic light For lodging inside the park which is highly recommended for convenience make reservations months in advance especially for peak seasons spring summer and fall Utilize the free shuttle bus system on the South Rim to navigate and avoid parking hassles'}, 'Great Sand Dunes National Park': {'state': 'Colorado', 'acres': 149028, 'travel_tips': 'Here are two travel tips for Grand Canyon National Park1  Prioritize Hydration and Sun Protection The Grand Canyons desert environment even on the rim can be intensely dry and sunny Carry significantly more water than you think youll need especially if hiking even short distances Wear a widebrimmed hat sunglasses and apply highSPF sunscreen frequently Even in cooler months the suns intensity at altitude can lead to dehydration and sunburn2  Respect the Canyons Scale and Dangers Especially for Hikers The Grand Canyon is immense and beautiful but also dangerous if underestimated       For all visitors Stay on marked trails and maintain a safe distance from the edge The ground can be unstable       For hikers If you plan to hike below the rim do NOT attempt to hike from the rim to the Colorado River and back in one day This is a common lifethreatening mistake due to extreme heat dehydration and the grueling ascent Be realistic about your fitness carry appropriate gear and ample water and consider only short wellmarked trails or planning an overnight stay with proper permits if going deep into the canyon'}, 'Denali National Park': {'state': 'Alaska', 'acres': 4740911, 'brief_introduction': 'Grand Canyon National Park in Arizona is a majestic natural wonder renowned for its immense colorful and geologically significant chasm carved by the Colorado River'}, 'Grand Canyon National Park': {'state': 'Arizona', 'acres': 1217262, 'brief_introduction': 'Grand Canyon National Park in Arizona is a majestic natural wonder renowned for its immense colorful and geologically significant chasm carved by the Colorado River'}}\n"
          ]
        }
      ],
      "source": [
        "national_park_dict = {\"Rocky Mountain National Park\":{\n",
        "    \"state\": \"Colorado\",\n",
        "    \"acres\": 265461\n",
        "    },\n",
        "                       \"Great Sand Dunes National Park\":{\n",
        "    \"state\": \"Colorado\",\n",
        "    \"acres\": 149028\n",
        "    },\n",
        "                       \"Denali National Park\":{\n",
        "    \"state\": \"Alaska\",\n",
        "    \"acres\": 4740911\n",
        "    },\n",
        "                       \"Grand Canyon National Park\":{\n",
        "    \"state\": \"Arizona\",\n",
        "    \"acres\": 1217262\n",
        "    }\n",
        "} # national_park_dict is a dictionary of dictionaries\n",
        "for key, value in national_park_dict.items(): # value is the inner dictionary\n",
        "  if value[\"state\"] == \"Colorado\":\n",
        "    response = ai.generate_text(f\"Please give me two travel tips for {national_park}.\")\n",
        "    value[\"travel_tips\"] = clean_string(response)\n",
        "  else:\n",
        "    response = ai.generate_text(f\"Please give me a one-sentence introduction for {national_park}.\")\n",
        "    value[\"brief_introduction\"] = clean_string(response)\n",
        "print(national_park_dict)"
      ]
    },
    {
      "cell_type": "code",
      "execution_count": null,
      "metadata": {
        "id": "EXlPv_SWf-_e"
      },
      "outputs": [],
      "source": [
        "# store national_park_dict in a json file for easier access\n",
        "with open(\"national_park_dict.json\", \"w\", encoding=\"utf-8\") as file:\n",
        "    json.dump(national_park_dict, file)"
      ]
    },
    {
      "cell_type": "markdown",
      "metadata": {
        "id": "lAIHWvDKPiFq"
      },
      "source": [
        "# Review: Range and For Loop"
      ]
    },
    {
      "cell_type": "code",
      "execution_count": null,
      "metadata": {
        "colab": {
          "base_uri": "https://localhost:8080/"
        },
        "id": "fFUx-lqoPY35",
        "outputId": "a1aac153-132e-45ae-fa94-ff18b28966e4"
      },
      "outputs": [
        {
          "name": "stdout",
          "output_type": "stream",
          "text": [
            "5\n"
          ]
        }
      ],
      "source": [
        "list_of_colors = [\"red\", \"orange\", \"green\", \"red\", \"yellow\"]\n",
        "print(len(list_of_colors))"
      ]
    },
    {
      "cell_type": "code",
      "execution_count": null,
      "metadata": {
        "id": "xc6SnhYEC_45"
      },
      "outputs": [],
      "source": [
        "# Loop through the list items with item index\n",
        "# You can use range(len(list_of_colors))\n",
        "for i in range(len(list_of_colors)):\n",
        "  print(list_of_colors[i])"
      ]
    },
    {
      "cell_type": "code",
      "execution_count": null,
      "metadata": {
        "id": "lU1u3FTvDFu-"
      },
      "outputs": [],
      "source": [
        "for color in list_of_colors:\n",
        "  print(color)"
      ]
    },
    {
      "cell_type": "markdown",
      "metadata": {
        "id": "VKKYrg5MWFJv"
      },
      "source": [
        "# While Loop"
      ]
    },
    {
      "cell_type": "code",
      "execution_count": null,
      "metadata": {
        "colab": {
          "base_uri": "https://localhost:8080/"
        },
        "id": "2z0Jx20IWR7g",
        "outputId": "fdfe2d36-73c5-451f-81cc-45929a087a06"
      },
      "outputs": [
        {
          "name": "stdout",
          "output_type": "stream",
          "text": [
            "red\n",
            "orange\n",
            "green\n",
            "red\n",
            "yellow\n"
          ]
        }
      ],
      "source": [
        "# The while loop executes a set of statements as long as a condition is true\n",
        "# Task: print the i-th element of list_of_colors as long as i is less than the length of list_of_colors\n",
        "# The while loop requires an indexing variable to be ready, so in this example we need to define an indexing variable, i, which we set to 0 initially\n",
        "i = 0\n",
        "while i < len(list_of_colors):\n",
        "  print(list_of_colors[i])\n",
        "  i = i + 1 # We must increment i, or the loop will continue forever"
      ]
    },
    {
      "cell_type": "code",
      "execution_count": null,
      "metadata": {
        "colab": {
          "base_uri": "https://localhost:8080/"
        },
        "id": "M-HNBVLZmYtr",
        "outputId": "babddfa8-0199-4601-f1bb-38b7869080ba"
      },
      "outputs": [
        {
          "name": "stdout",
          "output_type": "stream",
          "text": [
            "5\n"
          ]
        }
      ],
      "source": [
        "# What is the value of i after the while loop stops\n",
        "print(i)"
      ]
    },
    {
      "cell_type": "code",
      "execution_count": null,
      "metadata": {
        "id": "uxHUhs2ib9ca"
      },
      "outputs": [],
      "source": [
        "# Previous practice activity: to remove all the \"red\" items in list_of_colors\n",
        "# Recall when we use remove() to remove a specified item from a list, only its first occurence is removed\n",
        "list_of_colors = [\"red\", \"orange\", \"red\", \"green\", \"yellow\"]\n",
        "new_list = []\n",
        "for item in list_of_colors:\n",
        "  if item != \"red\":\n",
        "    new_list.append(item)\n",
        "print(new_list)"
      ]
    },
    {
      "cell_type": "code",
      "execution_count": null,
      "metadata": {
        "colab": {
          "base_uri": "https://localhost:8080/"
        },
        "id": "B1s1IDQVbe5n",
        "outputId": "9216dc30-d434-4b74-c6f8-2e2fcb14851e"
      },
      "outputs": [
        {
          "name": "stdout",
          "output_type": "stream",
          "text": [
            "start of iteration - list_of_colors is ['red', 'orange', 'red', 'green', 'yellow'] \n",
            "start of iteration - index: 0\n",
            "end of iteration - list_of_colors is ['orange', 'red', 'green', 'yellow'] \n",
            "end of iteration - index: 0 \n",
            "\n",
            "start of iteration - list_of_colors is ['orange', 'red', 'green', 'yellow'] \n",
            "start of iteration - index: 0\n",
            "end of iteration - list_of_colors is ['orange', 'red', 'green', 'yellow'] \n",
            "end of iteration - index: 1 \n",
            "\n",
            "start of iteration - list_of_colors is ['orange', 'red', 'green', 'yellow'] \n",
            "start of iteration - index: 1\n",
            "end of iteration - list_of_colors is ['orange', 'green', 'yellow'] \n",
            "end of iteration - index: 1 \n",
            "\n",
            "start of iteration - list_of_colors is ['orange', 'green', 'yellow'] \n",
            "start of iteration - index: 1\n",
            "end of iteration - list_of_colors is ['orange', 'green', 'yellow'] \n",
            "end of iteration - index: 2 \n",
            "\n",
            "start of iteration - list_of_colors is ['orange', 'green', 'yellow'] \n",
            "start of iteration - index: 2\n",
            "end of iteration - list_of_colors is ['orange', 'green', 'yellow'] \n",
            "end of iteration - index: 3 \n",
            "\n"
          ]
        }
      ],
      "source": [
        "list_of_colors = [\"red\", \"orange\", \"red\", \"green\", \"yellow\"]\n",
        "# Initialize index\n",
        "index = 0\n",
        "# Use a while loop to iterate through the list\n",
        "while index < len(list_of_colors):\n",
        "  print(f\"start of iteration - list_of_colors is {list_of_colors} \\nstart of iteration - index: {index}\")\n",
        "  if list_of_colors[index] == \"red\":\n",
        "      # Remove the item at the current index\n",
        "      list_of_colors.pop(index)\n",
        "  else:\n",
        "      # Move to the next index only if no removal\n",
        "      index += 1 # equivalent to index = index+1\n",
        "  print(f\"\"\"end of iteration - list_of_colors is {list_of_colors} \\nend of iteration - index: {index} \\n\"\"\")"
      ]
    },
    {
      "cell_type": "code",
      "execution_count": null,
      "metadata": {
        "colab": {
          "base_uri": "https://localhost:8080/"
        },
        "id": "M8beq4YSo2Su",
        "outputId": "9eabb72f-dcd0-4c8a-8969-e52d819ea54e"
      },
      "outputs": [
        {
          "name": "stdout",
          "output_type": "stream",
          "text": [
            "3\n"
          ]
        }
      ],
      "source": [
        "# What is the value of index after the while loop stops\n",
        "print(index)"
      ]
    },
    {
      "cell_type": "markdown",
      "metadata": {
        "id": "XOpUCSBTdtsK"
      },
      "source": [
        "**Use for loop when you**\n",
        "\n",
        "*   Know how many times the loop should run\n",
        "*   Want to iterate over a sequence (like a list, range, or dictionary)"
      ]
    },
    {
      "cell_type": "markdown",
      "metadata": {
        "id": "Dj5kNij4eE7u"
      },
      "source": [
        "**Use while loop when you**\n",
        "\n",
        "*   When you don't know in advance how many iterations are required\n",
        "*   Want to continue to loop until a condition becomes false"
      ]
    },
    {
      "cell_type": "code",
      "execution_count": null,
      "metadata": {
        "colab": {
          "base_uri": "https://localhost:8080/"
        },
        "id": "hARfraJteR0I",
        "outputId": "d6ac9bad-9d96-41b5-9e66-c4d414da9640"
      },
      "outputs": [
        {
          "name": "stdout",
          "output_type": "stream",
          "text": [
            "Type 'exit' to quit: exit\n",
            "exit\n"
          ]
        }
      ],
      "source": [
        "# While loop is helpful when you want to wait for user input\n",
        "user_input = \"\"\n",
        "user_input_record = []\n",
        "while user_input != \"exit\":\n",
        "    user_input = input(\"Type 'exit' to quit: \")\n",
        "    user_input_record.append(user_input)\n",
        "    print(user_input)"
      ]
    },
    {
      "cell_type": "code",
      "execution_count": null,
      "metadata": {
        "colab": {
          "base_uri": "https://localhost:8080/"
        },
        "id": "IKp0n1QgqKib",
        "outputId": "56009ac8-398b-4af0-aa09-5cadb8a32ae5"
      },
      "outputs": [
        {
          "data": {
            "text/plain": [
              "['exit']"
            ]
          },
          "execution_count": 16,
          "metadata": {},
          "output_type": "execute_result"
        }
      ],
      "source": [
        "print(user_input_record)"
      ]
    }
  ],
  "metadata": {
    "colab": {
      "collapsed_sections": [
        "lAIHWvDKPiFq",
        "VKKYrg5MWFJv"
      ],
      "provenance": []
    },
    "kernelspec": {
      "display_name": "cis-606-001",
      "language": "python",
      "name": "python3"
    },
    "language_info": {
      "name": "python",
      "version": "3.12.3"
    }
  },
  "nbformat": 4,
  "nbformat_minor": 0
}
