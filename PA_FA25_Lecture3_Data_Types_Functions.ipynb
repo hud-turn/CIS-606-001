{
  "cells": [
    {
      "cell_type": "markdown",
      "metadata": {
        "id": "wZGPr1BUESST"
      },
      "source": [
        "**Practice 1: use two ways to print the following string**\n",
        "```\n",
        "Today's a good day\n",
        "```"
      ]
    },
    {
      "cell_type": "code",
      "execution_count": 1,
      "metadata": {
        "id": "Ad7oor7ntDbB"
      },
      "outputs": [
        {
          "name": "stdout",
          "output_type": "stream",
          "text": [
            "Today's a good day\n"
          ]
        }
      ],
      "source": [
        "print(\"Today's a good day\")"
      ]
    },
    {
      "cell_type": "code",
      "execution_count": null,
      "metadata": {
        "colab": {
          "base_uri": "https://localhost:8080/"
        },
        "id": "WCF9hv_iDWwT",
        "outputId": "2ff74ce2-1dae-4bde-e11a-fa8b6a4c7653"
      },
      "outputs": [
        {
          "name": "stdout",
          "output_type": "stream",
          "text": [
            "Today's a good day\n"
          ]
        }
      ],
      "source": [
        "print('Today\\'s a good day')"
      ]
    },
    {
      "cell_type": "markdown",
      "metadata": {
        "id": "8MHiqoFB4ef4"
      },
      "source": [
        "**Practice 2: Explain the following code in writing and calculate the value of x after code execution**\n",
        "\n",
        "```\n",
        "x = 1\n",
        "x = x + 2\n",
        "```\n",
        "\n"
      ]
    },
    {
      "cell_type": "code",
      "execution_count": null,
      "metadata": {
        "colab": {
          "base_uri": "https://localhost:8080/"
        },
        "id": "8zTd9d45Dlg6",
        "outputId": "c9868b5b-6c2f-403a-902c-7e1854a08bbf"
      },
      "outputs": [
        {
          "name": "stdout",
          "output_type": "stream",
          "text": [
            "3\n"
          ]
        }
      ],
      "source": [
        "x = 1\n",
        "x = x + 2\n",
        "print(x)"
      ]
    },
    {
      "cell_type": "markdown",
      "metadata": {
        "id": "DwMCwm5BDfi3"
      },
      "source": [
        "Answer: The value of x after execution will be 3 because the value of 2 is added to x."
      ]
    },
    {
      "cell_type": "markdown",
      "metadata": {
        "id": "Au9k3jr07hce"
      },
      "source": [
        "**Practice 3: Run the following code and debug if necessary**\n",
        "\n",
        "Hint: there are two ways to print the value of x\n",
        "\n",
        "\n",
        "```\n",
        "x = 33\n",
        "print(\"The value is \" + x)\n",
        "```\n",
        "\n"
      ]
    },
    {
      "cell_type": "code",
      "execution_count": null,
      "metadata": {
        "colab": {
          "base_uri": "https://localhost:8080/"
        },
        "id": "SY-_lZoUDvxZ",
        "outputId": "6fe028d1-1f19-4b0d-ea6e-b7499c8e20fb"
      },
      "outputs": [
        {
          "name": "stdout",
          "output_type": "stream",
          "text": [
            "The value is 33\n"
          ]
        }
      ],
      "source": [
        "x = str(33)\n",
        "print(\"The value is \" + x)"
      ]
    },
    {
      "cell_type": "code",
      "execution_count": null,
      "metadata": {
        "colab": {
          "base_uri": "https://localhost:8080/"
        },
        "id": "aKNIBEhSD48e",
        "outputId": "b32bd072-df7e-4b7e-b3d5-7a524c47f472"
      },
      "outputs": [
        {
          "name": "stdout",
          "output_type": "stream",
          "text": [
            "The value is 33\n"
          ]
        }
      ],
      "source": [
        "x = 33\n",
        "print(\"The value is \" + str(x))"
      ]
    }
  ],
  "metadata": {
    "colab": {
      "provenance": []
    },
    "kernelspec": {
      "display_name": "cis-606-001-5Hsersw2-py3.12",
      "language": "python",
      "name": "python3"
    },
    "language_info": {
      "codemirror_mode": {
        "name": "ipython",
        "version": 3
      },
      "file_extension": ".py",
      "mimetype": "text/x-python",
      "name": "python",
      "nbconvert_exporter": "python",
      "pygments_lexer": "ipython3",
      "version": "3.12.3"
    }
  },
  "nbformat": 4,
  "nbformat_minor": 0
}
