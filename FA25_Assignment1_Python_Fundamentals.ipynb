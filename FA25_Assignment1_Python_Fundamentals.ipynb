{
  "nbformat": 4,
  "nbformat_minor": 0,
  "metadata": {
    "colab": {
      "provenance": []
    },
    "kernelspec": {
      "name": "python3",
      "display_name": "Python 3"
    },
    "language_info": {
      "name": "python"
    }
  },
  "cells": [
    {
      "cell_type": "code",
      "source": [
        "import pickle"
      ],
      "metadata": {
        "id": "jegOKIwb5AVt"
      },
      "execution_count": null,
      "outputs": []
    },
    {
      "cell_type": "code",
      "source": [
        "# Examine whether all the rows satisify the sudoku requirements\n",
        "# If true, print \"Rows satisfy the requirements!\"\n",
        "# If false, print \"Rows violate the requirements!\"\n",
        "#Test Data\n",
        "##square = [[9, 1, 5, 4, 2, 8, 6, 7, 3], [7, 2, 3, 6, 5, 9, 4, 1, 8], [4, 8, 6, 3, 1, 7, 9, 2, 5], [2, 3, 4, 1, 9, 5, 7, 8, 6], [8, 5, 7, 2, 4, 6, 3, 9, 1], [1, 6, 9, 8, 7, 3, 5, 4, 2], [5, 4, 2, 7, 3, 1, 8, 6, 9], [3, 7, 8, 9, 6, 2, 1, 5, 4], [6, 9, 1, 5, 8, 4, 2, 3, 7]]\n",
        "#squaree = [5, 3, 4, 6, 7, 2, 9, 1, 8]\n",
        "\n",
        "def examine_row(row, orientation):\n",
        "  sortedRows = [0,0,0,0,0,0,0,0,0,0] #our placeholder list that helps us quickly and easily filter for bad values\n",
        "  for i in row:\n",
        "    if i >= 1 and i <=9: #Looking for valid numbers\n",
        "      sortedRows[i] = i #if the number is valid, then the number will be sorted into its corresponding place in the list.\n",
        "  sortedRows.pop(0)\n",
        "  for i in sortedRows: #If our placeholder value 0 is found anywhere in the list then what will happen is it will trigger this statement which will cause the loop to exit.\n",
        "    if i == 0:\n",
        "      return  orientation + \" violate the requirements!\"\n",
        "  return orientation + \" satisfy the requirements!\"\n",
        "\n",
        "def examine_rows(square, orientation):\n",
        "  for row in square:\n",
        "    sortedRows = [0,0,0,0,0,0,0,0,0,0] #our placeholder list that helps us quickly and easily filter for bad values\n",
        "    for i in row:\n",
        "      if i >= 1 and i <=9: #Looking for valid numbers\n",
        "        sortedRows[i] = i #if the number is valid, then the number will be sorted into its corresponding place in the list.\n",
        "    sortedRows.pop(0)\n",
        "    for i in sortedRows: #If our placeholder value 0 is found anywhere in the list then what will happen is it will trigger this statement which will cause the loop to exit.\n",
        "      if i == 0:\n",
        "        return  orientation + \"violate the requirements!\"\n",
        "  return orientation + \"satisfy the requirements!\"\n"
      ],
      "metadata": {
        "id": "ZIBLcl9uDpkW"
      },
      "execution_count": null,
      "outputs": []
    },
    {
      "cell_type": "code",
      "source": [
        "# Examine whether all the columns satisify the sudoku requirements\n",
        "# If true, print \"Columns satisfy the requirements!\"\n",
        "# If false, print \"Columns violate the requirements!\"\n",
        "#square = [[9, 1, 5, 4, 2, 8, 6, 7, 3], [7, 2, 3, 6, 5, 9, 4, 1, 8], [4, 8, 6, 3, 1, 7, 9, 2, 5], [2, 3, 4, 1, 9, 5, 7, 8, 6], [8, 5, 7, 2, 4, 6, 3, 9, 1], [1, 6, 9, 8, 7, 3, 5, 4, 2], [5, 4, 2, 7, 3, 1, 8, 6, 9], [3, 7, 8, 9, 6, 2, 1, 5, 4], [6, 9, 1, 5, 8, 4, 2, 3, 7]]\n",
        "\n",
        "def examine_columns(square):\n",
        "    colToRow = []\n",
        "    for  i in enumerate(square):\n",
        "        colToRow.append([])\n",
        "    for index0, row in enumerate(square):\n",
        "        for index1, element in enumerate(row):\n",
        "            colToRow[index1].append(element)\n",
        "            #print(f\"index0: {index0}, index1: {index1}, element: {element}\")\n",
        "    return examine_rows(colToRow, \"Columns\")"
      ],
      "metadata": {
        "id": "p8Gm5pyuDyX4"
      },
      "execution_count": null,
      "outputs": []
    },
    {
      "cell_type": "code",
      "source": [
        "# Examine whether the main diagonal satisifies the sudoku requirement\n",
        "# If true, print \"Main diagonal satisfies the requirement!\"\n",
        "# If false, print \"Main diagonal violates the requirement!\"\n",
        "#square = [[9, 1, 5, 4, 2, 8, 6, 7, 3], [7, 2, 3, 6, 5, 9, 4, 1, 8], [4, 8, 6, 3, 1, 7, 9, 2, 5], [2, 3, 4, 1, 9, 5, 7, 8, 6], [8, 5, 7, 2, 4, 6, 3, 9, 1], [1, 6, 9, 8, 7, 3, 5, 4, 2], [5, 4, 2, 7, 3, 1, 8, 6, 9], [3, 7, 8, 9, 6, 2, 1, 5, 4], [6, 9, 1, 5, 8, 4, 2, 3, 7]]\n",
        "\n",
        "def examine_main_diagonal(square):\n",
        "    placeInRow = min(range(len(square)))\n",
        "    mainDiagonal = []\n",
        "    for row in square:\n",
        "        mainDiagonal.append(row[placeInRow])\n",
        "        placeInRow += 1\n",
        "    return examine_row(mainDiagonal, \"Diagonal\")\n"
      ],
      "metadata": {
        "id": "NjpvC9oED36p"
      },
      "execution_count": null,
      "outputs": []
    },
    {
      "cell_type": "code",
      "source": [
        "# Examine whether the antidiagonal satisifies the sudoku requirement\n",
        "# If true, print \"Antidiagonal satisfies the requirement!\"\n",
        "# If false, print \"Antidiagonal violates the requirement!\"\n",
        "\n",
        "#square = [[8, 1, 6, 9, 1, 2, 7, 4, 3], [9, 4, 3, 7, 1, 8, 5, 2, 6], [5, 2, 7, 3, 4, 6, 1, 8, 9], [6, 7, 2, 1, 3, 4, 8, 9, 5], [3, 5, 8, 2, 8, 7, 6, 1, 4], [4, 9, 1, 6, 8, 5, 2, 3, 7], [1, 6, 5, 4, 2, 9, 3, 7, 8], [2, 8, 4, 5, 7, 3, 9, 6, 1], [7, 3, 9, 8, 6, 1, 4, 5, 2]]\n",
        "\n",
        "def examine_antidiagonal(square):\n",
        "  placeInRow = max(range(len(square)))\n",
        "  mainDiagonal = []\n",
        "  for row in square:\n",
        "      mainDiagonal.append(row[placeInRow])\n",
        "      placeInRow -= 1\n",
        "  return examine_row(mainDiagonal, \"Anti-Diagonal\")\n"
      ],
      "metadata": {
        "id": "OXQBN1dmD6US"
      },
      "execution_count": null,
      "outputs": []
    },
    {
      "cell_type": "code",
      "source": [
        "# Load the squares (i.e., list of two-dimensional lists) to be examined from the pickle file:\n",
        "def examine_row(row, orientation):\n",
        "        sortedRows = [0,0,0,0,0,0,0,0,0,0] #our placeholder list that helps us quickly and easily filter for bad values\n",
        "        for i in row:\n",
        "            if i >= 1 and i <=9: #Looking for valid numbers\n",
        "                sortedRows[i] = i #if the number is valid, then the number will be sorted into its corresponding place in the list.\n",
        "        sortedRows.pop(0)\n",
        "        for i in sortedRows: #If our placeholder value 0 is found anywhere in the list then what will happen is it will trigger this statement which will cause the loop to exit.\n",
        "            if i == 0:\n",
        "                return  orientation + \" violate the requirements!\"\n",
        "        return orientation + \" satisfy the requirements!\"\n",
        "\n",
        "def examine_rows(square, orientation):\n",
        "  for row in square:\n",
        "    sortedRows = [0,0,0,0,0,0,0,0,0,0] #our placeholder list that helps us quickly and easily filter for bad values\n",
        "    for i in row:\n",
        "      if i >= 1 and i <=9: #Looking for valid numbers\n",
        "        sortedRows[i] = i #if the number is valid, then the number will be sorted into its corresponding place in the list.\n",
        "    sortedRows.pop(0)\n",
        "    for i in sortedRows: #If our placeholder value 0 is found anywhere in the list then what will happen is it will trigger this statement which will cause the loop to exit.\n",
        "      if i == 0:\n",
        "        return  orientation + \" violate the requirements!\"\n",
        "  return orientation + \" satisfy the requirements!\"\n",
        "\n",
        "def examine_columns(square):\n",
        "    colToRow = []\n",
        "    for  i in enumerate(square):\n",
        "        colToRow.append([])\n",
        "    for index0, row in enumerate(square):\n",
        "        for index1, element in enumerate(row):\n",
        "            colToRow[index1].append(element)\n",
        "            #print(f\"index0: {index0}, index1: {index1}, element: {element}\")\n",
        "    return examine_rows(colToRow, \"Columns\")\n",
        "\n",
        "def examine_main_diagonal(square):\n",
        "    placeInRow = min(range(len(square)))\n",
        "    mainDiagonal = []\n",
        "    for row in square:\n",
        "        mainDiagonal.append(row[placeInRow])\n",
        "        placeInRow += 1\n",
        "    return examine_row(mainDiagonal, \"Diagonal\")\n",
        "\n",
        "def examine_antidiagonal(square):\n",
        "  placeInRow = max(range(len(square)))\n",
        "  mainDiagonal = []\n",
        "  for row in square:\n",
        "      mainDiagonal.append(row[placeInRow])\n",
        "      placeInRow -= 1\n",
        "  return examine_row(mainDiagonal, \"Anti-Diagonal\")\n",
        "\n",
        "with open('/content/drive/MyDrive/Colab Notebooks/squares.pkl', 'rb') as file:\n",
        "    # squares_to_test is a list of two-dimensional lists,\n",
        "    # i.e., every item in squares_to_test is a two-dimensional list\n",
        "    squares_to_test = pickle.load(file)\n",
        "    for square_to_test in squares_to_test:\n",
        "      print(square_to_test) # Every square_to_test is a two-dimensional list for you to examine\n",
        "      \"\"\"\n",
        "      Please add code here to check if the two-dimensional list named square_to_test satisfies the sudoku requirements\n",
        "      for rows, columns, main diagonal, and antidiagonal\n",
        "\n",
        "      Although sudoku squares have some additional requirements, we ignore them for this assignment\n",
        "\n",
        "      Please also fill the functions in this notebook for keeping good structure and reducing reduandancy\n",
        "\n",
        "      \"\"\"\n",
        "      # Add code here\n",
        "      print(examine_rows(square_to_test, \"Rows\"))\n",
        "      print(examine_columns(square_to_test))\n",
        "      print(examine_main_diagonal(square_to_test))\n",
        "      print(examine_antidiagonal(square_to_test))\n",
        "      print(\"\\n\")\n",
        "    file.close"
      ],
      "metadata": {
        "id": "7iIwy086Me3y",
        "colab": {
          "base_uri": "https://localhost:8080/"
        },
        "outputId": "72fe7688-1e17-4b73-ee5a-c9e1af28c54c"
      },
      "execution_count": 9,
      "outputs": [
        {
          "output_type": "stream",
          "name": "stdout",
          "text": [
            "[[9, 1, 5, 4, 2, 8, 6, 7, 3], [7, 2, 3, 6, 5, 9, 4, 1, 8], [4, 8, 6, 3, 1, 7, 9, 2, 5], [2, 3, 4, 1, 9, 5, 7, 8, 6], [8, 5, 7, 2, 4, 6, 3, 9, 1], [1, 6, 9, 8, 7, 3, 5, 4, 2], [5, 4, 2, 7, 3, 1, 8, 6, 9], [3, 7, 8, 9, 6, 2, 1, 5, 4], [6, 9, 1, 5, 8, 4, 2, 3, 7]]\n",
            "Rows satisfy the requirements!\n",
            "Columns satisfy the requirements!\n",
            "Diagonal satisfy the requirements!\n",
            "Anti-Diagonal satisfy the requirements!\n",
            "\n",
            "\n",
            "[[9, 4, 2, 6, 7, 8, 3, 5, 1], [6, 7, 5, 3, 1, 9, 2, 8, 4], [5, 3, 8, 5, 2, 4, 9, 7, 6], [5, 6, 1, 4, 8, 2, 7, 9, 3], [7, 2, 4, 8, 3, 5, 6, 1, 8], [3, 8, 9, 7, 6, 1, 4, 2, 5], [8, 1, 6, 2, 9, 3, 5, 4, 7], [2, 5, 3, 1, 4, 7, 8, 6, 9], [4, 9, 1, 8, 5, 6, 1, 3, 2]]\n",
            "Rows violate the requirements!\n",
            "Columns violate the requirements!\n",
            "Diagonal satisfy the requirements!\n",
            "Anti-Diagonal satisfy the requirements!\n",
            "\n",
            "\n",
            "[[3, 1, 8, 6, 4, 5, 7, 9, 2], [7, 9, 4, 2, 8, 1, 6, 5, 3], [6, 2, 5, 3, 9, 7, 1, 8, 4], [4, 8, 2, 1, 6, 3, 5, 7, 9], [5, 3, 6, 8, 7, 9, 4, 2, 1], [9, 7, 1, 4, 5, 2, 3, 6, 8], [2, 4, 9, 5, 1, 6, 8, 3, 7], [1, 6, 3, 7, 2, 8, 9, 4, 5], [8, 5, 7, 9, 3, 4, 2, 1, 6]]\n",
            "Rows satisfy the requirements!\n",
            "Columns satisfy the requirements!\n",
            "Diagonal satisfy the requirements!\n",
            "Anti-Diagonal satisfy the requirements!\n",
            "\n",
            "\n",
            "[[7, 9, 4, 1, 3, 6, 8, 5, 2], [5, 1, 2, 4, 8, 9, 3, 7, 6], [3, 6, 8, 2, 7, 5, 6, 4, 1], [6, 4, 7, 9, 2, 8, 5, 1, 3], [8, 5, 3, 7, 6, 1, 2, 9, 4], [1, 2, 9, 5, 4, 3, 7, 6, 8], [2, 8, 1, 6, 5, 8, 4, 3, 9], [9, 3, 5, 8, 1, 4, 6, 2, 7], [4, 7, 6, 3, 9, 2, 1, 8, 5]]\n",
            "Rows violate the requirements!\n",
            "Columns violate the requirements!\n",
            "Diagonal satisfy the requirements!\n",
            "Anti-Diagonal violate the requirements!\n",
            "\n",
            "\n",
            "[[7, 3, 1, 5, 2, 6, 4, 8, 9], [9, 4, 8, 1, 7, 3, 5, 6, 2], [6, 2, 5, 4, 9, 8, 7, 3, 1], [1, 9, 7, 3, 5, 4, 6, 2, 8], [3, 6, 2, 9, 8, 7, 1, 4, 5], [8, 5, 4, 2, 6, 1, 9, 7, 3], [4, 8, 3, 6, 1, 9, 2, 5, 7], [2, 1, 6, 7, 3, 5, 8, 9, 4], [5, 7, 9, 8, 4, 2, 3, 1, 6]]\n",
            "Rows satisfy the requirements!\n",
            "Columns satisfy the requirements!\n",
            "Diagonal satisfy the requirements!\n",
            "Anti-Diagonal satisfy the requirements!\n",
            "\n",
            "\n",
            "[[7, 8, 6, 1, 9, 4, 5, 3, 2], [9, 4, 3, 2, 5, 8, 1, 6, 7], [1, 2, 5, 6, 3, 7, 8, 4, 9], [4, 9, 2, 8, 7, 5, 6, 1, 3], [6, 5, 7, 9, 1, 3, 4, 2, 8], [8, 3, 1, 4, 6, 2, 9, 7, 5], [2, 6, 9, 7, 8, 1, 3, 5, 4], [5, 7, 8, 3, 4, 6, 2, 9, 1], [3, 1, 4, 5, 2, 9, 7, 8, 6]]\n",
            "Rows satisfy the requirements!\n",
            "Columns satisfy the requirements!\n",
            "Diagonal satisfy the requirements!\n",
            "Anti-Diagonal satisfy the requirements!\n",
            "\n",
            "\n",
            "[[8, 1, 6, 9, 1, 2, 7, 4, 3], [9, 4, 3, 7, 1, 8, 5, 2, 6], [5, 2, 7, 3, 4, 6, 1, 8, 9], [6, 7, 2, 1, 3, 4, 8, 9, 5], [3, 5, 8, 2, 8, 7, 6, 1, 4], [4, 9, 1, 6, 8, 5, 2, 3, 7], [1, 6, 5, 4, 2, 9, 3, 7, 8], [2, 8, 4, 5, 7, 3, 9, 6, 1], [7, 3, 9, 8, 6, 1, 4, 5, 2]]\n",
            "Rows violate the requirements!\n",
            "Columns violate the requirements!\n",
            "Diagonal violate the requirements!\n",
            "Anti-Diagonal violate the requirements!\n",
            "\n",
            "\n"
          ]
        }
      ]
    }
  ]
}