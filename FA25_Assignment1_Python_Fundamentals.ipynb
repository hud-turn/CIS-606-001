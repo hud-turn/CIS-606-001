{
  "cells": [
    {
      "cell_type": "code",
      "execution_count": 2,
      "metadata": {
        "id": "jegOKIwb5AVt"
      },
      "outputs": [],
      "source": [
        "import pickle"
      ]
    },
    {
      "cell_type": "code",
      "execution_count": 3,
      "metadata": {
        "id": "ZIBLcl9uDpkW"
      },
      "outputs": [],
      "source": [
        "# Examine whether all the rows satisify the sudoku requirements\n",
        "# If true, print \"Rows satisfy the requirements!\"\n",
        "# If false, print \"Rows violate the requirements!\"\n",
        "#Test Data\n",
        "##square = [[9, 1, 5, 4, 2, 8, 6, 7, 3], [7, 2, 3, 6, 5, 9, 4, 1, 8], [4, 8, 6, 3, 1, 7, 9, 2, 5], [2, 3, 4, 1, 9, 5, 7, 8, 6], [8, 5, 7, 2, 4, 6, 3, 9, 1], [1, 6, 9, 8, 7, 3, 5, 4, 2], [5, 4, 2, 7, 3, 1, 8, 6, 9], [3, 7, 8, 9, 6, 2, 1, 5, 4], [6, 9, 1, 5, 8, 4, 2, 3, 7]]\n",
        "#squaree = [5, 3, 4, 6, 7, 2, 9, 1, 8]\n",
        "\n",
        "def examine_row(row, orientation):\n",
        "  sortedRows = [0,0,0,0,0,0,0,0,0,0] #our placeholder list that helps us quickly and easily filter for bad values\n",
        "  for i in row:\n",
        "    if i >= 1 and i <=9: #Looking for valid numbers\n",
        "      sortedRows[i] = i #if the number is valid, then the number will be sorted into its corresponding place in the list.\n",
        "  sortedRows.pop(0)\n",
        "  for i in sortedRows: #If our placeholder value 0 is found anywhere in the list then what will happen is it will trigger this statement which will cause the loop to exit.\n",
        "    if i == 0:\n",
        "      return  orientation + \" violate the requirements!\"\n",
        "  return orientation + \" satisfy the requirements!\"\n",
        "\n",
        "def examine_rows(square, orientation):\n",
        "  for row in square:\n",
        "    sortedRows = [0,0,0,0,0,0,0,0,0,0] #our placeholder list that helps us quickly and easily filter for bad values\n",
        "    for i in row:\n",
        "      if i >= 1 and i <=9: #Looking for valid numbers\n",
        "        sortedRows[i] = i #if the number is valid, then the number will be sorted into its corresponding place in the list.\n",
        "    sortedRows.pop(0)\n",
        "    for i in sortedRows: #If our placeholder value 0 is found anywhere in the list then what will happen is it will trigger this statement which will cause the loop to exit.\n",
        "      if i == 0:\n",
        "        return  orientation + \"violate the requirements!\"\n",
        "  return orientation + \"satisfy the requirements!\"\n"
      ]
    },
    {
      "cell_type": "code",
      "execution_count": null,
      "metadata": {
        "id": "p8Gm5pyuDyX4"
      },
      "outputs": [],
      "source": [
        "# Examine whether all the columns satisify the sudoku requirements\n",
        "# If true, print \"Columns satisfy the requirements!\"\n",
        "# If false, print \"Columns violate the requirements!\"\n",
        "#square = [[9, 1, 5, 4, 2, 8, 6, 7, 3], [7, 2, 3, 6, 5, 9, 4, 1, 8], [4, 8, 6, 3, 1, 7, 9, 2, 5], [2, 3, 4, 1, 9, 5, 7, 8, 6], [8, 5, 7, 2, 4, 6, 3, 9, 1], [1, 6, 9, 8, 7, 3, 5, 4, 2], [5, 4, 2, 7, 3, 1, 8, 6, 9], [3, 7, 8, 9, 6, 2, 1, 5, 4], [6, 9, 1, 5, 8, 4, 2, 3, 7]]\n",
        "\n",
        "def examine_columns(square):\n",
        "    colToRow = []\n",
        "    for  i in enumerate(square):\n",
        "        colToRow.append([])\n",
        "    for index0, row in enumerate(square):\n",
        "        for index1, element in enumerate(row):\n",
        "            colToRow[index1].append(element)\n",
        "            #print(f\"index0: {index0}, index1: {index1}, element: {element}\")\n",
        "    return examine_rows(colToRow, \"Columns\")"
      ]
    },
    {
      "cell_type": "code",
      "execution_count": null,
      "metadata": {
        "id": "NjpvC9oED36p"
      },
      "outputs": [],
      "source": [
        "# Examine whether the main diagonal satisifies the sudoku requirement\n",
        "# If true, print \"Main diagonal satisfies the requirement!\"\n",
        "# If false, print \"Main diagonal violates the requirement!\"\n",
        "#square = [[9, 1, 5, 4, 2, 8, 6, 7, 3], [7, 2, 3, 6, 5, 9, 4, 1, 8], [4, 8, 6, 3, 1, 7, 9, 2, 5], [2, 3, 4, 1, 9, 5, 7, 8, 6], [8, 5, 7, 2, 4, 6, 3, 9, 1], [1, 6, 9, 8, 7, 3, 5, 4, 2], [5, 4, 2, 7, 3, 1, 8, 6, 9], [3, 7, 8, 9, 6, 2, 1, 5, 4], [6, 9, 1, 5, 8, 4, 2, 3, 7]]\n",
        "\n",
        "def examine_main_diagonal(square):\n",
        "    placeInRow = min(range(len(square)))\n",
        "    mainDiagonal = []\n",
        "    for row in square:\n",
        "        mainDiagonal.append(row[placeInRow])\n",
        "        placeInRow += 1\n",
        "    return examine_row(mainDiagonal, \"Diagonal\")\n"
      ]
    },
    {
      "cell_type": "code",
      "execution_count": null,
      "metadata": {
        "id": "OXQBN1dmD6US"
      },
      "outputs": [],
      "source": [
        "# Examine whether the antidiagonal satisifies the sudoku requirement\n",
        "# If true, print \"Antidiagonal satisfies the requirement!\"\n",
        "# If false, print \"Antidiagonal violates the requirement!\"\n",
        "\n",
        "#square = [[8, 1, 6, 9, 1, 2, 7, 4, 3], [9, 4, 3, 7, 1, 8, 5, 2, 6], [5, 2, 7, 3, 4, 6, 1, 8, 9], [6, 7, 2, 1, 3, 4, 8, 9, 5], [3, 5, 8, 2, 8, 7, 6, 1, 4], [4, 9, 1, 6, 8, 5, 2, 3, 7], [1, 6, 5, 4, 2, 9, 3, 7, 8], [2, 8, 4, 5, 7, 3, 9, 6, 1], [7, 3, 9, 8, 6, 1, 4, 5, 2]]\n",
        "\n",
        "def examine_antidiagonal(square):\n",
        "  placeInRow = max(range(len(square)))\n",
        "  mainDiagonal = []\n",
        "  for row in square:\n",
        "      mainDiagonal.append(row[placeInRow])\n",
        "      placeInRow -= 1\n",
        "  return examine_row(mainDiagonal, \"Anti-Diagonal\")\n"
      ]
    },
    {
      "cell_type": "code",
      "execution_count": 1,
      "metadata": {
        "colab": {
          "base_uri": "https://localhost:8080/"
        },
        "id": "7iIwy086Me3y",
        "outputId": "72fe7688-1e17-4b73-ee5a-c9e1af28c54c"
      },
      "outputs": [
        {
          "ename": "FileNotFoundError",
          "evalue": "[Errno 2] No such file or directory: '/content/drive/MyDrive/Colab Notebooks/squares.pkl'",
          "output_type": "error",
          "traceback": [
            "\u001b[31m---------------------------------------------------------------------------\u001b[39m",
            "\u001b[31mFileNotFoundError\u001b[39m                         Traceback (most recent call last)",
            "\u001b[36mCell\u001b[39m\u001b[36m \u001b[39m\u001b[32mIn[1]\u001b[39m\u001b[32m, line 51\u001b[39m\n\u001b[32m     48\u001b[39m       placeInRow -= \u001b[32m1\u001b[39m\n\u001b[32m     49\u001b[39m   \u001b[38;5;28;01mreturn\u001b[39;00m examine_row(mainDiagonal, \u001b[33m\"\u001b[39m\u001b[33mAnti-Diagonal\u001b[39m\u001b[33m\"\u001b[39m)\n\u001b[32m---> \u001b[39m\u001b[32m51\u001b[39m \u001b[38;5;28;01mwith\u001b[39;00m \u001b[38;5;28;43mopen\u001b[39;49m\u001b[43m(\u001b[49m\u001b[33;43m'\u001b[39;49m\u001b[33;43m/content/drive/MyDrive/Colab Notebooks/squares.pkl\u001b[39;49m\u001b[33;43m'\u001b[39;49m\u001b[43m,\u001b[49m\u001b[43m \u001b[49m\u001b[33;43m'\u001b[39;49m\u001b[33;43mrb\u001b[39;49m\u001b[33;43m'\u001b[39;49m\u001b[43m)\u001b[49m \u001b[38;5;28;01mas\u001b[39;00m file:\n\u001b[32m     52\u001b[39m     \u001b[38;5;66;03m# squares_to_test is a list of two-dimensional lists,\u001b[39;00m\n\u001b[32m     53\u001b[39m     \u001b[38;5;66;03m# i.e., every item in squares_to_test is a two-dimensional list\u001b[39;00m\n\u001b[32m     54\u001b[39m     squares_to_test = pickle.load(file)\n\u001b[32m     55\u001b[39m     \u001b[38;5;28;01mfor\u001b[39;00m square_to_test \u001b[38;5;129;01min\u001b[39;00m squares_to_test:\n",
            "\u001b[36mFile \u001b[39m\u001b[32m~/.cache/pypoetry/virtualenvs/cis-606-001-5Hsersw2-py3.12/lib/python3.12/site-packages/IPython/core/interactiveshell.py:343\u001b[39m, in \u001b[36m_modified_open\u001b[39m\u001b[34m(file, *args, **kwargs)\u001b[39m\n\u001b[32m    336\u001b[39m \u001b[38;5;28;01mif\u001b[39;00m file \u001b[38;5;129;01min\u001b[39;00m {\u001b[32m0\u001b[39m, \u001b[32m1\u001b[39m, \u001b[32m2\u001b[39m}:\n\u001b[32m    337\u001b[39m     \u001b[38;5;28;01mraise\u001b[39;00m \u001b[38;5;167;01mValueError\u001b[39;00m(\n\u001b[32m    338\u001b[39m         \u001b[33mf\u001b[39m\u001b[33m\"\u001b[39m\u001b[33mIPython won\u001b[39m\u001b[33m'\u001b[39m\u001b[33mt let you open fd=\u001b[39m\u001b[38;5;132;01m{\u001b[39;00mfile\u001b[38;5;132;01m}\u001b[39;00m\u001b[33m by default \u001b[39m\u001b[33m\"\u001b[39m\n\u001b[32m    339\u001b[39m         \u001b[33m\"\u001b[39m\u001b[33mas it is likely to crash IPython. If you know what you are doing, \u001b[39m\u001b[33m\"\u001b[39m\n\u001b[32m    340\u001b[39m         \u001b[33m\"\u001b[39m\u001b[33myou can use builtins\u001b[39m\u001b[33m'\u001b[39m\u001b[33m open.\u001b[39m\u001b[33m\"\u001b[39m\n\u001b[32m    341\u001b[39m     )\n\u001b[32m--> \u001b[39m\u001b[32m343\u001b[39m \u001b[38;5;28;01mreturn\u001b[39;00m \u001b[43mio_open\u001b[49m\u001b[43m(\u001b[49m\u001b[43mfile\u001b[49m\u001b[43m,\u001b[49m\u001b[43m \u001b[49m\u001b[43m*\u001b[49m\u001b[43margs\u001b[49m\u001b[43m,\u001b[49m\u001b[43m \u001b[49m\u001b[43m*\u001b[49m\u001b[43m*\u001b[49m\u001b[43mkwargs\u001b[49m\u001b[43m)\u001b[49m\n",
            "\u001b[31mFileNotFoundError\u001b[39m: [Errno 2] No such file or directory: '/content/drive/MyDrive/Colab Notebooks/squares.pkl'"
          ]
        }
      ],
      "source": [
        "# Load the squares (i.e., list of two-dimensional lists) to be examined from the pickle file:\n",
        "def examine_row(row, orientation):\n",
        "        sortedRows = [0,0,0,0,0,0,0,0,0,0] #our placeholder list that helps us quickly and easily filter for bad values\n",
        "        for i in row:\n",
        "            if i >= 1 and i <=9: #Looking for valid numbers\n",
        "                sortedRows[i] = i #if the number is valid, then the number will be sorted into its corresponding place in the list.\n",
        "        sortedRows.pop(0)\n",
        "        for i in sortedRows: #If our placeholder value 0 is found anywhere in the list then what will happen is it will trigger this statement which will cause the loop to exit.\n",
        "            if i == 0:\n",
        "                return  orientation + \" violate the requirements!\"\n",
        "        return orientation + \" satisfy the requirements!\"\n",
        "\n",
        "def examine_rows(square, orientation):\n",
        "  for row in square:\n",
        "    sortedRows = [0,0,0,0,0,0,0,0,0,0] #our placeholder list that helps us quickly and easily filter for bad values\n",
        "    for i in row:\n",
        "      if i >= 1 and i <=9: #Looking for valid numbers\n",
        "        sortedRows[i] = i #if the number is valid, then the number will be sorted into its corresponding place in the list.\n",
        "    sortedRows.pop(0)\n",
        "    for i in sortedRows: #If our placeholder value 0 is found anywhere in the list then what will happen is it will trigger this statement which will cause the loop to exit.\n",
        "      if i == 0:\n",
        "        return  orientation + \" violate the requirements!\"\n",
        "  return orientation + \" satisfy the requirements!\"\n",
        "\n",
        "def examine_columns(square):\n",
        "    colToRow = []\n",
        "    for  i in enumerate(square):\n",
        "        colToRow.append([])\n",
        "    for index0, row in enumerate(square):\n",
        "        for index1, element in enumerate(row):\n",
        "            colToRow[index1].append(element)\n",
        "            #print(f\"index0: {index0}, index1: {index1}, element: {element}\")\n",
        "    return examine_rows(colToRow, \"Columns\")\n",
        "\n",
        "def examine_main_diagonal(square):\n",
        "    placeInRow = min(range(len(square)))\n",
        "    mainDiagonal = []\n",
        "    for row in square:\n",
        "        mainDiagonal.append(row[placeInRow])\n",
        "        placeInRow += 1\n",
        "    return examine_row(mainDiagonal, \"Diagonal\")\n",
        "\n",
        "def examine_antidiagonal(square):\n",
        "  placeInRow = max(range(len(square)))\n",
        "  mainDiagonal = []\n",
        "  for row in square:\n",
        "      mainDiagonal.append(row[placeInRow])\n",
        "      placeInRow -= 1\n",
        "  return examine_row(mainDiagonal, \"Anti-Diagonal\")\n",
        "\n",
        "with open('/content/drive/MyDrive/Colab Notebooks/squares.pkl', 'rb') as file:\n",
        "    # squares_to_test is a list of two-dimensional lists,\n",
        "    # i.e., every item in squares_to_test is a two-dimensional list\n",
        "    squares_to_test = pickle.load(file)\n",
        "    for square_to_test in squares_to_test:\n",
        "      print(square_to_test) # Every square_to_test is a two-dimensional list for you to examine\n",
        "      \"\"\"\n",
        "      Please add code here to check if the two-dimensional list named square_to_test satisfies the sudoku requirements\n",
        "      for rows, columns, main diagonal, and antidiagonal\n",
        "\n",
        "      Although sudoku squares have some additional requirements, we ignore them for this assignment\n",
        "\n",
        "      Please also fill the functions in this notebook for keeping good structure and reducing reduandancy\n",
        "\n",
        "      \"\"\"\n",
        "      # Add code here\n",
        "      print(examine_rows(square_to_test, \"Rows\"))\n",
        "      print(examine_columns(square_to_test))\n",
        "      print(examine_main_diagonal(square_to_test))\n",
        "      print(examine_antidiagonal(square_to_test))\n",
        "      print(\"\\n\")\n",
        "    file.close"
      ]
    }
  ],
  "metadata": {
    "colab": {
      "provenance": []
    },
    "kernelspec": {
      "display_name": "cis-606-001",
      "language": "python",
      "name": "python3"
    },
    "language_info": {
      "codemirror_mode": {
        "name": "ipython",
        "version": 3
      },
      "file_extension": ".py",
      "mimetype": "text/x-python",
      "name": "python",
      "nbconvert_exporter": "python",
      "pygments_lexer": "ipython3",
      "version": "3.12.3"
    }
  },
  "nbformat": 4,
  "nbformat_minor": 0
}
