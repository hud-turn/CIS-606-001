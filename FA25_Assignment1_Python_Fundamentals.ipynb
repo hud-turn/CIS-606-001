{
  "cells": [
    {
      "cell_type": "code",
      "execution_count": 1,
      "metadata": {
        "id": "jegOKIwb5AVt"
      },
      "outputs": [],
      "source": [
        "import pickle"
      ]
    },
    {
      "cell_type": "code",
      "execution_count": null,
      "metadata": {
        "colab": {
          "base_uri": "https://localhost:8080/"
        },
        "id": "ZIBLcl9uDpkW",
        "outputId": "e9a9b5c4-58f2-42c7-ced2-5e4fc16831d9"
      },
      "outputs": [
        {
          "name": "stdout",
          "output_type": "stream",
          "text": [
            "None\n"
          ]
        }
      ],
      "source": [
        "# Examine whether all the rows satisify the sudoku requirements\n",
        "# If true, print \"Rows satisfy the requirements!\"\n",
        "# If false, print \"Rows violate the requirements!\"\n",
        "#Test Data\n",
        "#square = [[9, 1, 5, 4, 2, 8, 6, 7, 3], [7, 2, 3, 6, 5, 9, 4, 1, 8], [4, 8, 6, 3, 1, 7, 9, 2, 5], [2, 3, 4, 1, 9, 5, 7, 8, 6], [8, 5, 7, 2, 4, 6, 3, 9, 1], [1, 6, 9, 8, 7, 3, 5, 4, 2], [5, 4, 2, 7, 3, 1, 8, 6, 9], [3, 7, 8, 9, 6, 2, 1, 5, 4], [6, 9, 1, 5, 8, 4, 2, 3, 7]]\n",
        "#squaree = [5, 3, 4, 6, 7, 2, 9, 1, 8]\n",
        "\n",
        "def examine_rows(square, orientation):\n",
        "  for row in square:\n",
        "    sortedRows = [0,0,0,0,0,0,0,0,0,0] #our placeholder list that helps us quickly and easily filter for bad values\n",
        "    for i in row:\n",
        "      if i >= 1 and i <=9: #Looking for valid numbers\n",
        "        sortedRows[i] = i #if the number is valid, then the number will be sorted into its corresponding place in the list.\n",
        "    sortedRows.pop(0)\n",
        "    for i in sortedRows: #If our placeholder value 0 is found anywhere in the list then what will happen is it will trigger this statement which will cause the loop to exit.\n",
        "      if i == 0:\n",
        "        return  orientation + \"violate the requirements!\"\n",
        "  return orientation + \"satisfy the requirements!\"\n",
        "\n",
        "print(examine_rows(square, \"Rows \"))\n"
      ]
    },
    {
      "cell_type": "code",
      "execution_count": null,
      "metadata": {
        "id": "p8Gm5pyuDyX4"
      },
      "outputs": [],
      "source": [
        "# Examine whether all the columns satisify the sudoku requirements\n",
        "# If true, print \"Columns satisfy the requirements!\"\n",
        "# If false, print \"Columns violate the requirements!\"\n",
        "#square = [[9, 1, 5, 4, 2, 8, 6, 7, 3], [7, 2, 3, 6, 5, 9, 4, 1, 8], [4, 8, 6, 3, 1, 7, 9, 2, 5], [2, 3, 4, 1, 9, 5, 7, 8, 6], [8, 5, 7, 2, 4, 6, 3, 9, 1], [1, 6, 9, 8, 7, 3, 5, 4, 2], [5, 4, 2, 7, 3, 1, 8, 6, 9], [3, 7, 8, 9, 6, 2, 1, 5, 4], [6, 9, 1, 5, 8, 4, 2, 3, 7]]\n",
        "\n",
        "def examine_columns(square):\n",
        "    colToRow = []\n",
        "    for  i in enumerate(square):\n",
        "        colToRow.append([])\n",
        "    for index0, row in enumerate(square):\n",
        "        for index1, element in enumerate(row):\n",
        "            colToRow[index1].append(element)\n",
        "            #print(f\"index0: {index0}, index1: {index1}, element: {element}\")\n",
        "    return examine_rows(colToRow, \"Columns\")\n",
        "\n",
        "examine_columns(square)\n",
        ""
      ]
    },
    {
      "cell_type": "code",
      "execution_count": null,
      "metadata": {
        "id": "NjpvC9oED36p",
        "outputId": "5e536325-ae5a-4211-b5ba-0679d2b6da6f"
      },
      "outputs": [
        {
          "name": "stdout",
          "output_type": "stream",
          "text": [
            "Diagonal satisfy the requirements!\n"
          ]
        }
      ],
      "source": [
        "# Examine whether the main diagonal satisifies the sudoku requirement\n",
        "# If true, print \"Main diagonal satisfies the requirement!\"\n",
        "# If false, print \"Main diagonal violates the requirement!\"\n",
        "#square = [[9, 1, 5, 4, 2, 8, 6, 7, 3], [7, 2, 3, 6, 5, 9, 4, 1, 8], [4, 8, 6, 3, 1, 7, 9, 2, 5], [2, 3, 4, 1, 9, 5, 7, 8, 6], [8, 5, 7, 2, 4, 6, 3, 9, 1], [1, 6, 9, 8, 7, 3, 5, 4, 2], [5, 4, 2, 7, 3, 1, 8, 6, 9], [3, 7, 8, 9, 6, 2, 1, 5, 4], [6, 9, 1, 5, 8, 4, 2, 3, 7]]\n",
        "\n",
        "def examine_row(row, orientation):\n",
        "  sortedRows = [0,0,0,0,0,0,0,0,0,0] #our placeholder list that helps us quickly and easily filter for bad values\n",
        "  for i in row:\n",
        "    if i >= 1 and i <=9: #Looking for valid numbers\n",
        "      sortedRows[i] = i #if the number is valid, then the number will be sorted into its corresponding place in the list.\n",
        "  sortedRows.pop(0)\n",
        "  for i in sortedRows: #If our placeholder value 0 is found anywhere in the list then what will happen is it will trigger this statement which will cause the loop to exit.\n",
        "    if i == 0:\n",
        "      return  orientation + \" violate the requirements!\"\n",
        "  return orientation + \" satisfy the requirements!\"\n",
        "\n",
        "def examine_main_diagonal(square):\n",
        "    placeInRow = min(range(len(square)))\n",
        "    mainDiagonal = []\n",
        "    for row in square:\n",
        "        mainDiagonal.append(row[placeInRow])\n",
        "        placeInRow += 1\n",
        "    return examine_row(mainDiagonal, \"Diagonal\")\n",
        "\n",
        "\n",
        "print(examine_main_diagonal(square))"
      ]
    },
    {
      "cell_type": "code",
      "execution_count": null,
      "metadata": {
        "id": "OXQBN1dmD6US",
        "outputId": "ccfb1856-46e2-4589-eb0f-4bf40edf4846"
      },
      "outputs": [
        {
          "name": "stdout",
          "output_type": "stream",
          "text": [
            "Diagonal violate the requirements!\n"
          ]
        }
      ],
      "source": [
        "# Examine whether the antidiagonal satisifies the sudoku requirement\n",
        "# If true, print \"Antidiagonal satisfies the requirement!\"\n",
        "# If false, print \"Antidiagonal violates the requirement!\"\n",
        "\n",
        "square = [[8, 1, 6, 9, 1, 2, 7, 4, 3], [9, 4, 3, 7, 1, 8, 5, 2, 6], [5, 2, 7, 3, 4, 6, 1, 8, 9], [6, 7, 2, 1, 3, 4, 8, 9, 5], [3, 5, 8, 2, 8, 7, 6, 1, 4], [4, 9, 1, 6, 8, 5, 2, 3, 7], [1, 6, 5, 4, 2, 9, 3, 7, 8], [2, 8, 4, 5, 7, 3, 9, 6, 1], [7, 3, 9, 8, 6, 1, 4, 5, 2]]\n",
        "\n",
        "def examine_row(row, orientation):\n",
        "  sortedRows = [0,0,0,0,0,0,0,0,0,0] #our placeholder list that helps us quickly and easily filter for bad values\n",
        "  for i in row:\n",
        "    if i >= 1 and i <=9: #Looking for valid numbers\n",
        "      sortedRows[i] = i #if the number is valid, then the number will be sorted into its corresponding place in the list.\n",
        "  sortedRows.pop(0)\n",
        "  for i in sortedRows: #If our placeholder value 0 is found anywhere in the list then what will happen is it will trigger this statement which will cause the loop to exit.\n",
        "    if i == 0:\n",
        "      return  orientation + \" violate the requirements!\"\n",
        "  return orientation + \" satisfy the requirements!\"\n",
        "\n",
        "def examine_antidiagonal(square):\n",
        "  placeInRow = max(range(len(square)))\n",
        "  mainDiagonal = []\n",
        "  for row in square:\n",
        "      mainDiagonal.append(row[placeInRow])\n",
        "      placeInRow -= 1\n",
        "  return examine_row(mainDiagonal, \"Anti-Diagonal\")\n",
        "\n",
        "print (examine_antidiagonal(square))"
      ]
    },
    {
      "cell_type": "code",
      "execution_count": null,
      "metadata": {
        "id": "7iIwy086Me3y"
      },
      "outputs": [],
      "source": [
        "# Load the squares (i.e., list of two-dimensional lists) to be examined from the pickle file:\n",
        "import pickle\n",
        "\n",
        "def examine_row(row, orientation):\n",
        "  sortedRows = [0,0,0,0,0,0,0,0,0,0] #our placeholder list that helps us quickly and easily filter for bad values\n",
        "  for i in row:\n",
        "    if i >= 1 and i <=9: #Looking for valid numbers\n",
        "      sortedRows[i] = i #if the number is valid, then the number will be sorted into its corresponding place in the list.\n",
        "  sortedRows.pop(0)\n",
        "  for i in sortedRows: #If our placeholder value 0 is found anywhere in the list then what will happen is it will trigger this statement which will cause the loop to exit.\n",
        "    if i == 0:\n",
        "      return  orientation + \" violate the requirements!\"\n",
        "  return orientation + \" satisfy the requirements!\"\n",
        "\n",
        "def examine_rows(square, orientation):\n",
        "  for row in square:\n",
        "    sortedRows = [0,0,0,0,0,0,0,0,0,0] #our placeholder list that helps us quickly and easily filter for bad values\n",
        "    for i in row:\n",
        "      if i >= 1 and i <=9: #Looking for valid numbers\n",
        "        sortedRows[i] = i #if the number is valid, then the number will be sorted into its corresponding place in the list.\n",
        "    sortedRows.pop(0)\n",
        "    for i in sortedRows: #If our placeholder value 0 is found anywhere in the list then what will happen is it will trigger this statement which will cause the loop to exit.\n",
        "      if i == 0:\n",
        "        return  orientation + \" violate the requirements!\"\n",
        "  return orientation + \" satisfy the requirements!\"\n",
        "\n",
        "def examine_columns(square):\n",
        "    colToRow = []\n",
        "    for  i in enumerate(square):\n",
        "        colToRow.append([])\n",
        "    for index0, row in enumerate(square):\n",
        "        for index1, element in enumerate(row):\n",
        "            colToRow[index1].append(element)\n",
        "            #print(f\"index0: {index0}, index1: {index1}, element: {element}\")\n",
        "    return examine_rows(colToRow, \"Columns\")\n",
        "\n",
        "def examine_main_diagonal(square):\n",
        "    placeInRow = min(range(len(square)))\n",
        "    mainDiagonal = []\n",
        "    for row in square:\n",
        "        mainDiagonal.append(row[placeInRow])\n",
        "        placeInRow += 1\n",
        "    return examine_row(mainDiagonal, \"Diagonal\")\n",
        "\n",
        "def examine_antidiagonal(square):\n",
        "  placeInRow = max(range(len(square)))\n",
        "  mainDiagonal = []\n",
        "  for row in square:\n",
        "      mainDiagonal.append(row[placeInRow])\n",
        "      placeInRow -= 1\n",
        "  return examine_row(mainDiagonal, \"Anti-Diagonal\")\n",
        "\n",
        "with open('/content/drive/MyDrive/Colab Notebooks/squares.pkl', 'rb') as file:\n",
        "    # squares_to_test is a list of two-dimensional lists,\n",
        "    # i.e., every item in squares_to_test is a two-dimensional list\n",
        "    squares_to_test = pickle.load(file)\n",
        "    for square_to_test in squares_to_test:\n",
        "      print(square_to_test) # Every square_to_test is a two-dimensional list for you to examine\n",
        "      \"\"\"\n",
        "      Please add code here to check if the two-dimensional list named square_to_test satisfies the sudoku requirements\n",
        "      for rows, columns, main diagonal, and antidiagonal\n",
        "\n",
        "      Although sudoku squares have some additional requirements, we ignore them for this assignment\n",
        "\n",
        "      Please also fill the functions in this notebook for keeping good structure and reducing reduandancy\n",
        "\n",
        "      \"\"\"\n",
        "      # Add code here\n",
        "      print(examine_rows(square_to_test, \"Rows\"))\n",
        "      print(examine_columns(square_to_test))\n",
        "      print(examine_main_diagonal(square_to_test))\n",
        "      print(examine_antidiagonal(square_to_test))\n",
        "      print(\"\\n\")\n",
        "    file.close"
      ]
    },
    {
      "cell_type": "code",
      "execution_count": null,
      "metadata": {
        "id": "mcJ82-5rQcQD"
      },
      "outputs": [],
      "source": []
    }
  ],
  "metadata": {
    "colab": {
      "provenance": []
    },
    "kernelspec": {
      "display_name": "venv",
      "language": "python",
      "name": "python3"
    },
    "language_info": {
      "codemirror_mode": {
        "name": "ipython",
        "version": 3
      },
      "file_extension": ".py",
      "mimetype": "text/x-python",
      "name": "python",
      "nbconvert_exporter": "python",
      "pygments_lexer": "ipython3",
      "version": "3.12.3"
    }
  },
  "nbformat": 4,
  "nbformat_minor": 0
}